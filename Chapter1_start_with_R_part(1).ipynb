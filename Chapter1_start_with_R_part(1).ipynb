{
 "cells": [
  {
   "cell_type": "markdown",
   "metadata": {},
   "source": [
    "## The contents include:\n",
    "\n",
    "* 1. Installing and Library packages\n",
    "* 2. Reading and writing data\n",
    "* 3. Filtering and Subsetting data\n",
    "* 4. Basic Statistical Operations\n",
    "\n",
    "## 1. Installing and Library packages"
   ]
  },
  {
   "cell_type": "markdown",
   "metadata": {},
   "source": [
    "### Three ways to install packages:\n",
    "\n",
    "1、By selecting the menu in the R software, it will need a internet connection:\n",
    "  * From the `Packages` menu in the toolbar, select `Install package(s)....`\n",
    "  * We can choose the packages we want in the pop-up dialog box, and then OK.\n",
    "   \n",
    "2、By using the command: \n",
    "> options(repos=structure(c(CRAN=\"https://mirrors.tuna.tsinghua.edu.cn/CRAN/\")))  ### choose a better mirror\n",
    "> install.packages(\"packagename\",\"dir\")\n",
    "\n",
    "oR \n",
    "\n",
    "> if (!requireNamespace(\"BiocManager\", quietly = TRUE))  \n",
    "> install.packages(\"BiocManager\")   \n",
    "> BiocManager::install(\"biomaRt\")\n",
    "\n",
    "3、By local files to install:\n",
    "  First, download the corresponding package compressed file: In windows, unix, macOS operating system installation file extension is not the same: \n",
    "  1) linux environment compile and run: tar.gz file\n",
    "  2) windows environment compile and run: .zip file\n",
    "  3) MacOSg environment compile and run: .tgz file\n",
    "  \n",
    "  Second, type the following commmand to install:\n",
    "> install.packages(\"path/to/mypackage.tar.gz\", repos = NULL, type=\"source\")\n",
    "\n",
    "Or from the R toolbar, choose `Packages` menu, select`Install package(s) from local files...`"
   ]
  },
  {
   "cell_type": "code",
   "execution_count": 1,
   "metadata": {},
   "outputs": [
    {
     "name": "stderr",
     "output_type": "stream",
     "text": [
      "Bioconductor version 3.9 (BiocManager 1.30.10), R 3.6.2 (2019-12-12)\n",
      "\n",
      "Installing package(s) 'biomaRt'\n",
      "\n"
     ]
    },
    {
     "name": "stdout",
     "output_type": "stream",
     "text": [
      "package 'biomaRt' successfully unpacked and MD5 sums checked\n",
      "\n",
      "The downloaded binary packages are in\n",
      "\tC:\\Users\\Master\\AppData\\Local\\Temp\\RtmponWTbe\\downloaded_packages\n"
     ]
    },
    {
     "name": "stderr",
     "output_type": "stream",
     "text": [
      "Old packages: 'BH', 'bit', 'caTools', 'cli', 'fansi', 'GetoptLong', 'ggridges',\n",
      "  'gplots', 'hms', 'multcomp', 'mvtnorm', 'precrec', 'prettyunits', 'pROC',\n",
      "  'RSQLite', 'Rttf2pt1', 'shinyjs', 'stringi', 'tinytex', 'xfun', 'zoo'\n",
      "\n",
      "Bioconductor version 3.9 (BiocManager 1.30.10), R 3.6.2 (2019-12-12)\n",
      "\n",
      "Installing package(s) 'dplyr'\n",
      "\n"
     ]
    },
    {
     "name": "stdout",
     "output_type": "stream",
     "text": [
      "package 'dplyr' successfully unpacked and MD5 sums checked\n",
      "\n",
      "The downloaded binary packages are in\n",
      "\tC:\\Users\\Master\\AppData\\Local\\Temp\\RtmponWTbe\\downloaded_packages\n"
     ]
    },
    {
     "name": "stderr",
     "output_type": "stream",
     "text": [
      "Old packages: 'BH', 'bit', 'caTools', 'cli', 'fansi', 'GetoptLong', 'ggridges',\n",
      "  'gplots', 'hms', 'multcomp', 'mvtnorm', 'precrec', 'prettyunits', 'pROC',\n",
      "  'RSQLite', 'Rttf2pt1', 'shinyjs', 'stringi', 'tinytex', 'xfun', 'zoo'\n",
      "\n"
     ]
    }
   ],
   "source": [
    "# options(repos=structure(c(CRAN=\"http://mirrors.tuna.tsinghua.edu.cn/CRAN/\")))\n",
    "# install.packages(\"dplyr\")\n",
    "if (!requireNamespace(\"BiocManager\", quietly = TRUE))\n",
    "    install.packages(\"BiocManager\")\n",
    "\n",
    "\n",
    "BiocManager::install(\"biomaRt\")\n",
    "BiocManager::install(\"dplyr\")"
   ]
  },
  {
   "cell_type": "code",
   "execution_count": 2,
   "metadata": {},
   "outputs": [
    {
     "name": "stderr",
     "output_type": "stream",
     "text": [
      "\n",
      "Attaching package: 'dplyr'\n",
      "\n",
      "\n",
      "The following object is masked from 'package:biomaRt':\n",
      "\n",
      "    select\n",
      "\n",
      "\n",
      "The following objects are masked from 'package:stats':\n",
      "\n",
      "    filter, lag\n",
      "\n",
      "\n",
      "The following objects are masked from 'package:base':\n",
      "\n",
      "    intersect, setdiff, setequal, union\n",
      "\n",
      "\n"
     ]
    }
   ],
   "source": [
    "library(biomaRt)\n",
    "library(dplyr)"
   ]
  },
  {
   "cell_type": "markdown",
   "metadata": {},
   "source": [
    "## 2. Reading and Writing Data\n",
    "\n",
    "Before we start with analyzing any data, we must read it into R workspace. Not only an external R object (typical file extensions are `.rda` or `.RData`, but also an internal R object for a package or a TXT, CSV, or Excel file can be loaded into the R console. \n",
    "At first, learn to find and set the working directory, which is convenient for me to find the files."
   ]
  },
  {
   "cell_type": "code",
   "execution_count": 5,
   "metadata": {},
   "outputs": [
    {
     "data": {
      "text/html": [
       "'C:/Users/Master/1. jupyter/1. Bioinformatics with R/Chapter-1-bio-start-with-R-master'"
      ],
      "text/latex": [
       "'C:/Users/Master/1. jupyter/1. Bioinformatics with R/Chapter-1-bio-start-with-R-master'"
      ],
      "text/markdown": [
       "'C:/Users/Master/1. jupyter/1. Bioinformatics with R/Chapter-1-bio-start-with-R-master'"
      ],
      "text/plain": [
       "[1] \"C:/Users/Master/1. jupyter/1. Bioinformatics with R/Chapter-1-bio-start-with-R-master\""
      ]
     },
     "metadata": {},
     "output_type": "display_data"
    }
   ],
   "source": [
    "getwd() ## Get the current working directory"
   ]
  },
  {
   "cell_type": "code",
   "execution_count": null,
   "metadata": {},
   "outputs": [],
   "source": [
    "## Change to a desired directory, by the command:\n",
    "setwd(\"D:/Example/file/folder\")   ## you could change it with your interest "
   ]
  },
  {
   "cell_type": "markdown",
   "metadata": {},
   "source": [
    "## 3. Reading and Writing Data\n",
    "\n",
    "The following steps: \n",
    "* [3.1. Creating data frames](https://github.com/Chengshu21/bio-start-with-R/blob/master/Chapter%201/reading%20and%20writing%20data.md#3.1-creating-data-frames)\n",
    "* [3.2. Writing data)](https://github.com/Chengshu21/bio-start-with-R/blob/master/Chapter%201/reading%20and%20writing%20data.md#3.2-writing-data)\n",
    "* [3.3. Reading data](https://github.com/Chengshu21/bio-start-with-R/blob/master/Chapter%201/reading%20and%20writing%20data.md#3.3-reading-data)\n",
    "\n",
    "If there is a dataset existed in the package, use `data()` to get an access to the dataset."
   ]
  },
  {
   "cell_type": "code",
   "execution_count": 8,
   "metadata": {},
   "outputs": [
    {
     "data": {
      "text/html": [
       "<table>\n",
       "<caption>A data.frame: 6 × 3</caption>\n",
       "<thead>\n",
       "\t<tr><th scope=col>obs</th><th scope=col>treat</th><th scope=col>weight</th></tr>\n",
       "\t<tr><th scope=col>&lt;dbl&gt;</th><th scope=col>&lt;fct&gt;</th><th scope=col>&lt;dbl&gt;</th></tr>\n",
       "</thead>\n",
       "<tbody>\n",
       "\t<tr><td>1</td><td>A</td><td>2.3</td></tr>\n",
       "\t<tr><td>2</td><td>B</td><td> NA</td></tr>\n",
       "\t<tr><td>3</td><td>A</td><td>9.0</td></tr>\n",
       "\t<tr><td>4</td><td>A</td><td>8.0</td></tr>\n",
       "\t<tr><td>5</td><td>O</td><td>4.0</td></tr>\n",
       "\t<tr><td>6</td><td>B</td><td>7.0</td></tr>\n",
       "</tbody>\n",
       "</table>\n"
      ],
      "text/latex": [
       "A data.frame: 6 × 3\n",
       "\\begin{tabular}{lll}\n",
       " obs & treat & weight\\\\\n",
       " <dbl> & <fct> & <dbl>\\\\\n",
       "\\hline\n",
       "\t 1 & A & 2.3\\\\\n",
       "\t 2 & B &  NA\\\\\n",
       "\t 3 & A & 9.0\\\\\n",
       "\t 4 & A & 8.0\\\\\n",
       "\t 5 & O & 4.0\\\\\n",
       "\t 6 & B & 7.0\\\\\n",
       "\\end{tabular}\n"
      ],
      "text/markdown": [
       "\n",
       "A data.frame: 6 × 3\n",
       "\n",
       "| obs &lt;dbl&gt; | treat &lt;fct&gt; | weight &lt;dbl&gt; |\n",
       "|---|---|---|\n",
       "| 1 | A | 2.3 |\n",
       "| 2 | B |  NA |\n",
       "| 3 | A | 9.0 |\n",
       "| 4 | A | 8.0 |\n",
       "| 5 | O | 4.0 |\n",
       "| 6 | B | 7.0 |\n",
       "\n"
      ],
      "text/plain": [
       "  obs treat weight\n",
       "1 1   A     2.3   \n",
       "2 2   B      NA   \n",
       "3 3   A     9.0   \n",
       "4 4   A     8.0   \n",
       "5 5   O     4.0   \n",
       "6 6   B     7.0   "
      ]
     },
     "metadata": {},
     "output_type": "display_data"
    }
   ],
   "source": [
    "## create a object \"d\", it's a data frame\n",
    "d <- data.frame(obs = c(1, 2, 3, 4, 5, 6), \n",
    "                treat = c(\"A\", \"B\", \"A\", \"A\", \"O\", \"B\"), \n",
    "                weight = c(2.3, NA, 9, 8, 4, 7))\n",
    "d"
   ]
  },
  {
   "cell_type": "code",
   "execution_count": 23,
   "metadata": {},
   "outputs": [],
   "source": [
    "## Writing data into a TXT, CSV, or XLSX file and even a .RData\n",
    "#### A TXT file\n",
    "write.table(d, file = \"F:/d.txt\", row.names = F, quote = T, sep = \"\\t\")\n",
    "\n",
    "#### A CSV file\n",
    "write.csv(d, file = \"F:/d.csv\", row.names = F,quote = F)\n",
    "\n",
    "#### .RData\n",
    "save(d, file = \"F:/d.RData\")\n",
    "\n",
    "#### .RDS\n",
    "saveRDS(d, file = \"F:/d.RDS\")"
   ]
  },
  {
   "cell_type": "code",
   "execution_count": 12,
   "metadata": {},
   "outputs": [
    {
     "name": "stderr",
     "output_type": "stream",
     "text": [
      "Bioconductor version 3.9 (BiocManager 1.30.10), R 3.6.2 (2019-12-12)\n",
      "\n",
      "Installing package(s) 'openxlsx'\n",
      "\n"
     ]
    },
    {
     "name": "stdout",
     "output_type": "stream",
     "text": [
      "package 'openxlsx' successfully unpacked and MD5 sums checked\n",
      "\n",
      "The downloaded binary packages are in\n",
      "\tC:\\Users\\Master\\AppData\\Local\\Temp\\RtmponWTbe\\downloaded_packages\n"
     ]
    },
    {
     "name": "stderr",
     "output_type": "stream",
     "text": [
      "Old packages: 'BH', 'bit', 'caTools', 'cli', 'fansi', 'GetoptLong', 'ggridges',\n",
      "  'gplots', 'hms', 'multcomp', 'mvtnorm', 'precrec', 'prettyunits', 'pROC',\n",
      "  'RSQLite', 'Rttf2pt1', 'shinyjs', 'stringi', 'tinytex', 'xfun', 'zoo'\n",
      "\n"
     ]
    }
   ],
   "source": [
    "## read and write .xlsx file need R package \"openxlsx\"\n",
    "BiocManager::install(\"openxlsx\")\n",
    "library(openxlsx)"
   ]
  },
  {
   "cell_type": "code",
   "execution_count": 24,
   "metadata": {},
   "outputs": [],
   "source": [
    "#### A xlsx file\n",
    "write.xlsx(d, file = \"F:/d.xlsx\", row.names = F,quote = F)"
   ]
  },
  {
   "cell_type": "code",
   "execution_count": 29,
   "metadata": {},
   "outputs": [
    {
     "data": {
      "text/html": [
       "<table>\n",
       "<caption>A data.frame: 7 × 3</caption>\n",
       "<thead>\n",
       "\t<tr><th scope=col>V1</th><th scope=col>V2</th><th scope=col>V3</th></tr>\n",
       "\t<tr><th scope=col>&lt;fct&gt;</th><th scope=col>&lt;fct&gt;</th><th scope=col>&lt;fct&gt;</th></tr>\n",
       "</thead>\n",
       "<tbody>\n",
       "\t<tr><td>obs</td><td>treat</td><td>weight</td></tr>\n",
       "\t<tr><td>1  </td><td>A    </td><td>2.3   </td></tr>\n",
       "\t<tr><td>2  </td><td>B    </td><td>NA    </td></tr>\n",
       "\t<tr><td>3  </td><td>A    </td><td>9     </td></tr>\n",
       "\t<tr><td>4  </td><td>A    </td><td>8     </td></tr>\n",
       "\t<tr><td>5  </td><td>O    </td><td>4     </td></tr>\n",
       "\t<tr><td>6  </td><td>B    </td><td>7     </td></tr>\n",
       "</tbody>\n",
       "</table>\n"
      ],
      "text/latex": [
       "A data.frame: 7 × 3\n",
       "\\begin{tabular}{lll}\n",
       " V1 & V2 & V3\\\\\n",
       " <fct> & <fct> & <fct>\\\\\n",
       "\\hline\n",
       "\t obs & treat & weight\\\\\n",
       "\t 1   & A     & 2.3   \\\\\n",
       "\t 2   & B     & NA    \\\\\n",
       "\t 3   & A     & 9     \\\\\n",
       "\t 4   & A     & 8     \\\\\n",
       "\t 5   & O     & 4     \\\\\n",
       "\t 6   & B     & 7     \\\\\n",
       "\\end{tabular}\n"
      ],
      "text/markdown": [
       "\n",
       "A data.frame: 7 × 3\n",
       "\n",
       "| V1 &lt;fct&gt; | V2 &lt;fct&gt; | V3 &lt;fct&gt; |\n",
       "|---|---|---|\n",
       "| obs | treat | weight |\n",
       "| 1   | A     | 2.3    |\n",
       "| 2   | B     | NA     |\n",
       "| 3   | A     | 9      |\n",
       "| 4   | A     | 8      |\n",
       "| 5   | O     | 4      |\n",
       "| 6   | B     | 7      |\n",
       "\n"
      ],
      "text/plain": [
       "  V1  V2    V3    \n",
       "1 obs treat weight\n",
       "2 1   A     2.3   \n",
       "3 2   B     NA    \n",
       "4 3   A     9     \n",
       "5 4   A     8     \n",
       "6 5   O     4     \n",
       "7 6   B     7     "
      ]
     },
     "metadata": {},
     "output_type": "display_data"
    },
    {
     "data": {
      "text/html": [
       "<table>\n",
       "<caption>A data.frame: 6 × 3</caption>\n",
       "<thead>\n",
       "\t<tr><th scope=col>obs</th><th scope=col>treat</th><th scope=col>weight</th></tr>\n",
       "\t<tr><th scope=col>&lt;int&gt;</th><th scope=col>&lt;fct&gt;</th><th scope=col>&lt;dbl&gt;</th></tr>\n",
       "</thead>\n",
       "<tbody>\n",
       "\t<tr><td>1</td><td>A</td><td>2.3</td></tr>\n",
       "\t<tr><td>2</td><td>B</td><td> NA</td></tr>\n",
       "\t<tr><td>3</td><td>A</td><td>9.0</td></tr>\n",
       "\t<tr><td>4</td><td>A</td><td>8.0</td></tr>\n",
       "\t<tr><td>5</td><td>O</td><td>4.0</td></tr>\n",
       "\t<tr><td>6</td><td>B</td><td>7.0</td></tr>\n",
       "</tbody>\n",
       "</table>\n"
      ],
      "text/latex": [
       "A data.frame: 6 × 3\n",
       "\\begin{tabular}{lll}\n",
       " obs & treat & weight\\\\\n",
       " <int> & <fct> & <dbl>\\\\\n",
       "\\hline\n",
       "\t 1 & A & 2.3\\\\\n",
       "\t 2 & B &  NA\\\\\n",
       "\t 3 & A & 9.0\\\\\n",
       "\t 4 & A & 8.0\\\\\n",
       "\t 5 & O & 4.0\\\\\n",
       "\t 6 & B & 7.0\\\\\n",
       "\\end{tabular}\n"
      ],
      "text/markdown": [
       "\n",
       "A data.frame: 6 × 3\n",
       "\n",
       "| obs &lt;int&gt; | treat &lt;fct&gt; | weight &lt;dbl&gt; |\n",
       "|---|---|---|\n",
       "| 1 | A | 2.3 |\n",
       "| 2 | B |  NA |\n",
       "| 3 | A | 9.0 |\n",
       "| 4 | A | 8.0 |\n",
       "| 5 | O | 4.0 |\n",
       "| 6 | B | 7.0 |\n",
       "\n"
      ],
      "text/plain": [
       "  obs treat weight\n",
       "1 1   A     2.3   \n",
       "2 2   B      NA   \n",
       "3 3   A     9.0   \n",
       "4 4   A     8.0   \n",
       "5 5   O     4.0   \n",
       "6 6   B     7.0   "
      ]
     },
     "metadata": {},
     "output_type": "display_data"
    },
    {
     "data": {
      "text/html": [
       "<table>\n",
       "<caption>A data.frame: 6 × 3</caption>\n",
       "<thead>\n",
       "\t<tr><th></th><th scope=col>obs</th><th scope=col>treat</th><th scope=col>weight</th></tr>\n",
       "\t<tr><th></th><th scope=col>&lt;dbl&gt;</th><th scope=col>&lt;chr&gt;</th><th scope=col>&lt;dbl&gt;</th></tr>\n",
       "</thead>\n",
       "<tbody>\n",
       "\t<tr><th scope=row>1</th><td>1</td><td>A</td><td>2.3</td></tr>\n",
       "\t<tr><th scope=row>2</th><td>2</td><td>B</td><td> NA</td></tr>\n",
       "\t<tr><th scope=row>3</th><td>3</td><td>A</td><td>9.0</td></tr>\n",
       "\t<tr><th scope=row>4</th><td>4</td><td>A</td><td>8.0</td></tr>\n",
       "\t<tr><th scope=row>5</th><td>5</td><td>O</td><td>4.0</td></tr>\n",
       "\t<tr><th scope=row>6</th><td>6</td><td>B</td><td>7.0</td></tr>\n",
       "</tbody>\n",
       "</table>\n"
      ],
      "text/latex": [
       "A data.frame: 6 × 3\n",
       "\\begin{tabular}{r|lll}\n",
       "  & obs & treat & weight\\\\\n",
       "  & <dbl> & <chr> & <dbl>\\\\\n",
       "\\hline\n",
       "\t1 & 1 & A & 2.3\\\\\n",
       "\t2 & 2 & B &  NA\\\\\n",
       "\t3 & 3 & A & 9.0\\\\\n",
       "\t4 & 4 & A & 8.0\\\\\n",
       "\t5 & 5 & O & 4.0\\\\\n",
       "\t6 & 6 & B & 7.0\\\\\n",
       "\\end{tabular}\n"
      ],
      "text/markdown": [
       "\n",
       "A data.frame: 6 × 3\n",
       "\n",
       "| <!--/--> | obs &lt;dbl&gt; | treat &lt;chr&gt; | weight &lt;dbl&gt; |\n",
       "|---|---|---|---|\n",
       "| 1 | 1 | A | 2.3 |\n",
       "| 2 | 2 | B |  NA |\n",
       "| 3 | 3 | A | 9.0 |\n",
       "| 4 | 4 | A | 8.0 |\n",
       "| 5 | 5 | O | 4.0 |\n",
       "| 6 | 6 | B | 7.0 |\n",
       "\n"
      ],
      "text/plain": [
       "  obs treat weight\n",
       "1 1   A     2.3   \n",
       "2 2   B      NA   \n",
       "3 3   A     9.0   \n",
       "4 4   A     8.0   \n",
       "5 5   O     4.0   \n",
       "6 6   B     7.0   "
      ]
     },
     "metadata": {},
     "output_type": "display_data"
    },
    {
     "data": {
      "text/html": [
       "<table>\n",
       "<caption>A data.frame: 6 × 3</caption>\n",
       "<thead>\n",
       "\t<tr><th scope=col>obs</th><th scope=col>treat</th><th scope=col>weight</th></tr>\n",
       "\t<tr><th scope=col>&lt;dbl&gt;</th><th scope=col>&lt;fct&gt;</th><th scope=col>&lt;dbl&gt;</th></tr>\n",
       "</thead>\n",
       "<tbody>\n",
       "\t<tr><td>1</td><td>A</td><td>2.3</td></tr>\n",
       "\t<tr><td>2</td><td>B</td><td> NA</td></tr>\n",
       "\t<tr><td>3</td><td>A</td><td>9.0</td></tr>\n",
       "\t<tr><td>4</td><td>A</td><td>8.0</td></tr>\n",
       "\t<tr><td>5</td><td>O</td><td>4.0</td></tr>\n",
       "\t<tr><td>6</td><td>B</td><td>7.0</td></tr>\n",
       "</tbody>\n",
       "</table>\n"
      ],
      "text/latex": [
       "A data.frame: 6 × 3\n",
       "\\begin{tabular}{lll}\n",
       " obs & treat & weight\\\\\n",
       " <dbl> & <fct> & <dbl>\\\\\n",
       "\\hline\n",
       "\t 1 & A & 2.3\\\\\n",
       "\t 2 & B &  NA\\\\\n",
       "\t 3 & A & 9.0\\\\\n",
       "\t 4 & A & 8.0\\\\\n",
       "\t 5 & O & 4.0\\\\\n",
       "\t 6 & B & 7.0\\\\\n",
       "\\end{tabular}\n"
      ],
      "text/markdown": [
       "\n",
       "A data.frame: 6 × 3\n",
       "\n",
       "| obs &lt;dbl&gt; | treat &lt;fct&gt; | weight &lt;dbl&gt; |\n",
       "|---|---|---|\n",
       "| 1 | A | 2.3 |\n",
       "| 2 | B |  NA |\n",
       "| 3 | A | 9.0 |\n",
       "| 4 | A | 8.0 |\n",
       "| 5 | O | 4.0 |\n",
       "| 6 | B | 7.0 |\n",
       "\n"
      ],
      "text/plain": [
       "  obs treat weight\n",
       "1 1   A     2.3   \n",
       "2 2   B      NA   \n",
       "3 3   A     9.0   \n",
       "4 4   A     8.0   \n",
       "5 5   O     4.0   \n",
       "6 6   B     7.0   "
      ]
     },
     "metadata": {},
     "output_type": "display_data"
    }
   ],
   "source": [
    "## Reading data into R\n",
    "d1 = read.table(\"F:/d.txt\")\n",
    "d1\n",
    "d2 = read.csv(\"F:/d.csv\")\n",
    "d2\n",
    "d3 = read.xlsx(\"F:/d.xlsx\")\n",
    "d3\n",
    "d4 = readRDS(\"F:/d.RDS\")\n",
    "d4\n",
    "load(\"F:/d.RData\")"
   ]
  },
  {
   "cell_type": "code",
   "execution_count": 30,
   "metadata": {},
   "outputs": [
    {
     "data": {
      "text/html": [
       "<ol class=list-inline>\n",
       "\t<li>'d'</li>\n",
       "\t<li>'d1'</li>\n",
       "\t<li>'d2'</li>\n",
       "\t<li>'d3'</li>\n",
       "\t<li>'d4'</li>\n",
       "</ol>\n"
      ],
      "text/latex": [
       "\\begin{enumerate*}\n",
       "\\item 'd'\n",
       "\\item 'd1'\n",
       "\\item 'd2'\n",
       "\\item 'd3'\n",
       "\\item 'd4'\n",
       "\\end{enumerate*}\n"
      ],
      "text/markdown": [
       "1. 'd'\n",
       "2. 'd1'\n",
       "3. 'd2'\n",
       "4. 'd3'\n",
       "5. 'd4'\n",
       "\n",
       "\n"
      ],
      "text/plain": [
       "[1] \"d\"  \"d1\" \"d2\" \"d3\" \"d4\""
      ]
     },
     "metadata": {},
     "output_type": "display_data"
    }
   ],
   "source": [
    "ls()  ## check the objects in R"
   ]
  },
  {
   "cell_type": "markdown",
   "metadata": {},
   "source": [
    "## 4. Basic Statistical Operations\n",
    "\n",
    "R being a statistical programming environment has a number of built-in functionalities to perform statistics on data. Nevertheless, some specific functionalities are either available in packages or can easily be written. "
   ]
  },
  {
   "cell_type": "code",
   "execution_count": 31,
   "metadata": {},
   "outputs": [
    {
     "data": {
      "text/plain": [
       "  Sepal.Length    Sepal.Width     Petal.Length    Petal.Width   \n",
       " Min.   :4.300   Min.   :2.000   Min.   :1.000   Min.   :0.100  \n",
       " 1st Qu.:5.100   1st Qu.:2.800   1st Qu.:1.600   1st Qu.:0.300  \n",
       " Median :5.800   Median :3.000   Median :4.350   Median :1.300  \n",
       " Mean   :5.843   Mean   :3.057   Mean   :3.758   Mean   :1.199  \n",
       " 3rd Qu.:6.400   3rd Qu.:3.300   3rd Qu.:5.100   3rd Qu.:1.800  \n",
       " Max.   :7.900   Max.   :4.400   Max.   :6.900   Max.   :2.500  \n",
       "       Species  \n",
       " setosa    :50  \n",
       " versicolor:50  \n",
       " virginica :50  \n",
       "                \n",
       "                \n",
       "                "
      ]
     },
     "metadata": {},
     "output_type": "display_data"
    }
   ],
   "source": [
    "summary(iris)"
   ]
  },
  {
   "cell_type": "code",
   "execution_count": 33,
   "metadata": {},
   "outputs": [
    {
     "data": {
      "text/html": [
       "5.84333333333333"
      ],
      "text/latex": [
       "5.84333333333333"
      ],
      "text/markdown": [
       "5.84333333333333"
      ],
      "text/plain": [
       "[1] 5.843333"
      ]
     },
     "metadata": {},
     "output_type": "display_data"
    }
   ],
   "source": [
    "## \"mean()\" means arithmetic mean:\n",
    "mean(iris[, 1])"
   ]
  },
  {
   "cell_type": "code",
   "execution_count": null,
   "metadata": {},
   "outputs": [],
   "source": [
    "## \"sd()\" computes the standard deviation of the values in the object, 'x'. \n",
    "sd(iris[, 1])"
   ]
  },
  {
   "cell_type": "code",
   "execution_count": null,
   "metadata": {},
   "outputs": [],
   "source": []
  }
 ],
 "metadata": {
  "kernelspec": {
   "display_name": "R 3.6.2",
   "language": "R",
   "name": "ir362"
  },
  "language_info": {
   "codemirror_mode": "r",
   "file_extension": ".r",
   "mimetype": "text/x-r-source",
   "name": "R",
   "pygments_lexer": "r",
   "version": "3.6.2"
  }
 },
 "nbformat": 4,
 "nbformat_minor": 2
}
