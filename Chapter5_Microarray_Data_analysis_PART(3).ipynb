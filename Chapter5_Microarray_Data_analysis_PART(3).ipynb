{
 "cells": [
  {
   "cell_type": "markdown",
   "metadata": {},
   "source": [
    "## The contents include:\n",
    "\n",
    "* 11. Fold changes in microarray data\n",
    "* 12. The functional enrichment of data\n",
    "* 13. Handling time series data\n",
    "* 14. Clustering microarray data\n",
    "* 15. Getting a co-expression network from microarray data\n",
    "* 16. More visualizations for gene expression data\n",
    "\n",
    "\n",
    "\n",
    "## 11. Fold changes in microarray data\n",
    "\n",
    "Fold change refers to the ratio of final value to initial value. In terms of gene expression, it can be defined as the ratio of the final quantification of mRNA to the initial content. The initial and final stages can be the time points or treatment and control conditions. It represents the change rather than an ambiguous absolute quantity. It has been suggested that while extracting DE genes from a dataset, fold changes can serve as more reproducible identifiers. This recipe will explain the use of fold changes for such purposes.<br>\n",
    "倍数变化是指最终值与初始值的比率。就基因表达而言,它可以定义为mRNA的最终定量与初始含量的比率。初始阶段和最终阶段可以是时间点或治疗和控制条件。它代表了变化而不是一个模棱两可的绝对数量。从数据集中提取DE基因的同时,认为倍数变化可以作为更可重复的标识符。这个部分将解释用于这种目的的倍数变化的使用。<br>\n",
    "\n",
    "Required:<br>\n",
    "1、The leukemia dataset.<br>\n",
    "2、Directly use the results from the Finding the differentially expressed genes.<br>\n",
    "3、The results only from the ALL type of leukemia.<br>\n",
    "Fold changes are a part of tables that are derived from `limma`. Some other interesting operations on (or about) fold change are explained."
   ]
  },
  {
   "cell_type": "code",
   "execution_count": 2,
   "metadata": {},
   "outputs": [
    {
     "data": {
      "text/html": [
       "<table>\n",
       "<caption>A matrix: 12 × 4 of type dbl</caption>\n",
       "<thead>\n",
       "\t<tr><th></th><th scope=col>ALL</th><th scope=col>AML</th><th scope=col>CLL</th><th scope=col>NoL</th></tr>\n",
       "</thead>\n",
       "<tbody>\n",
       "\t<tr><th scope=row>1</th><td>1</td><td>0</td><td>0</td><td>0</td></tr>\n",
       "\t<tr><th scope=row>2</th><td>1</td><td>0</td><td>0</td><td>0</td></tr>\n",
       "\t<tr><th scope=row>3</th><td>1</td><td>0</td><td>0</td><td>0</td></tr>\n",
       "\t<tr><th scope=row>4</th><td>0</td><td>1</td><td>0</td><td>0</td></tr>\n",
       "\t<tr><th scope=row>5</th><td>0</td><td>1</td><td>0</td><td>0</td></tr>\n",
       "\t<tr><th scope=row>6</th><td>0</td><td>1</td><td>0</td><td>0</td></tr>\n",
       "\t<tr><th scope=row>7</th><td>0</td><td>0</td><td>1</td><td>0</td></tr>\n",
       "\t<tr><th scope=row>8</th><td>0</td><td>0</td><td>1</td><td>0</td></tr>\n",
       "\t<tr><th scope=row>9</th><td>0</td><td>0</td><td>1</td><td>0</td></tr>\n",
       "\t<tr><th scope=row>10</th><td>0</td><td>0</td><td>0</td><td>1</td></tr>\n",
       "\t<tr><th scope=row>11</th><td>0</td><td>0</td><td>0</td><td>1</td></tr>\n",
       "\t<tr><th scope=row>12</th><td>0</td><td>0</td><td>0</td><td>1</td></tr>\n",
       "</tbody>\n",
       "</table>\n"
      ],
      "text/latex": [
       "A matrix: 12 × 4 of type dbl\n",
       "\\begin{tabular}{r|llll}\n",
       "  & ALL & AML & CLL & NoL\\\\\n",
       "\\hline\n",
       "\t1 & 1 & 0 & 0 & 0\\\\\n",
       "\t2 & 1 & 0 & 0 & 0\\\\\n",
       "\t3 & 1 & 0 & 0 & 0\\\\\n",
       "\t4 & 0 & 1 & 0 & 0\\\\\n",
       "\t5 & 0 & 1 & 0 & 0\\\\\n",
       "\t6 & 0 & 1 & 0 & 0\\\\\n",
       "\t7 & 0 & 0 & 1 & 0\\\\\n",
       "\t8 & 0 & 0 & 1 & 0\\\\\n",
       "\t9 & 0 & 0 & 1 & 0\\\\\n",
       "\t10 & 0 & 0 & 0 & 1\\\\\n",
       "\t11 & 0 & 0 & 0 & 1\\\\\n",
       "\t12 & 0 & 0 & 0 & 1\\\\\n",
       "\\end{tabular}\n"
      ],
      "text/markdown": [
       "\n",
       "A matrix: 12 × 4 of type dbl\n",
       "\n",
       "| <!--/--> | ALL | AML | CLL | NoL |\n",
       "|---|---|---|---|---|\n",
       "| 1 | 1 | 0 | 0 | 0 |\n",
       "| 2 | 1 | 0 | 0 | 0 |\n",
       "| 3 | 1 | 0 | 0 | 0 |\n",
       "| 4 | 0 | 1 | 0 | 0 |\n",
       "| 5 | 0 | 1 | 0 | 0 |\n",
       "| 6 | 0 | 1 | 0 | 0 |\n",
       "| 7 | 0 | 0 | 1 | 0 |\n",
       "| 8 | 0 | 0 | 1 | 0 |\n",
       "| 9 | 0 | 0 | 1 | 0 |\n",
       "| 10 | 0 | 0 | 0 | 1 |\n",
       "| 11 | 0 | 0 | 0 | 1 |\n",
       "| 12 | 0 | 0 | 0 | 1 |\n",
       "\n"
      ],
      "text/plain": [
       "   ALL AML CLL NoL\n",
       "1  1   0   0   0  \n",
       "2  1   0   0   0  \n",
       "3  1   0   0   0  \n",
       "4  0   1   0   0  \n",
       "5  0   1   0   0  \n",
       "6  0   1   0   0  \n",
       "7  0   0   1   0  \n",
       "8  0   0   1   0  \n",
       "9  0   0   1   0  \n",
       "10 0   0   0   1  \n",
       "11 0   0   0   1  \n",
       "12 0   0   0   1  "
      ]
     },
     "metadata": {},
     "output_type": "display_data"
    }
   ],
   "source": [
    "library(leukemiasEset)\n",
    "data(leukemiasEset)\n",
    "pheno <- pData(leukemiasEset)\n",
    "mydata <- leukemiasEset[, sampleNames(leukemiasEset)[c(1:3, 13:15, 25:27, 49:51)]]\n",
    "design <- model.matrix(~0 + factor(pData(mydata)$LeukemiaType))\n",
    "colnames(design) <- unique(as.character(pData(mydata)$LeukemiaType))\n",
    "design"
   ]
  },
  {
   "cell_type": "code",
   "execution_count": 4,
   "metadata": {},
   "outputs": [],
   "source": [
    "library(limma)\n",
    "fit <- lmFit(mydata, design)\n",
    "contrast.matrix <- makeContrasts(NoL- ALL, NoL- AML, NoL- CLL, levels = design)\n",
    "fit2 <- contrasts.fit(fit, contrast.matrix)\n",
    "fit2 <- eBayes(fit2)\n",
    "tested2 <- topTable(fit2,adjust=\"fdr\",sort.by=\"B\",number=Inf, coef=1)\n",
    "DE2 <- tested2[tested2$adj.P.Val < 0.01,]"
   ]
  },
  {
   "cell_type": "code",
   "execution_count": 5,
   "metadata": {},
   "outputs": [
    {
     "data": {
      "text/html": [
       "<table>\n",
       "<caption>A data.frame: 6 × 6</caption>\n",
       "<thead>\n",
       "\t<tr><th></th><th scope=col>logFC</th><th scope=col>AveExpr</th><th scope=col>t</th><th scope=col>P.Value</th><th scope=col>adj.P.Val</th><th scope=col>B</th></tr>\n",
       "\t<tr><th></th><th scope=col>&lt;dbl&gt;</th><th scope=col>&lt;dbl&gt;</th><th scope=col>&lt;dbl&gt;</th><th scope=col>&lt;dbl&gt;</th><th scope=col>&lt;dbl&gt;</th><th scope=col>&lt;dbl&gt;</th></tr>\n",
       "</thead>\n",
       "<tbody>\n",
       "\t<tr><th scope=row>ENSG00000152078</th><td> 4.510507</td><td>4.856523</td><td> 28.13988</td><td>4.463747e-11</td><td>9.004270e-07</td><td>14.01472</td></tr>\n",
       "\t<tr><th scope=row>ENSG00000117519</th><td>-4.185175</td><td>4.791585</td><td>-22.73888</td><td>3.878292e-10</td><td>3.911645e-06</td><td>12.69738</td></tr>\n",
       "\t<tr><th scope=row>ENSG00000145850</th><td> 4.142236</td><td>4.507655</td><td> 17.38636</td><td>5.759942e-09</td><td>2.925048e-05</td><td>10.72782</td></tr>\n",
       "\t<tr><th scope=row>ENSG00000170180</th><td> 5.681327</td><td>5.734169</td><td> 17.37423</td><td>5.800214e-09</td><td>2.925048e-05</td><td>10.72231</td></tr>\n",
       "\t<tr><th scope=row>ENSG00000087586</th><td> 3.952183</td><td>5.720789</td><td> 16.45393</td><td>9.977396e-09</td><td>3.111188e-05</td><td>10.28705</td></tr>\n",
       "\t<tr><th scope=row>ENSG00000047597</th><td> 5.362419</td><td>5.108415</td><td> 16.32474</td><td>1.079114e-08</td><td>3.111188e-05</td><td>10.22315</td></tr>\n",
       "</tbody>\n",
       "</table>\n"
      ],
      "text/latex": [
       "A data.frame: 6 × 6\n",
       "\\begin{tabular}{r|llllll}\n",
       "  & logFC & AveExpr & t & P.Value & adj.P.Val & B\\\\\n",
       "  & <dbl> & <dbl> & <dbl> & <dbl> & <dbl> & <dbl>\\\\\n",
       "\\hline\n",
       "\tENSG00000152078 &  4.510507 & 4.856523 &  28.13988 & 4.463747e-11 & 9.004270e-07 & 14.01472\\\\\n",
       "\tENSG00000117519 & -4.185175 & 4.791585 & -22.73888 & 3.878292e-10 & 3.911645e-06 & 12.69738\\\\\n",
       "\tENSG00000145850 &  4.142236 & 4.507655 &  17.38636 & 5.759942e-09 & 2.925048e-05 & 10.72782\\\\\n",
       "\tENSG00000170180 &  5.681327 & 5.734169 &  17.37423 & 5.800214e-09 & 2.925048e-05 & 10.72231\\\\\n",
       "\tENSG00000087586 &  3.952183 & 5.720789 &  16.45393 & 9.977396e-09 & 3.111188e-05 & 10.28705\\\\\n",
       "\tENSG00000047597 &  5.362419 & 5.108415 &  16.32474 & 1.079114e-08 & 3.111188e-05 & 10.22315\\\\\n",
       "\\end{tabular}\n"
      ],
      "text/markdown": [
       "\n",
       "A data.frame: 6 × 6\n",
       "\n",
       "| <!--/--> | logFC &lt;dbl&gt; | AveExpr &lt;dbl&gt; | t &lt;dbl&gt; | P.Value &lt;dbl&gt; | adj.P.Val &lt;dbl&gt; | B &lt;dbl&gt; |\n",
       "|---|---|---|---|---|---|---|\n",
       "| ENSG00000152078 |  4.510507 | 4.856523 |  28.13988 | 4.463747e-11 | 9.004270e-07 | 14.01472 |\n",
       "| ENSG00000117519 | -4.185175 | 4.791585 | -22.73888 | 3.878292e-10 | 3.911645e-06 | 12.69738 |\n",
       "| ENSG00000145850 |  4.142236 | 4.507655 |  17.38636 | 5.759942e-09 | 2.925048e-05 | 10.72782 |\n",
       "| ENSG00000170180 |  5.681327 | 5.734169 |  17.37423 | 5.800214e-09 | 2.925048e-05 | 10.72231 |\n",
       "| ENSG00000087586 |  3.952183 | 5.720789 |  16.45393 | 9.977396e-09 | 3.111188e-05 | 10.28705 |\n",
       "| ENSG00000047597 |  5.362419 | 5.108415 |  16.32474 | 1.079114e-08 | 3.111188e-05 | 10.22315 |\n",
       "\n"
      ],
      "text/plain": [
       "                logFC     AveExpr  t         P.Value      adj.P.Val    B       \n",
       "ENSG00000152078  4.510507 4.856523  28.13988 4.463747e-11 9.004270e-07 14.01472\n",
       "ENSG00000117519 -4.185175 4.791585 -22.73888 3.878292e-10 3.911645e-06 12.69738\n",
       "ENSG00000145850  4.142236 4.507655  17.38636 5.759942e-09 2.925048e-05 10.72782\n",
       "ENSG00000170180  5.681327 5.734169  17.37423 5.800214e-09 2.925048e-05 10.72231\n",
       "ENSG00000087586  3.952183 5.720789  16.45393 9.977396e-09 3.111188e-05 10.28705\n",
       "ENSG00000047597  5.362419 5.108415  16.32474 1.079114e-08 3.111188e-05 10.22315"
      ]
     },
     "metadata": {},
     "output_type": "display_data"
    }
   ],
   "source": [
    "head(DE2)"
   ]
  },
  {
   "cell_type": "code",
   "execution_count": 6,
   "metadata": {},
   "outputs": [],
   "source": [
    "## Extract the relevant columns into a separate data frame for the top 10,000 probes.\n",
    "fit <- eBayes(fit)\n",
    "myTable <- topTable(fit, number=10000)\n",
    "logratio <- tested2$logFC"
   ]
  },
  {
   "cell_type": "code",
   "execution_count": 7,
   "metadata": {},
   "outputs": [],
   "source": [
    "## The fold change to log values and vice versa by the `gtools` library.\n",
    "\n",
    "library(gtools)"
   ]
  },
  {
   "cell_type": "code",
   "execution_count": 10,
   "metadata": {},
   "outputs": [],
   "source": [
    "## Take a look at the heatmap and other plots produced for the samples to check for the batch effect. \n",
    "## In the filefolder, there are files called 'hm' and 'ma'.\n",
    "library(hexbin)"
   ]
  },
  {
   "cell_type": "code",
   "execution_count": 8,
   "metadata": {},
   "outputs": [],
   "source": [
    "LR <- foldchange2logratio(1, base=2)\n",
    "\n",
    "FC <- logratio2foldchange(logratio, base=2)"
   ]
  },
  {
   "cell_type": "code",
   "execution_count": 9,
   "metadata": {},
   "outputs": [
    {
     "data": {
      "image/png": "[encoded data removed]",
      "text/plain": [
       "plot without title"
      ]
     },
     "metadata": {
      "image/png": {
       "height": 420,
       "width": 420
      }
     },
     "output_type": "display_data"
    }
   ],
   "source": [
    "## visualize the log fold change and p-value relations in a volcano plot\n",
    "plot(tested2$logFC, -log10(tested2$P.Value),xlim=c(-10, 10), \n",
    "     ylim=c(0, 15), xlab=\"log2 fold change\", ylab=\"-log10 p-value\")"
   ]
  },
  {
   "cell_type": "code",
   "execution_count": 10,
   "metadata": {},
   "outputs": [
    {
     "data": {
      "text/html": [
       "<table>\n",
       "<caption>A data.frame: 953 × 8</caption>\n",
       "<thead>\n",
       "\t<tr><th></th><th scope=col>ALL</th><th scope=col>AML</th><th scope=col>CLL</th><th scope=col>NoL</th><th scope=col>AveExpr</th><th scope=col>F</th><th scope=col>P.Value</th><th scope=col>adj.P.Val</th></tr>\n",
       "\t<tr><th></th><th scope=col>&lt;dbl&gt;</th><th scope=col>&lt;dbl&gt;</th><th scope=col>&lt;dbl&gt;</th><th scope=col>&lt;dbl&gt;</th><th scope=col>&lt;dbl&gt;</th><th scope=col>&lt;dbl&gt;</th><th scope=col>&lt;dbl&gt;</th><th scope=col>&lt;dbl&gt;</th></tr>\n",
       "</thead>\n",
       "<tbody>\n",
       "\t<tr><th scope=row>ENSG00000177954</th><td>14.48894</td><td>14.39784</td><td>14.61716</td><td>14.27750</td><td>14.44536</td><td>26127.989</td><td>1.456821e-20</td><td>1.430395e-16</td></tr>\n",
       "\t<tr><th scope=row>ENSG00000142534</th><td>13.93954</td><td>13.75007</td><td>13.95506</td><td>13.72552</td><td>13.84255</td><td>23133.285</td><td>2.726058e-20</td><td>1.430395e-16</td></tr>\n",
       "\t<tr><th scope=row>ENSG00000198637</th><td>14.13433</td><td>14.11080</td><td>14.23767</td><td>14.03697</td><td>14.12994</td><td>22955.645</td><td>2.836398e-20</td><td>1.430395e-16</td></tr>\n",
       "\t<tr><th scope=row>ENSG00000133112</th><td>13.78061</td><td>13.78450</td><td>13.77267</td><td>13.56294</td><td>13.72518</td><td>20350.440</td><td>5.272850e-20</td><td>2.014582e-16</td></tr>\n",
       "\t<tr><th scope=row>ENSG00000198034</th><td>13.51314</td><td>13.80660</td><td>13.71761</td><td>13.38727</td><td>13.60616</td><td>19851.026</td><td>5.992212e-20</td><td>2.014582e-16</td></tr>\n",
       "\t<tr><th scope=row>ENSG00000140988</th><td>14.10058</td><td>14.14974</td><td>14.22823</td><td>14.07113</td><td>14.13742</td><td>16599.698</td><td>1.504609e-19</td><td>4.185933e-16</td></tr>\n",
       "\t<tr><th scope=row>ENSG00000233927</th><td>13.32112</td><td>13.23596</td><td>13.42129</td><td>13.17491</td><td>13.28832</td><td>16016.015</td><td>1.808992e-19</td><td>4.185933e-16</td></tr>\n",
       "\t<tr><th scope=row>ENSG00000166710</th><td>12.99352</td><td>13.13625</td><td>13.27690</td><td>13.31242</td><td>13.17977</td><td>15917.092</td><td>1.867608e-19</td><td>4.185933e-16</td></tr>\n",
       "\t<tr><th scope=row>ENSG00000109475</th><td>14.08755</td><td>13.98899</td><td>14.11584</td><td>13.77873</td><td>13.99278</td><td>14880.393</td><td>2.641368e-19</td><td>4.813734e-16</td></tr>\n",
       "\t<tr><th scope=row>ENSG00000105193</th><td>13.29223</td><td>13.12494</td><td>13.47154</td><td>13.10956</td><td>13.24957</td><td>14837.774</td><td>2.680649e-19</td><td>4.813734e-16</td></tr>\n",
       "\t<tr><th scope=row>ENSG00000198918</th><td>13.72933</td><td>13.80642</td><td>13.73162</td><td>13.66407</td><td>13.73286</td><td>14639.246</td><td>2.873091e-19</td><td>4.813734e-16</td></tr>\n",
       "\t<tr><th scope=row>ENSG00000156482</th><td>13.45121</td><td>13.36451</td><td>13.64896</td><td>13.24524</td><td>13.42748</td><td>13028.933</td><td>5.233919e-19</td><td>7.541329e-16</td></tr>\n",
       "\t<tr><th scope=row>ENSG00000108298</th><td>13.52101</td><td>13.21202</td><td>13.68027</td><td>13.15634</td><td>13.39241</td><td>12122.278</td><td>7.586549e-19</td><td>9.002110e-16</td></tr>\n",
       "\t<tr><th scope=row>ENSG00000170315</th><td>13.04716</td><td>13.48633</td><td>13.18056</td><td>13.64973</td><td>13.34094</td><td>11905.139</td><td>8.326147e-19</td><td>9.297433e-16</td></tr>\n",
       "\t<tr><th scope=row>ENSG00000135486</th><td>13.33097</td><td>13.41526</td><td>13.29131</td><td>13.26601</td><td>13.32589</td><td>11788.936</td><td>8.757249e-19</td><td>9.297433e-16</td></tr>\n",
       "\t<tr><th scope=row>ENSG00000110700</th><td>12.99999</td><td>13.11217</td><td>13.08990</td><td>12.98353</td><td>13.04640</td><td>11063.208</td><td>1.214449e-18</td><td>1.113539e-15</td></tr>\n",
       "\t<tr><th scope=row>ENSG00000149806</th><td>12.99400</td><td>12.99275</td><td>13.31644</td><td>12.85388</td><td>13.03927</td><td>10875.890</td><td>1.326010e-18</td><td>1.162968e-15</td></tr>\n",
       "\t<tr><th scope=row>ENSG00000169567</th><td>11.49506</td><td>12.05842</td><td>12.06379</td><td>11.50760</td><td>11.78122</td><td> 9895.511</td><td>2.156186e-18</td><td>1.739784e-15</td></tr>\n",
       "\t<tr><th scope=row>ENSG00000143543</th><td>10.81122</td><td>11.22164</td><td>11.51480</td><td>11.23056</td><td>11.19456</td><td> 9391.415</td><td>2.821917e-18</td><td>2.089925e-15</td></tr>\n",
       "\t<tr><th scope=row>ENSG00000137154</th><td>13.37647</td><td>13.46902</td><td>13.53522</td><td>13.32310</td><td>13.42595</td><td> 9369.702</td><td>2.855733e-18</td><td>2.089925e-15</td></tr>\n",
       "\t<tr><th scope=row>ENSG00000232112</th><td>12.23607</td><td>12.49263</td><td>12.71735</td><td>12.66173</td><td>12.52694</td><td> 9341.144</td><td>2.900947e-18</td><td>2.089925e-15</td></tr>\n",
       "\t<tr><th scope=row>ENSG00000187514</th><td>13.36346</td><td>13.26131</td><td>13.01263</td><td>12.66995</td><td>13.07684</td><td> 9267.683</td><td>3.021244e-18</td><td>2.101536e-15</td></tr>\n",
       "\t<tr><th scope=row>ENSG00000118816</th><td>11.68461</td><td>11.75722</td><td>11.81722</td><td>11.50098</td><td>11.69001</td><td> 9069.223</td><td>3.377271e-18</td><td>2.270877e-15</td></tr>\n",
       "\t<tr><th scope=row>ENSG00000174444</th><td>13.43060</td><td>13.03562</td><td>13.49196</td><td>13.10332</td><td>13.26538</td><td> 8599.458</td><td>4.440549e-18</td><td>2.889508e-15</td></tr>\n",
       "\t<tr><th scope=row>ENSG00000080824</th><td>12.16780</td><td>12.09354</td><td>12.35360</td><td>12.02030</td><td>12.15881</td><td> 8450.570</td><td>4.858143e-18</td><td>2.971319e-15</td></tr>\n",
       "\t<tr><th scope=row>ENSG00000122406</th><td>13.23121</td><td>13.26863</td><td>13.40527</td><td>12.91735</td><td>13.20562</td><td> 8417.489</td><td>4.957197e-18</td><td>2.971319e-15</td></tr>\n",
       "\t<tr><th scope=row>ENSG00000130255</th><td>12.88832</td><td>12.83524</td><td>13.18521</td><td>12.72745</td><td>12.90905</td><td> 8386.328</td><td>5.052718e-18</td><td>2.971319e-15</td></tr>\n",
       "\t<tr><th scope=row>ENSG00000108654</th><td>12.50890</td><td>11.83196</td><td>12.46445</td><td>12.21406</td><td>12.25484</td><td> 8353.583</td><td>5.155472e-18</td><td>2.971319e-15</td></tr>\n",
       "\t<tr><th scope=row>ENSG00000087460</th><td>12.24961</td><td>11.91147</td><td>12.51694</td><td>12.07412</td><td>12.18803</td><td> 8231.482</td><td>5.561299e-18</td><td>2.980396e-15</td></tr>\n",
       "\t<tr><th scope=row>ENSG00000221983</th><td>12.79697</td><td>12.70643</td><td>13.09305</td><td>12.82913</td><td>12.85639</td><td> 8160.056</td><td>5.816385e-18</td><td>2.980396e-15</td></tr>\n",
       "\t<tr><th scope=row>...</th><td>...</td><td>...</td><td>...</td><td>...</td><td>...</td><td>...</td><td>...</td><td>...</td></tr>\n",
       "\t<tr><th scope=row>ENSG00000130821</th><td>5.214284</td><td>4.974164</td><td>5.648512</td><td>8.325736</td><td>6.040674</td><td>1199.917</td><td>1.111065e-13</td><td>7.206560e-13</td></tr>\n",
       "\t<tr><th scope=row>ENSG00000130518</th><td>6.986330</td><td>5.407438</td><td>6.937936</td><td>4.750937</td><td>6.020661</td><td>1199.166</td><td>1.114643e-13</td><td>7.215846e-13</td></tr>\n",
       "\t<tr><th scope=row>ENSG00000163521</th><td>4.912902</td><td>5.218787</td><td>5.275215</td><td>5.390328</td><td>5.199308</td><td>1195.602</td><td>1.131810e-13</td><td>7.284900e-13</td></tr>\n",
       "\t<tr><th scope=row>ENSG00000212992</th><td>4.823410</td><td>4.225729</td><td>4.196469</td><td>4.097073</td><td>4.335670</td><td>1192.855</td><td>1.145258e-13</td><td>7.307768e-13</td></tr>\n",
       "\t<tr><th scope=row>ENSG00000157890</th><td>3.678097</td><td>3.586679</td><td>3.865001</td><td>3.647675</td><td>3.694363</td><td>1188.597</td><td>1.166481e-13</td><td>7.371633e-13</td></tr>\n",
       "\t<tr><th scope=row>ENSG00000061936</th><td>8.061970</td><td>7.394516</td><td>8.229012</td><td>7.432428</td><td>7.779482</td><td>1187.675</td><td>1.171138e-13</td><td>7.378703e-13</td></tr>\n",
       "\t<tr><th scope=row>ENSG00000247357</th><td>5.139469</td><td>5.839189</td><td>4.948686</td><td>5.061485</td><td>5.247207</td><td>1187.485</td><td>1.172101e-13</td><td>7.378703e-13</td></tr>\n",
       "\t<tr><th scope=row>ENSG00000125831</th><td>3.624877</td><td>3.533432</td><td>3.682283</td><td>3.397352</td><td>3.559486</td><td>1187.044</td><td>1.174340e-13</td><td>7.378703e-13</td></tr>\n",
       "\t<tr><th scope=row>ENSG00000247412</th><td>3.577447</td><td>3.399866</td><td>3.701217</td><td>3.341264</td><td>3.504948</td><td>1183.147</td><td>1.194337e-13</td><td>7.438471e-13</td></tr>\n",
       "\t<tr><th scope=row>ENSG00000179562</th><td>6.386263</td><td>5.811791</td><td>6.411045</td><td>5.690265</td><td>6.074841</td><td>1182.730</td><td>1.196500e-13</td><td>7.442430e-13</td></tr>\n",
       "\t<tr><th scope=row>ENSG00000115902</th><td>6.367353</td><td>7.003458</td><td>6.293532</td><td>6.773750</td><td>6.609524</td><td>1177.576</td><td>1.223634e-13</td><td>7.515389e-13</td></tr>\n",
       "\t<tr><th scope=row>ENSG00000095139</th><td>7.880052</td><td>9.166382</td><td>9.011994</td><td>8.991784</td><td>8.762553</td><td>1175.992</td><td>1.232126e-13</td><td>7.533931e-13</td></tr>\n",
       "\t<tr><th scope=row>ENSG00000122718</th><td>3.829331</td><td>3.879242</td><td>4.253310</td><td>4.102226</td><td>4.016027</td><td>1174.753</td><td>1.238809e-13</td><td>7.558757e-13</td></tr>\n",
       "\t<tr><th scope=row>ENSG00000007080</th><td>6.900640</td><td>6.561585</td><td>6.623781</td><td>6.463479</td><td>6.637371</td><td>1165.568</td><td>1.289762e-13</td><td>7.724784e-13</td></tr>\n",
       "\t<tr><th scope=row>ENSG00000206073</th><td>3.108975</td><td>3.119414</td><td>3.128686</td><td>3.056851</td><td>3.103482</td><td>1161.641</td><td>1.312303e-13</td><td>7.790379e-13</td></tr>\n",
       "\t<tr><th scope=row>ENSG00000058085</th><td>3.748232</td><td>3.578609</td><td>3.720734</td><td>3.558487</td><td>3.651516</td><td>1159.281</td><td>1.326082e-13</td><td>7.835303e-13</td></tr>\n",
       "\t<tr><th scope=row>ENSG00000143368</th><td>8.068664</td><td>9.029597</td><td>8.010834</td><td>8.573280</td><td>8.420594</td><td>1156.463</td><td>1.342755e-13</td><td>7.894732e-13</td></tr>\n",
       "\t<tr><th scope=row>ENSG00000164299</th><td>3.082035</td><td>3.031434</td><td>3.007472</td><td>2.970033</td><td>3.022743</td><td>1153.881</td><td>1.358255e-13</td><td>7.933014e-13</td></tr>\n",
       "\t<tr><th scope=row>ENSG00000073670</th><td>4.968278</td><td>4.803982</td><td>5.093394</td><td>4.572368</td><td>4.859505</td><td>1152.884</td><td>1.364296e-13</td><td>7.933014e-13</td></tr>\n",
       "\t<tr><th scope=row>ENSG00000179335</th><td>8.615910</td><td>7.672596</td><td>8.495549</td><td>8.095217</td><td>8.219818</td><td>1151.646</td><td>1.371843e-13</td><td>7.958818e-13</td></tr>\n",
       "\t<tr><th scope=row>ENSG00000243489</th><td>6.172070</td><td>6.262636</td><td>6.711030</td><td>6.752572</td><td>6.474577</td><td>1151.134</td><td>1.374982e-13</td><td>7.974736e-13</td></tr>\n",
       "\t<tr><th scope=row>ENSG00000166888</th><td>7.985756</td><td>8.265127</td><td>8.811501</td><td>7.776192</td><td>8.209644</td><td>1148.875</td><td>1.388920e-13</td><td>8.017814e-13</td></tr>\n",
       "\t<tr><th scope=row>ENSG00000163719</th><td>8.576895</td><td>8.257451</td><td>8.679623</td><td>8.515046</td><td>8.507254</td><td>1147.992</td><td>1.394410e-13</td><td>8.034289e-13</td></tr>\n",
       "\t<tr><th scope=row>ENSG00000137869</th><td>3.779607</td><td>3.532846</td><td>3.691546</td><td>3.652205</td><td>3.664051</td><td>1147.578</td><td>1.396995e-13</td><td>8.046882e-13</td></tr>\n",
       "\t<tr><th scope=row>ENSG00000233398</th><td>3.874477</td><td>3.706202</td><td>3.656185</td><td>3.668896</td><td>3.726440</td><td>1147.227</td><td>1.399191e-13</td><td>8.047740e-13</td></tr>\n",
       "\t<tr><th scope=row>ENSG00000105701</th><td>6.903015</td><td>6.954748</td><td>7.146769</td><td>6.827252</td><td>6.957946</td><td>1145.809</td><td>1.408107e-13</td><td>8.064829e-13</td></tr>\n",
       "\t<tr><th scope=row>ENSG00000143207</th><td>7.004623</td><td>7.892597</td><td>7.313433</td><td>7.807295</td><td>7.504487</td><td>1144.101</td><td>1.418934e-13</td><td>8.113023e-13</td></tr>\n",
       "\t<tr><th scope=row>ENSG00000123737</th><td>8.388098</td><td>7.678710</td><td>8.530180</td><td>8.109720</td><td>8.176677</td><td>1138.635</td><td>1.454253e-13</td><td>8.221206e-13</td></tr>\n",
       "\t<tr><th scope=row>ENSG00000214160</th><td>6.994047</td><td>7.913299</td><td>7.110934</td><td>7.412355</td><td>7.357659</td><td>1138.421</td><td>1.455661e-13</td><td>8.223719e-13</td></tr>\n",
       "\t<tr><th scope=row>ENSG00000109846</th><td>4.249335</td><td>4.032090</td><td>4.224073</td><td>4.154921</td><td>4.165105</td><td>1131.348</td><td>1.502994e-13</td><td>8.356778e-13</td></tr>\n",
       "</tbody>\n",
       "</table>\n"
      ],
      "text/latex": [
       "A data.frame: 953 × 8\n",
       "\\begin{tabular}{r|llllllll}\n",
       "  & ALL & AML & CLL & NoL & AveExpr & F & P.Value & adj.P.Val\\\\\n",
       "  & <dbl> & <dbl> & <dbl> & <dbl> & <dbl> & <dbl> & <dbl> & <dbl>\\\\\n",
       "\\hline\n",
       "\tENSG00000177954 & 14.48894 & 14.39784 & 14.61716 & 14.27750 & 14.44536 & 26127.989 & 1.456821e-20 & 1.430395e-16\\\\\n",
       "\tENSG00000142534 & 13.93954 & 13.75007 & 13.95506 & 13.72552 & 13.84255 & 23133.285 & 2.726058e-20 & 1.430395e-16\\\\\n",
       "\tENSG00000198637 & 14.13433 & 14.11080 & 14.23767 & 14.03697 & 14.12994 & 22955.645 & 2.836398e-20 & 1.430395e-16\\\\\n",
       "\tENSG00000133112 & 13.78061 & 13.78450 & 13.77267 & 13.56294 & 13.72518 & 20350.440 & 5.272850e-20 & 2.014582e-16\\\\\n",
       "\tENSG00000198034 & 13.51314 & 13.80660 & 13.71761 & 13.38727 & 13.60616 & 19851.026 & 5.992212e-20 & 2.014582e-16\\\\\n",
       "\tENSG00000140988 & 14.10058 & 14.14974 & 14.22823 & 14.07113 & 14.13742 & 16599.698 & 1.504609e-19 & 4.185933e-16\\\\\n",
       "\tENSG00000233927 & 13.32112 & 13.23596 & 13.42129 & 13.17491 & 13.28832 & 16016.015 & 1.808992e-19 & 4.185933e-16\\\\\n",
       "\tENSG00000166710 & 12.99352 & 13.13625 & 13.27690 & 13.31242 & 13.17977 & 15917.092 & 1.867608e-19 & 4.185933e-16\\\\\n",
       "\tENSG00000109475 & 14.08755 & 13.98899 & 14.11584 & 13.77873 & 13.99278 & 14880.393 & 2.641368e-19 & 4.813734e-16\\\\\n",
       "\tENSG00000105193 & 13.29223 & 13.12494 & 13.47154 & 13.10956 & 13.24957 & 14837.774 & 2.680649e-19 & 4.813734e-16\\\\\n",
       "\tENSG00000198918 & 13.72933 & 13.80642 & 13.73162 & 13.66407 & 13.73286 & 14639.246 & 2.873091e-19 & 4.813734e-16\\\\\n",
       "\tENSG00000156482 & 13.45121 & 13.36451 & 13.64896 & 13.24524 & 13.42748 & 13028.933 & 5.233919e-19 & 7.541329e-16\\\\\n",
       "\tENSG00000108298 & 13.52101 & 13.21202 & 13.68027 & 13.15634 & 13.39241 & 12122.278 & 7.586549e-19 & 9.002110e-16\\\\\n",
       "\tENSG00000170315 & 13.04716 & 13.48633 & 13.18056 & 13.64973 & 13.34094 & 11905.139 & 8.326147e-19 & 9.297433e-16\\\\\n",
       "\tENSG00000135486 & 13.33097 & 13.41526 & 13.29131 & 13.26601 & 13.32589 & 11788.936 & 8.757249e-19 & 9.297433e-16\\\\\n",
       "\tENSG00000110700 & 12.99999 & 13.11217 & 13.08990 & 12.98353 & 13.04640 & 11063.208 & 1.214449e-18 & 1.113539e-15\\\\\n",
       "\tENSG00000149806 & 12.99400 & 12.99275 & 13.31644 & 12.85388 & 13.03927 & 10875.890 & 1.326010e-18 & 1.162968e-15\\\\\n",
       "\tENSG00000169567 & 11.49506 & 12.05842 & 12.06379 & 11.50760 & 11.78122 &  9895.511 & 2.156186e-18 & 1.739784e-15\\\\\n",
       "\tENSG00000143543 & 10.81122 & 11.22164 & 11.51480 & 11.23056 & 11.19456 &  9391.415 & 2.821917e-18 & 2.089925e-15\\\\\n",
       "\tENSG00000137154 & 13.37647 & 13.46902 & 13.53522 & 13.32310 & 13.42595 &  9369.702 & 2.855733e-18 & 2.089925e-15\\\\\n",
       "\tENSG00000232112 & 12.23607 & 12.49263 & 12.71735 & 12.66173 & 12.52694 &  9341.144 & 2.900947e-18 & 2.089925e-15\\\\\n",
       "\tENSG00000187514 & 13.36346 & 13.26131 & 13.01263 & 12.66995 & 13.07684 &  9267.683 & 3.021244e-18 & 2.101536e-15\\\\\n",
       "\tENSG00000118816 & 11.68461 & 11.75722 & 11.81722 & 11.50098 & 11.69001 &  9069.223 & 3.377271e-18 & 2.270877e-15\\\\\n",
       "\tENSG00000174444 & 13.43060 & 13.03562 & 13.49196 & 13.10332 & 13.26538 &  8599.458 & 4.440549e-18 & 2.889508e-15\\\\\n",
       "\tENSG00000080824 & 12.16780 & 12.09354 & 12.35360 & 12.02030 & 12.15881 &  8450.570 & 4.858143e-18 & 2.971319e-15\\\\\n",
       "\tENSG00000122406 & 13.23121 & 13.26863 & 13.40527 & 12.91735 & 13.20562 &  8417.489 & 4.957197e-18 & 2.971319e-15\\\\\n",
       "\tENSG00000130255 & 12.88832 & 12.83524 & 13.18521 & 12.72745 & 12.90905 &  8386.328 & 5.052718e-18 & 2.971319e-15\\\\\n",
       "\tENSG00000108654 & 12.50890 & 11.83196 & 12.46445 & 12.21406 & 12.25484 &  8353.583 & 5.155472e-18 & 2.971319e-15\\\\\n",
       "\tENSG00000087460 & 12.24961 & 11.91147 & 12.51694 & 12.07412 & 12.18803 &  8231.482 & 5.561299e-18 & 2.980396e-15\\\\\n",
       "\tENSG00000221983 & 12.79697 & 12.70643 & 13.09305 & 12.82913 & 12.85639 &  8160.056 & 5.816385e-18 & 2.980396e-15\\\\\n",
       "\t... & ... & ... & ... & ... & ... & ... & ... & ...\\\\\n",
       "\tENSG00000130821 & 5.214284 & 4.974164 & 5.648512 & 8.325736 & 6.040674 & 1199.917 & 1.111065e-13 & 7.206560e-13\\\\\n",
       "\tENSG00000130518 & 6.986330 & 5.407438 & 6.937936 & 4.750937 & 6.020661 & 1199.166 & 1.114643e-13 & 7.215846e-13\\\\\n",
       "\tENSG00000163521 & 4.912902 & 5.218787 & 5.275215 & 5.390328 & 5.199308 & 1195.602 & 1.131810e-13 & 7.284900e-13\\\\\n",
       "\tENSG00000212992 & 4.823410 & 4.225729 & 4.196469 & 4.097073 & 4.335670 & 1192.855 & 1.145258e-13 & 7.307768e-13\\\\\n",
       "\tENSG00000157890 & 3.678097 & 3.586679 & 3.865001 & 3.647675 & 3.694363 & 1188.597 & 1.166481e-13 & 7.371633e-13\\\\\n",
       "\tENSG00000061936 & 8.061970 & 7.394516 & 8.229012 & 7.432428 & 7.779482 & 1187.675 & 1.171138e-13 & 7.378703e-13\\\\\n",
       "\tENSG00000247357 & 5.139469 & 5.839189 & 4.948686 & 5.061485 & 5.247207 & 1187.485 & 1.172101e-13 & 7.378703e-13\\\\\n",
       "\tENSG00000125831 & 3.624877 & 3.533432 & 3.682283 & 3.397352 & 3.559486 & 1187.044 & 1.174340e-13 & 7.378703e-13\\\\\n",
       "\tENSG00000247412 & 3.577447 & 3.399866 & 3.701217 & 3.341264 & 3.504948 & 1183.147 & 1.194337e-13 & 7.438471e-13\\\\\n",
       "\tENSG00000179562 & 6.386263 & 5.811791 & 6.411045 & 5.690265 & 6.074841 & 1182.730 & 1.196500e-13 & 7.442430e-13\\\\\n",
       "\tENSG00000115902 & 6.367353 & 7.003458 & 6.293532 & 6.773750 & 6.609524 & 1177.576 & 1.223634e-13 & 7.515389e-13\\\\\n",
       "\tENSG00000095139 & 7.880052 & 9.166382 & 9.011994 & 8.991784 & 8.762553 & 1175.992 & 1.232126e-13 & 7.533931e-13\\\\\n",
       "\tENSG00000122718 & 3.829331 & 3.879242 & 4.253310 & 4.102226 & 4.016027 & 1174.753 & 1.238809e-13 & 7.558757e-13\\\\\n",
       "\tENSG00000007080 & 6.900640 & 6.561585 & 6.623781 & 6.463479 & 6.637371 & 1165.568 & 1.289762e-13 & 7.724784e-13\\\\\n",
       "\tENSG00000206073 & 3.108975 & 3.119414 & 3.128686 & 3.056851 & 3.103482 & 1161.641 & 1.312303e-13 & 7.790379e-13\\\\\n",
       "\tENSG00000058085 & 3.748232 & 3.578609 & 3.720734 & 3.558487 & 3.651516 & 1159.281 & 1.326082e-13 & 7.835303e-13\\\\\n",
       "\tENSG00000143368 & 8.068664 & 9.029597 & 8.010834 & 8.573280 & 8.420594 & 1156.463 & 1.342755e-13 & 7.894732e-13\\\\\n",
       "\tENSG00000164299 & 3.082035 & 3.031434 & 3.007472 & 2.970033 & 3.022743 & 1153.881 & 1.358255e-13 & 7.933014e-13\\\\\n",
       "\tENSG00000073670 & 4.968278 & 4.803982 & 5.093394 & 4.572368 & 4.859505 & 1152.884 & 1.364296e-13 & 7.933014e-13\\\\\n",
       "\tENSG00000179335 & 8.615910 & 7.672596 & 8.495549 & 8.095217 & 8.219818 & 1151.646 & 1.371843e-13 & 7.958818e-13\\\\\n",
       "\tENSG00000243489 & 6.172070 & 6.262636 & 6.711030 & 6.752572 & 6.474577 & 1151.134 & 1.374982e-13 & 7.974736e-13\\\\\n",
       "\tENSG00000166888 & 7.985756 & 8.265127 & 8.811501 & 7.776192 & 8.209644 & 1148.875 & 1.388920e-13 & 8.017814e-13\\\\\n",
       "\tENSG00000163719 & 8.576895 & 8.257451 & 8.679623 & 8.515046 & 8.507254 & 1147.992 & 1.394410e-13 & 8.034289e-13\\\\\n",
       "\tENSG00000137869 & 3.779607 & 3.532846 & 3.691546 & 3.652205 & 3.664051 & 1147.578 & 1.396995e-13 & 8.046882e-13\\\\\n",
       "\tENSG00000233398 & 3.874477 & 3.706202 & 3.656185 & 3.668896 & 3.726440 & 1147.227 & 1.399191e-13 & 8.047740e-13\\\\\n",
       "\tENSG00000105701 & 6.903015 & 6.954748 & 7.146769 & 6.827252 & 6.957946 & 1145.809 & 1.408107e-13 & 8.064829e-13\\\\\n",
       "\tENSG00000143207 & 7.004623 & 7.892597 & 7.313433 & 7.807295 & 7.504487 & 1144.101 & 1.418934e-13 & 8.113023e-13\\\\\n",
       "\tENSG00000123737 & 8.388098 & 7.678710 & 8.530180 & 8.109720 & 8.176677 & 1138.635 & 1.454253e-13 & 8.221206e-13\\\\\n",
       "\tENSG00000214160 & 6.994047 & 7.913299 & 7.110934 & 7.412355 & 7.357659 & 1138.421 & 1.455661e-13 & 8.223719e-13\\\\\n",
       "\tENSG00000109846 & 4.249335 & 4.032090 & 4.224073 & 4.154921 & 4.165105 & 1131.348 & 1.502994e-13 & 8.356778e-13\\\\\n",
       "\\end{tabular}\n"
      ],
      "text/markdown": [
       "\n",
       "A data.frame: 953 × 8\n",
       "\n",
       "| <!--/--> | ALL &lt;dbl&gt; | AML &lt;dbl&gt; | CLL &lt;dbl&gt; | NoL &lt;dbl&gt; | AveExpr &lt;dbl&gt; | F &lt;dbl&gt; | P.Value &lt;dbl&gt; | adj.P.Val &lt;dbl&gt; |\n",
       "|---|---|---|---|---|---|---|---|---|\n",
       "| ENSG00000177954 | 14.48894 | 14.39784 | 14.61716 | 14.27750 | 14.44536 | 26127.989 | 1.456821e-20 | 1.430395e-16 |\n",
       "| ENSG00000142534 | 13.93954 | 13.75007 | 13.95506 | 13.72552 | 13.84255 | 23133.285 | 2.726058e-20 | 1.430395e-16 |\n",
       "| ENSG00000198637 | 14.13433 | 14.11080 | 14.23767 | 14.03697 | 14.12994 | 22955.645 | 2.836398e-20 | 1.430395e-16 |\n",
       "| ENSG00000133112 | 13.78061 | 13.78450 | 13.77267 | 13.56294 | 13.72518 | 20350.440 | 5.272850e-20 | 2.014582e-16 |\n",
       "| ENSG00000198034 | 13.51314 | 13.80660 | 13.71761 | 13.38727 | 13.60616 | 19851.026 | 5.992212e-20 | 2.014582e-16 |\n",
       "| ENSG00000140988 | 14.10058 | 14.14974 | 14.22823 | 14.07113 | 14.13742 | 16599.698 | 1.504609e-19 | 4.185933e-16 |\n",
       "| ENSG00000233927 | 13.32112 | 13.23596 | 13.42129 | 13.17491 | 13.28832 | 16016.015 | 1.808992e-19 | 4.185933e-16 |\n",
       "| ENSG00000166710 | 12.99352 | 13.13625 | 13.27690 | 13.31242 | 13.17977 | 15917.092 | 1.867608e-19 | 4.185933e-16 |\n",
       "| ENSG00000109475 | 14.08755 | 13.98899 | 14.11584 | 13.77873 | 13.99278 | 14880.393 | 2.641368e-19 | 4.813734e-16 |\n",
       "| ENSG00000105193 | 13.29223 | 13.12494 | 13.47154 | 13.10956 | 13.24957 | 14837.774 | 2.680649e-19 | 4.813734e-16 |\n",
       "| ENSG00000198918 | 13.72933 | 13.80642 | 13.73162 | 13.66407 | 13.73286 | 14639.246 | 2.873091e-19 | 4.813734e-16 |\n",
       "| ENSG00000156482 | 13.45121 | 13.36451 | 13.64896 | 13.24524 | 13.42748 | 13028.933 | 5.233919e-19 | 7.541329e-16 |\n",
       "| ENSG00000108298 | 13.52101 | 13.21202 | 13.68027 | 13.15634 | 13.39241 | 12122.278 | 7.586549e-19 | 9.002110e-16 |\n",
       "| ENSG00000170315 | 13.04716 | 13.48633 | 13.18056 | 13.64973 | 13.34094 | 11905.139 | 8.326147e-19 | 9.297433e-16 |\n",
       "| ENSG00000135486 | 13.33097 | 13.41526 | 13.29131 | 13.26601 | 13.32589 | 11788.936 | 8.757249e-19 | 9.297433e-16 |\n",
       "| ENSG00000110700 | 12.99999 | 13.11217 | 13.08990 | 12.98353 | 13.04640 | 11063.208 | 1.214449e-18 | 1.113539e-15 |\n",
       "| ENSG00000149806 | 12.99400 | 12.99275 | 13.31644 | 12.85388 | 13.03927 | 10875.890 | 1.326010e-18 | 1.162968e-15 |\n",
       "| ENSG00000169567 | 11.49506 | 12.05842 | 12.06379 | 11.50760 | 11.78122 |  9895.511 | 2.156186e-18 | 1.739784e-15 |\n",
       "| ENSG00000143543 | 10.81122 | 11.22164 | 11.51480 | 11.23056 | 11.19456 |  9391.415 | 2.821917e-18 | 2.089925e-15 |\n",
       "| ENSG00000137154 | 13.37647 | 13.46902 | 13.53522 | 13.32310 | 13.42595 |  9369.702 | 2.855733e-18 | 2.089925e-15 |\n",
       "| ENSG00000232112 | 12.23607 | 12.49263 | 12.71735 | 12.66173 | 12.52694 |  9341.144 | 2.900947e-18 | 2.089925e-15 |\n",
       "| ENSG00000187514 | 13.36346 | 13.26131 | 13.01263 | 12.66995 | 13.07684 |  9267.683 | 3.021244e-18 | 2.101536e-15 |\n",
       "| ENSG00000118816 | 11.68461 | 11.75722 | 11.81722 | 11.50098 | 11.69001 |  9069.223 | 3.377271e-18 | 2.270877e-15 |\n",
       "| ENSG00000174444 | 13.43060 | 13.03562 | 13.49196 | 13.10332 | 13.26538 |  8599.458 | 4.440549e-18 | 2.889508e-15 |\n",
       "| ENSG00000080824 | 12.16780 | 12.09354 | 12.35360 | 12.02030 | 12.15881 |  8450.570 | 4.858143e-18 | 2.971319e-15 |\n",
       "| ENSG00000122406 | 13.23121 | 13.26863 | 13.40527 | 12.91735 | 13.20562 |  8417.489 | 4.957197e-18 | 2.971319e-15 |\n",
       "| ENSG00000130255 | 12.88832 | 12.83524 | 13.18521 | 12.72745 | 12.90905 |  8386.328 | 5.052718e-18 | 2.971319e-15 |\n",
       "| ENSG00000108654 | 12.50890 | 11.83196 | 12.46445 | 12.21406 | 12.25484 |  8353.583 | 5.155472e-18 | 2.971319e-15 |\n",
       "| ENSG00000087460 | 12.24961 | 11.91147 | 12.51694 | 12.07412 | 12.18803 |  8231.482 | 5.561299e-18 | 2.980396e-15 |\n",
       "| ENSG00000221983 | 12.79697 | 12.70643 | 13.09305 | 12.82913 | 12.85639 |  8160.056 | 5.816385e-18 | 2.980396e-15 |\n",
       "| ... | ... | ... | ... | ... | ... | ... | ... | ... |\n",
       "| ENSG00000130821 | 5.214284 | 4.974164 | 5.648512 | 8.325736 | 6.040674 | 1199.917 | 1.111065e-13 | 7.206560e-13 |\n",
       "| ENSG00000130518 | 6.986330 | 5.407438 | 6.937936 | 4.750937 | 6.020661 | 1199.166 | 1.114643e-13 | 7.215846e-13 |\n",
       "| ENSG00000163521 | 4.912902 | 5.218787 | 5.275215 | 5.390328 | 5.199308 | 1195.602 | 1.131810e-13 | 7.284900e-13 |\n",
       "| ENSG00000212992 | 4.823410 | 4.225729 | 4.196469 | 4.097073 | 4.335670 | 1192.855 | 1.145258e-13 | 7.307768e-13 |\n",
       "| ENSG00000157890 | 3.678097 | 3.586679 | 3.865001 | 3.647675 | 3.694363 | 1188.597 | 1.166481e-13 | 7.371633e-13 |\n",
       "| ENSG00000061936 | 8.061970 | 7.394516 | 8.229012 | 7.432428 | 7.779482 | 1187.675 | 1.171138e-13 | 7.378703e-13 |\n",
       "| ENSG00000247357 | 5.139469 | 5.839189 | 4.948686 | 5.061485 | 5.247207 | 1187.485 | 1.172101e-13 | 7.378703e-13 |\n",
       "| ENSG00000125831 | 3.624877 | 3.533432 | 3.682283 | 3.397352 | 3.559486 | 1187.044 | 1.174340e-13 | 7.378703e-13 |\n",
       "| ENSG00000247412 | 3.577447 | 3.399866 | 3.701217 | 3.341264 | 3.504948 | 1183.147 | 1.194337e-13 | 7.438471e-13 |\n",
       "| ENSG00000179562 | 6.386263 | 5.811791 | 6.411045 | 5.690265 | 6.074841 | 1182.730 | 1.196500e-13 | 7.442430e-13 |\n",
       "| ENSG00000115902 | 6.367353 | 7.003458 | 6.293532 | 6.773750 | 6.609524 | 1177.576 | 1.223634e-13 | 7.515389e-13 |\n",
       "| ENSG00000095139 | 7.880052 | 9.166382 | 9.011994 | 8.991784 | 8.762553 | 1175.992 | 1.232126e-13 | 7.533931e-13 |\n",
       "| ENSG00000122718 | 3.829331 | 3.879242 | 4.253310 | 4.102226 | 4.016027 | 1174.753 | 1.238809e-13 | 7.558757e-13 |\n",
       "| ENSG00000007080 | 6.900640 | 6.561585 | 6.623781 | 6.463479 | 6.637371 | 1165.568 | 1.289762e-13 | 7.724784e-13 |\n",
       "| ENSG00000206073 | 3.108975 | 3.119414 | 3.128686 | 3.056851 | 3.103482 | 1161.641 | 1.312303e-13 | 7.790379e-13 |\n",
       "| ENSG00000058085 | 3.748232 | 3.578609 | 3.720734 | 3.558487 | 3.651516 | 1159.281 | 1.326082e-13 | 7.835303e-13 |\n",
       "| ENSG00000143368 | 8.068664 | 9.029597 | 8.010834 | 8.573280 | 8.420594 | 1156.463 | 1.342755e-13 | 7.894732e-13 |\n",
       "| ENSG00000164299 | 3.082035 | 3.031434 | 3.007472 | 2.970033 | 3.022743 | 1153.881 | 1.358255e-13 | 7.933014e-13 |\n",
       "| ENSG00000073670 | 4.968278 | 4.803982 | 5.093394 | 4.572368 | 4.859505 | 1152.884 | 1.364296e-13 | 7.933014e-13 |\n",
       "| ENSG00000179335 | 8.615910 | 7.672596 | 8.495549 | 8.095217 | 8.219818 | 1151.646 | 1.371843e-13 | 7.958818e-13 |\n",
       "| ENSG00000243489 | 6.172070 | 6.262636 | 6.711030 | 6.752572 | 6.474577 | 1151.134 | 1.374982e-13 | 7.974736e-13 |\n",
       "| ENSG00000166888 | 7.985756 | 8.265127 | 8.811501 | 7.776192 | 8.209644 | 1148.875 | 1.388920e-13 | 8.017814e-13 |\n",
       "| ENSG00000163719 | 8.576895 | 8.257451 | 8.679623 | 8.515046 | 8.507254 | 1147.992 | 1.394410e-13 | 8.034289e-13 |\n",
       "| ENSG00000137869 | 3.779607 | 3.532846 | 3.691546 | 3.652205 | 3.664051 | 1147.578 | 1.396995e-13 | 8.046882e-13 |\n",
       "| ENSG00000233398 | 3.874477 | 3.706202 | 3.656185 | 3.668896 | 3.726440 | 1147.227 | 1.399191e-13 | 8.047740e-13 |\n",
       "| ENSG00000105701 | 6.903015 | 6.954748 | 7.146769 | 6.827252 | 6.957946 | 1145.809 | 1.408107e-13 | 8.064829e-13 |\n",
       "| ENSG00000143207 | 7.004623 | 7.892597 | 7.313433 | 7.807295 | 7.504487 | 1144.101 | 1.418934e-13 | 8.113023e-13 |\n",
       "| ENSG00000123737 | 8.388098 | 7.678710 | 8.530180 | 8.109720 | 8.176677 | 1138.635 | 1.454253e-13 | 8.221206e-13 |\n",
       "| ENSG00000214160 | 6.994047 | 7.913299 | 7.110934 | 7.412355 | 7.357659 | 1138.421 | 1.455661e-13 | 8.223719e-13 |\n",
       "| ENSG00000109846 | 4.249335 | 4.032090 | 4.224073 | 4.154921 | 4.165105 | 1131.348 | 1.502994e-13 | 8.356778e-13 |\n",
       "\n"
      ],
      "text/plain": [
       "                ALL      AML      CLL      NoL      AveExpr  F        \n",
       "ENSG00000177954 14.48894 14.39784 14.61716 14.27750 14.44536 26127.989\n",
       "ENSG00000142534 13.93954 13.75007 13.95506 13.72552 13.84255 23133.285\n",
       "ENSG00000198637 14.13433 14.11080 14.23767 14.03697 14.12994 22955.645\n",
       "ENSG00000133112 13.78061 13.78450 13.77267 13.56294 13.72518 20350.440\n",
       "ENSG00000198034 13.51314 13.80660 13.71761 13.38727 13.60616 19851.026\n",
       "ENSG00000140988 14.10058 14.14974 14.22823 14.07113 14.13742 16599.698\n",
       "ENSG00000233927 13.32112 13.23596 13.42129 13.17491 13.28832 16016.015\n",
       "ENSG00000166710 12.99352 13.13625 13.27690 13.31242 13.17977 15917.092\n",
       "ENSG00000109475 14.08755 13.98899 14.11584 13.77873 13.99278 14880.393\n",
       "ENSG00000105193 13.29223 13.12494 13.47154 13.10956 13.24957 14837.774\n",
       "ENSG00000198918 13.72933 13.80642 13.73162 13.66407 13.73286 14639.246\n",
       "ENSG00000156482 13.45121 13.36451 13.64896 13.24524 13.42748 13028.933\n",
       "ENSG00000108298 13.52101 13.21202 13.68027 13.15634 13.39241 12122.278\n",
       "ENSG00000170315 13.04716 13.48633 13.18056 13.64973 13.34094 11905.139\n",
       "ENSG00000135486 13.33097 13.41526 13.29131 13.26601 13.32589 11788.936\n",
       "ENSG00000110700 12.99999 13.11217 13.08990 12.98353 13.04640 11063.208\n",
       "ENSG00000149806 12.99400 12.99275 13.31644 12.85388 13.03927 10875.890\n",
       "ENSG00000169567 11.49506 12.05842 12.06379 11.50760 11.78122  9895.511\n",
       "ENSG00000143543 10.81122 11.22164 11.51480 11.23056 11.19456  9391.415\n",
       "ENSG00000137154 13.37647 13.46902 13.53522 13.32310 13.42595  9369.702\n",
       "ENSG00000232112 12.23607 12.49263 12.71735 12.66173 12.52694  9341.144\n",
       "ENSG00000187514 13.36346 13.26131 13.01263 12.66995 13.07684  9267.683\n",
       "ENSG00000118816 11.68461 11.75722 11.81722 11.50098 11.69001  9069.223\n",
       "ENSG00000174444 13.43060 13.03562 13.49196 13.10332 13.26538  8599.458\n",
       "ENSG00000080824 12.16780 12.09354 12.35360 12.02030 12.15881  8450.570\n",
       "ENSG00000122406 13.23121 13.26863 13.40527 12.91735 13.20562  8417.489\n",
       "ENSG00000130255 12.88832 12.83524 13.18521 12.72745 12.90905  8386.328\n",
       "ENSG00000108654 12.50890 11.83196 12.46445 12.21406 12.25484  8353.583\n",
       "ENSG00000087460 12.24961 11.91147 12.51694 12.07412 12.18803  8231.482\n",
       "ENSG00000221983 12.79697 12.70643 13.09305 12.82913 12.85639  8160.056\n",
       "...             ...      ...      ...      ...      ...      ...      \n",
       "ENSG00000130821 5.214284 4.974164 5.648512 8.325736 6.040674 1199.917 \n",
       "ENSG00000130518 6.986330 5.407438 6.937936 4.750937 6.020661 1199.166 \n",
       "ENSG00000163521 4.912902 5.218787 5.275215 5.390328 5.199308 1195.602 \n",
       "ENSG00000212992 4.823410 4.225729 4.196469 4.097073 4.335670 1192.855 \n",
       "ENSG00000157890 3.678097 3.586679 3.865001 3.647675 3.694363 1188.597 \n",
       "ENSG00000061936 8.061970 7.394516 8.229012 7.432428 7.779482 1187.675 \n",
       "ENSG00000247357 5.139469 5.839189 4.948686 5.061485 5.247207 1187.485 \n",
       "ENSG00000125831 3.624877 3.533432 3.682283 3.397352 3.559486 1187.044 \n",
       "ENSG00000247412 3.577447 3.399866 3.701217 3.341264 3.504948 1183.147 \n",
       "ENSG00000179562 6.386263 5.811791 6.411045 5.690265 6.074841 1182.730 \n",
       "ENSG00000115902 6.367353 7.003458 6.293532 6.773750 6.609524 1177.576 \n",
       "ENSG00000095139 7.880052 9.166382 9.011994 8.991784 8.762553 1175.992 \n",
       "ENSG00000122718 3.829331 3.879242 4.253310 4.102226 4.016027 1174.753 \n",
       "ENSG00000007080 6.900640 6.561585 6.623781 6.463479 6.637371 1165.568 \n",
       "ENSG00000206073 3.108975 3.119414 3.128686 3.056851 3.103482 1161.641 \n",
       "ENSG00000058085 3.748232 3.578609 3.720734 3.558487 3.651516 1159.281 \n",
       "ENSG00000143368 8.068664 9.029597 8.010834 8.573280 8.420594 1156.463 \n",
       "ENSG00000164299 3.082035 3.031434 3.007472 2.970033 3.022743 1153.881 \n",
       "ENSG00000073670 4.968278 4.803982 5.093394 4.572368 4.859505 1152.884 \n",
       "ENSG00000179335 8.615910 7.672596 8.495549 8.095217 8.219818 1151.646 \n",
       "ENSG00000243489 6.172070 6.262636 6.711030 6.752572 6.474577 1151.134 \n",
       "ENSG00000166888 7.985756 8.265127 8.811501 7.776192 8.209644 1148.875 \n",
       "ENSG00000163719 8.576895 8.257451 8.679623 8.515046 8.507254 1147.992 \n",
       "ENSG00000137869 3.779607 3.532846 3.691546 3.652205 3.664051 1147.578 \n",
       "ENSG00000233398 3.874477 3.706202 3.656185 3.668896 3.726440 1147.227 \n",
       "ENSG00000105701 6.903015 6.954748 7.146769 6.827252 6.957946 1145.809 \n",
       "ENSG00000143207 7.004623 7.892597 7.313433 7.807295 7.504487 1144.101 \n",
       "ENSG00000123737 8.388098 7.678710 8.530180 8.109720 8.176677 1138.635 \n",
       "ENSG00000214160 6.994047 7.913299 7.110934 7.412355 7.357659 1138.421 \n",
       "ENSG00000109846 4.249335 4.032090 4.224073 4.154921 4.165105 1131.348 \n",
       "                P.Value      adj.P.Val   \n",
       "ENSG00000177954 1.456821e-20 1.430395e-16\n",
       "ENSG00000142534 2.726058e-20 1.430395e-16\n",
       "ENSG00000198637 2.836398e-20 1.430395e-16\n",
       "ENSG00000133112 5.272850e-20 2.014582e-16\n",
       "ENSG00000198034 5.992212e-20 2.014582e-16\n",
       "ENSG00000140988 1.504609e-19 4.185933e-16\n",
       "ENSG00000233927 1.808992e-19 4.185933e-16\n",
       "ENSG00000166710 1.867608e-19 4.185933e-16\n",
       "ENSG00000109475 2.641368e-19 4.813734e-16\n",
       "ENSG00000105193 2.680649e-19 4.813734e-16\n",
       "ENSG00000198918 2.873091e-19 4.813734e-16\n",
       "ENSG00000156482 5.233919e-19 7.541329e-16\n",
       "ENSG00000108298 7.586549e-19 9.002110e-16\n",
       "ENSG00000170315 8.326147e-19 9.297433e-16\n",
       "ENSG00000135486 8.757249e-19 9.297433e-16\n",
       "ENSG00000110700 1.214449e-18 1.113539e-15\n",
       "ENSG00000149806 1.326010e-18 1.162968e-15\n",
       "ENSG00000169567 2.156186e-18 1.739784e-15\n",
       "ENSG00000143543 2.821917e-18 2.089925e-15\n",
       "ENSG00000137154 2.855733e-18 2.089925e-15\n",
       "ENSG00000232112 2.900947e-18 2.089925e-15\n",
       "ENSG00000187514 3.021244e-18 2.101536e-15\n",
       "ENSG00000118816 3.377271e-18 2.270877e-15\n",
       "ENSG00000174444 4.440549e-18 2.889508e-15\n",
       "ENSG00000080824 4.858143e-18 2.971319e-15\n",
       "ENSG00000122406 4.957197e-18 2.971319e-15\n",
       "ENSG00000130255 5.052718e-18 2.971319e-15\n",
       "ENSG00000108654 5.155472e-18 2.971319e-15\n",
       "ENSG00000087460 5.561299e-18 2.980396e-15\n",
       "ENSG00000221983 5.816385e-18 2.980396e-15\n",
       "...             ...          ...         \n",
       "ENSG00000130821 1.111065e-13 7.206560e-13\n",
       "ENSG00000130518 1.114643e-13 7.215846e-13\n",
       "ENSG00000163521 1.131810e-13 7.284900e-13\n",
       "ENSG00000212992 1.145258e-13 7.307768e-13\n",
       "ENSG00000157890 1.166481e-13 7.371633e-13\n",
       "ENSG00000061936 1.171138e-13 7.378703e-13\n",
       "ENSG00000247357 1.172101e-13 7.378703e-13\n",
       "ENSG00000125831 1.174340e-13 7.378703e-13\n",
       "ENSG00000247412 1.194337e-13 7.438471e-13\n",
       "ENSG00000179562 1.196500e-13 7.442430e-13\n",
       "ENSG00000115902 1.223634e-13 7.515389e-13\n",
       "ENSG00000095139 1.232126e-13 7.533931e-13\n",
       "ENSG00000122718 1.238809e-13 7.558757e-13\n",
       "ENSG00000007080 1.289762e-13 7.724784e-13\n",
       "ENSG00000206073 1.312303e-13 7.790379e-13\n",
       "ENSG00000058085 1.326082e-13 7.835303e-13\n",
       "ENSG00000143368 1.342755e-13 7.894732e-13\n",
       "ENSG00000164299 1.358255e-13 7.933014e-13\n",
       "ENSG00000073670 1.364296e-13 7.933014e-13\n",
       "ENSG00000179335 1.371843e-13 7.958818e-13\n",
       "ENSG00000243489 1.374982e-13 7.974736e-13\n",
       "ENSG00000166888 1.388920e-13 8.017814e-13\n",
       "ENSG00000163719 1.394410e-13 8.034289e-13\n",
       "ENSG00000137869 1.396995e-13 8.046882e-13\n",
       "ENSG00000233398 1.399191e-13 8.047740e-13\n",
       "ENSG00000105701 1.408107e-13 8.064829e-13\n",
       "ENSG00000143207 1.418934e-13 8.113023e-13\n",
       "ENSG00000123737 1.454253e-13 8.221206e-13\n",
       "ENSG00000214160 1.455661e-13 8.223719e-13\n",
       "ENSG00000109846 1.502994e-13 8.356778e-13"
      ]
     },
     "metadata": {},
     "output_type": "display_data"
    }
   ],
   "source": [
    "## While selecting significant genes from the `limma` generated table, use the log fold change column \n",
    "## as another criterion to select DE genes in combination with the p-values.\n",
    "\n",
    "myTable[tested2$P.Val < 0.05&tested2$logFC > 1.5,]"
   ]
  },
  {
   "cell_type": "markdown",
   "metadata": {},
   "source": [
    "The working of the preceding code is straightforward and self-explanatory. The log-fold changes are computed based on the final (treatment) and initial (control) values. The log used is to the base of 2. The volcano plot simply creates the plot of log fold change to log odds in the data. The plotting is a simple scatter plot with log fold changes along the x axis and –log(p-values) along the y axis. Transforming the p-values into a log scale gives better resolution for visualization."
   ]
  },
  {
   "cell_type": "markdown",
   "metadata": {},
   "source": [
    "## 12. The functional enrichment of data\n",
    "\n",
    "We already know the DE gene from the array data. We can understand their role in biological function by analyzing the GO categories in the collection, so as to learn more about this group of genes at the biological level. This section is about the enrichment of the gene set with the GO term.<br>\n",
    "我们已经从阵列数据中知道了DE基因，可以通过分析集合中的GO类别来了解它们在生物学功能方面的作用，从而在生物学层面更多地了解这组基因。这个部分是关于GO术语的基因集的富集。<br>\n",
    "\n",
    "In this part, it requires the gene set data that comes from our analysis and the annotation package indicated in the `ExpressionSet` object (`hgu95av2.db`).<br>\n",
    "The following steps is to describe the enrichment of genes with GO terms via a hypergeometric test."
   ]
  },
  {
   "cell_type": "code",
   "execution_count": 12,
   "metadata": {},
   "outputs": [],
   "source": [
    "library(hgu95av2.db)\n",
    "library(GOstats)\n",
    "library(biomaRt)"
   ]
  },
  {
   "cell_type": "markdown",
   "metadata": {},
   "source": [
    "Prepare the input data from the results of the leukemia data analysis (Working with the data of multiple classes recipe). Create two sets, one that consists of all the genes in the data and the other that consists of DE genes.<br>\n",
    "根据白血病数据分析的结果准备输入数据（Working with the data of multiple classes）。 创建两个数据集，一个由数据中的所有基因组成，另一个由差异表达基因组成。"
   ]
  },
  {
   "cell_type": "code",
   "execution_count": 13,
   "metadata": {},
   "outputs": [],
   "source": [
    "# Working with the data of multiple classes \n",
    "library(leukemiasEset)\n",
    "data(leukemiasEset)\n",
    "pheno <- pData(leukemiasEset)\n",
    "mydata <- leukemiasEset[, sampleNames(leukemiasEset)[c(1:3, 13:15, 25:27, 49:51)]]\n",
    "design <- model.matrix(~0 + factor(pData(mydata)$LeukemiaType))\n",
    "colnames(design) <- unique(as.character(pData(mydata)$LeukemiaType))\n",
    "library(limma)\n",
    "fit <- lmFit(mydata, design)\n",
    "contrast.matrix <- makeContrasts(NoL- ALL, NoL- AML, NoL- CLL, levels = design)\n",
    "fit2 <- contrasts.fit(fit, contrast.matrix)\n",
    "fit2 <- eBayes(fit2)\n",
    "tested2 <- topTable(fit2,adjust=\"fdr\",sort.by=\"B\",number=Inf, coef=1)\n",
    "DE2 <- tested2[tested2$adj.P.Val < 0.01,]"
   ]
  },
  {
   "cell_type": "code",
   "execution_count": 14,
   "metadata": {},
   "outputs": [
    {
     "data": {
      "text/html": [
       "<ol class=list-inline>\n",
       "\t<li>'ENSG00000152078'</li>\n",
       "\t<li>'ENSG00000117519'</li>\n",
       "\t<li>'ENSG00000145850'</li>\n",
       "\t<li>'ENSG00000170180'</li>\n",
       "\t<li>'ENSG00000087586'</li>\n",
       "\t<li>'ENSG00000047597'</li>\n",
       "</ol>\n"
      ],
      "text/latex": [
       "\\begin{enumerate*}\n",
       "\\item 'ENSG00000152078'\n",
       "\\item 'ENSG00000117519'\n",
       "\\item 'ENSG00000145850'\n",
       "\\item 'ENSG00000170180'\n",
       "\\item 'ENSG00000087586'\n",
       "\\item 'ENSG00000047597'\n",
       "\\end{enumerate*}\n"
      ],
      "text/markdown": [
       "1. 'ENSG00000152078'\n",
       "2. 'ENSG00000117519'\n",
       "3. 'ENSG00000145850'\n",
       "4. 'ENSG00000170180'\n",
       "5. 'ENSG00000087586'\n",
       "6. 'ENSG00000047597'\n",
       "\n",
       "\n"
      ],
      "text/plain": [
       "[1] \"ENSG00000152078\" \"ENSG00000117519\" \"ENSG00000145850\" \"ENSG00000170180\"\n",
       "[5] \"ENSG00000087586\" \"ENSG00000047597\""
      ]
     },
     "metadata": {},
     "output_type": "display_data"
    }
   ],
   "source": [
    "all_genes <- rownames(tested2)\n",
    "head(all_genes)"
   ]
  },
  {
   "cell_type": "code",
   "execution_count": 15,
   "metadata": {},
   "outputs": [
    {
     "data": {
      "text/html": [
       "<ol class=list-inline>\n",
       "\t<li>'ENSG00000152078'</li>\n",
       "\t<li>'ENSG00000117519'</li>\n",
       "\t<li>'ENSG00000145850'</li>\n",
       "\t<li>'ENSG00000170180'</li>\n",
       "\t<li>'ENSG00000087586'</li>\n",
       "\t<li>'ENSG00000047597'</li>\n",
       "</ol>\n"
      ],
      "text/latex": [
       "\\begin{enumerate*}\n",
       "\\item 'ENSG00000152078'\n",
       "\\item 'ENSG00000117519'\n",
       "\\item 'ENSG00000145850'\n",
       "\\item 'ENSG00000170180'\n",
       "\\item 'ENSG00000087586'\n",
       "\\item 'ENSG00000047597'\n",
       "\\end{enumerate*}\n"
      ],
      "text/markdown": [
       "1. 'ENSG00000152078'\n",
       "2. 'ENSG00000117519'\n",
       "3. 'ENSG00000145850'\n",
       "4. 'ENSG00000170180'\n",
       "5. 'ENSG00000087586'\n",
       "6. 'ENSG00000047597'\n",
       "\n",
       "\n"
      ],
      "text/plain": [
       "[1] \"ENSG00000152078\" \"ENSG00000117519\" \"ENSG00000145850\" \"ENSG00000170180\"\n",
       "[5] \"ENSG00000087586\" \"ENSG00000047597\""
      ]
     },
     "metadata": {},
     "output_type": "display_data"
    }
   ],
   "source": [
    "sel_genes <- rownames(DE2)\n",
    "head(sel_genes)"
   ]
  },
  {
   "cell_type": "code",
   "execution_count": 37,
   "metadata": {},
   "outputs": [
    {
     "data": {
      "text/html": [
       "<table>\n",
       "<caption>A data.frame: 4 × 3</caption>\n",
       "<thead>\n",
       "\t<tr><th></th><th scope=col>name</th><th scope=col>description</th><th scope=col>page</th></tr>\n",
       "\t<tr><th></th><th scope=col>&lt;chr&gt;</th><th scope=col>&lt;chr&gt;</th><th scope=col>&lt;chr&gt;</th></tr>\n",
       "</thead>\n",
       "<tbody>\n",
       "\t<tr><th scope=row>59</th><td>entrezgene_trans_name </td><td>EntrezGene transcript name ID</td><td>feature_page</td></tr>\n",
       "\t<tr><th scope=row>79</th><td>entrezgene_description</td><td>NCBI gene description        </td><td>feature_page</td></tr>\n",
       "\t<tr><th scope=row>80</th><td>entrezgene_accession  </td><td>NCBI gene accession          </td><td>feature_page</td></tr>\n",
       "\t<tr><th scope=row>81</th><td>entrezgene_id         </td><td>NCBI gene ID                 </td><td>feature_page</td></tr>\n",
       "</tbody>\n",
       "</table>\n"
      ],
      "text/latex": [
       "A data.frame: 4 × 3\n",
       "\\begin{tabular}{r|lll}\n",
       "  & name & description & page\\\\\n",
       "  & <chr> & <chr> & <chr>\\\\\n",
       "\\hline\n",
       "\t59 & entrezgene\\_trans\\_name  & EntrezGene transcript name ID & feature\\_page\\\\\n",
       "\t79 & entrezgene\\_description & NCBI gene description         & feature\\_page\\\\\n",
       "\t80 & entrezgene\\_accession   & NCBI gene accession           & feature\\_page\\\\\n",
       "\t81 & entrezgene\\_id          & NCBI gene ID                  & feature\\_page\\\\\n",
       "\\end{tabular}\n"
      ],
      "text/markdown": [
       "\n",
       "A data.frame: 4 × 3\n",
       "\n",
       "| <!--/--> | name &lt;chr&gt; | description &lt;chr&gt; | page &lt;chr&gt; |\n",
       "|---|---|---|---|\n",
       "| 59 | entrezgene_trans_name  | EntrezGene transcript name ID | feature_page |\n",
       "| 79 | entrezgene_description | NCBI gene description         | feature_page |\n",
       "| 80 | entrezgene_accession   | NCBI gene accession           | feature_page |\n",
       "| 81 | entrezgene_id          | NCBI gene ID                  | feature_page |\n",
       "\n"
      ],
      "text/plain": [
       "   name                   description                   page        \n",
       "59 entrezgene_trans_name  EntrezGene transcript name ID feature_page\n",
       "79 entrezgene_description NCBI gene description         feature_page\n",
       "80 entrezgene_accession   NCBI gene accession           feature_page\n",
       "81 entrezgene_id          NCBI gene ID                  feature_page"
      ]
     },
     "metadata": {},
     "output_type": "display_data"
    }
   ],
   "source": [
    "grep(\"entrez\", listAttributes(mart)[,1])\n",
    "listAttributes(mart)[c(59,79:81),]"
   ]
  },
  {
   "cell_type": "code",
   "execution_count": 38,
   "metadata": {},
   "outputs": [
    {
     "name": "stderr",
     "output_type": "stream",
     "text": [
      "\n",
      "Batch submitting query [=>-----------------------------]   5% eta:  8s\n",
      "\n",
      "Batch submitting query [=>-----------------------------]   7% eta: 12s\n",
      "\n",
      "Batch submitting query [==>----------------------------]  10% eta:  1m\n",
      "\n",
      "Batch submitting query [===>---------------------------]  12% eta: 44s\n",
      "\n",
      "Batch submitting query [====>--------------------------]  15% eta: 38s\n",
      "\n",
      "Batch submitting query [====>--------------------------]  17% eta: 43s\n",
      "\n",
      "Batch submitting query [=====>-------------------------]  20% eta: 38s\n",
      "\n",
      "Batch submitting query [======>------------------------]  22% eta: 34s\n",
      "\n",
      "Batch submitting query [=======>-----------------------]  24% eta: 31s\n",
      "\n",
      "Batch submitting query [=======>-----------------------]  27% eta: 28s\n",
      "\n",
      "Batch submitting query [========>----------------------]  29% eta: 26s\n",
      "\n",
      "Batch submitting query [=========>---------------------]  32% eta: 24s\n",
      "\n",
      "Batch submitting query [==========>--------------------]  34% eta: 22s\n",
      "\n",
      "Batch submitting query [==========>--------------------]  37% eta: 21s\n",
      "\n",
      "Batch submitting query [===========>-------------------]  39% eta: 19s\n",
      "\n",
      "Batch submitting query [============>------------------]  41% eta: 18s\n",
      "\n",
      "Batch submitting query [=============>-----------------]  44% eta: 19s\n",
      "\n",
      "Batch submitting query [=============>-----------------]  46% eta: 24s\n",
      "\n",
      "Batch submitting query [==============>----------------]  49% eta: 22s\n",
      "\n",
      "Batch submitting query [===============>---------------]  51% eta: 20s\n",
      "\n",
      "Batch submitting query [================>--------------]  54% eta: 21s\n",
      "\n",
      "Batch submitting query [================>--------------]  56% eta: 19s\n",
      "\n",
      "Batch submitting query [=================>-------------]  59% eta: 17s\n",
      "\n",
      "Batch submitting query [==================>------------]  61% eta: 16s\n",
      "\n",
      "Batch submitting query [===================>-----------]  63% eta: 15s\n",
      "\n",
      "Batch submitting query [===================>-----------]  66% eta: 13s\n",
      "\n",
      "Batch submitting query [====================>----------]  68% eta: 12s\n",
      "\n",
      "Batch submitting query [=====================>---------]  71% eta: 13s\n",
      "\n",
      "Batch submitting query [======================>--------]  73% eta: 13s\n",
      "\n",
      "Batch submitting query [======================>--------]  76% eta: 12s\n",
      "\n",
      "Batch submitting query [=======================>-------]  78% eta: 10s\n",
      "\n",
      "Batch submitting query [========================>------]  80% eta:  9s\n",
      "\n",
      "Batch submitting query [=========================>-----]  83% eta:  8s\n",
      "\n",
      "Batch submitting query [=========================>-----]  85% eta:  6s\n",
      "\n",
      "Batch submitting query [==========================>----]  88% eta:  5s\n",
      "\n",
      "Batch submitting query [===========================>---]  90% eta:  4s\n",
      "\n",
      "Batch submitting query [============================>--]  93% eta:  3s\n",
      "\n",
      "Batch submitting query [============================>--]  95% eta:  2s\n",
      "\n",
      "Batch submitting query [=============================>-]  98% eta:  1s\n",
      "\n",
      "Batch submitting query [===============================] 100% eta:  0s\n",
      "                                                                      \n",
      "\n"
     ]
    }
   ],
   "source": [
    "## Map these sets to their Entrez IDs\n",
    "# set the mart\n",
    "mart <- useDataset(\"hsapiens_gene_ensembl\", useMart(\"ensembl\"))\n",
    "\n",
    "# get entrez ids for all genes\n",
    "all_genes <- c(getBM(filters= \"ensembl_gene_id\", attributes=c(\"entrezgene_id\"),\n",
    "                     values= all_genes, mart= mart)) \n",
    "\n",
    "# get entrez ids for DE\n",
    "sel_genes <- c(getBM(filters= \"ensembl_gene_id\", attributes=c(\"entrezgene_id\"),\n",
    "                     values= sel_genes, mart= mart)) "
   ]
  },
  {
   "cell_type": "code",
   "execution_count": 39,
   "metadata": {},
   "outputs": [],
   "source": [
    "## Define a cutoff for the test statistics\n",
    "hgCutoff <- 0.05"
   ]
  },
  {
   "cell_type": "code",
   "execution_count": 40,
   "metadata": {},
   "outputs": [
    {
     "name": "stderr",
     "output_type": "stream",
     "text": [
      "Warning message in makeValidParams(.Object):\n",
      "\"converting geneIds from list to atomic vector via unlist\"\n",
      "Warning message in makeValidParams(.Object):\n",
      "\"converting univ from list to atomic vector via unlist\"\n",
      "Warning message in makeValidParams(.Object):\n",
      "\"removing duplicate IDs in universeGeneIds\"\n"
     ]
    }
   ],
   "source": [
    "## Use a `GOHyperGParams` object as an input parameter for the enrichment computations\n",
    "params <- new(\"GOHyperGParams\", geneIds = sel_genes, universeGeneIds = all_genes, \n",
    "              annotation = \"hgu95av2.db\", ontology = \"BP\", pvalueCutoff = hgCutoff, \n",
    "              conditional = FALSE, testDirection = \"over\")"
   ]
  },
  {
   "cell_type": "code",
   "execution_count": 41,
   "metadata": {},
   "outputs": [
    {
     "data": {
      "text/plain": [
       "Gene to GO BP  test for over-representation \n",
       "3220 GO BP ids tested (474 have p < 0.05)\n",
       "Selected gene set size: 125 \n",
       "    Gene universe size: 7795 \n",
       "    Annotation package: hgu95av2 "
      ]
     },
     "metadata": {},
     "output_type": "display_data"
    }
   ],
   "source": [
    "## Once having `GOHyperGParams` object, perform a hypergeometric test to get the p-value for the GO annotations\n",
    "hgOver <- hyperGTest(params)\n",
    "hgOver"
   ]
  },
  {
   "cell_type": "code",
   "execution_count": 42,
   "metadata": {},
   "outputs": [
    {
     "data": {
      "text/html": [
       "<table>\n",
       "<caption>A data.frame: 474 × 7</caption>\n",
       "<thead>\n",
       "\t<tr><th scope=col>GOBPID</th><th scope=col>Pvalue</th><th scope=col>OddsRatio</th><th scope=col>ExpCount</th><th scope=col>Count</th><th scope=col>Size</th><th scope=col>Term</th></tr>\n",
       "\t<tr><th scope=col>&lt;chr&gt;</th><th scope=col>&lt;dbl&gt;</th><th scope=col>&lt;dbl&gt;</th><th scope=col>&lt;dbl&gt;</th><th scope=col>&lt;int&gt;</th><th scope=col>&lt;int&gt;</th><th scope=col>&lt;chr&gt;</th></tr>\n",
       "</thead>\n",
       "<tbody>\n",
       "\t<tr><td>GO:0006778</td><td>3.005083e-09</td><td>30.781297</td><td>0.40089801</td><td> 8</td><td> 25</td><td>porphyrin-containing compound metabolic process                     </td></tr>\n",
       "\t<tr><td>GO:0006779</td><td>3.921996e-09</td><td>45.440678</td><td>0.27261065</td><td> 7</td><td> 17</td><td>porphyrin-containing compound biosynthetic process                  </td></tr>\n",
       "\t<tr><td>GO:0033014</td><td>6.332814e-09</td><td>41.304314</td><td>0.28864657</td><td> 7</td><td> 18</td><td>tetrapyrrole biosynthetic process                                   </td></tr>\n",
       "\t<tr><td>GO:0042168</td><td>1.502025e-08</td><td>34.940678</td><td>0.32071841</td><td> 7</td><td> 20</td><td>heme metabolic process                                              </td></tr>\n",
       "\t<tr><td>GO:0006783</td><td>6.705291e-08</td><td>42.918768</td><td>0.24053881</td><td> 6</td><td> 15</td><td>heme biosynthetic process                                           </td></tr>\n",
       "\t<tr><td>GO:0033013</td><td>9.130584e-08</td><td>18.015915</td><td>0.59332906</td><td> 8</td><td> 37</td><td>tetrapyrrole metabolic process                                      </td></tr>\n",
       "\t<tr><td>GO:0046501</td><td>1.171639e-07</td><td>79.854167</td><td>0.14432328</td><td> 5</td><td>  9</td><td>protoporphyrinogen IX metabolic process                             </td></tr>\n",
       "\t<tr><td>GO:0006782</td><td>2.125456e-06</td><td>84.484848</td><td>0.11225144</td><td> 4</td><td>  7</td><td>protoporphyrinogen IX biosynthetic process                          </td></tr>\n",
       "\t<tr><td>GO:0019755</td><td>4.198163e-06</td><td>63.355372</td><td>0.12828736</td><td> 4</td><td>  8</td><td>one-carbon compound transport                                       </td></tr>\n",
       "\t<tr><td>GO:0042440</td><td>6.303919e-06</td><td>11.914362</td><td>0.72161642</td><td> 7</td><td> 45</td><td>pigment metabolic process                                           </td></tr>\n",
       "\t<tr><td>GO:0046148</td><td>3.189162e-05</td><td>11.668449</td><td>0.62540090</td><td> 6</td><td> 39</td><td>pigment biosynthetic process                                        </td></tr>\n",
       "\t<tr><td>GO:0048821</td><td>3.257890e-05</td><td>16.778509</td><td>0.38486209</td><td> 5</td><td> 24</td><td>erythrocyte development                                             </td></tr>\n",
       "\t<tr><td>GO:0051188</td><td>3.598829e-05</td><td> 4.629348</td><td>2.95060936</td><td>12</td><td>184</td><td>cofactor biosynthetic process                                       </td></tr>\n",
       "\t<tr><td>GO:0030218</td><td>5.982581e-05</td><td> 6.742591</td><td>1.36305324</td><td> 8</td><td> 85</td><td>erythrocyte differentiation                                         </td></tr>\n",
       "\t<tr><td>GO:0055080</td><td>7.322438e-05</td><td> 3.165834</td><td>6.49454779</td><td>18</td><td>405</td><td>cation homeostasis                                                  </td></tr>\n",
       "\t<tr><td>GO:1905446</td><td>7.773315e-05</td><td>62.844262</td><td>0.09621552</td><td> 3</td><td>  6</td><td>regulation of mitochondrial ATP synthesis coupled electron transport</td></tr>\n",
       "\t<tr><td>GO:0055065</td><td>8.135800e-05</td><td> 3.253086</td><td>5.94932649</td><td>17</td><td>371</td><td>metal ion homeostasis                                               </td></tr>\n",
       "\t<tr><td>GO:0002262</td><td>8.842463e-05</td><td> 5.536435</td><td>1.84413085</td><td> 9</td><td>115</td><td>myeloid cell homeostasis                                            </td></tr>\n",
       "\t<tr><td>GO:0098771</td><td>9.713667e-05</td><td> 3.090059</td><td>6.63887107</td><td>18</td><td>414</td><td>inorganic ion homeostasis                                           </td></tr>\n",
       "\t<tr><td>GO:0034101</td><td>1.053773e-04</td><td> 6.175010</td><td>1.47530468</td><td> 8</td><td> 92</td><td>erythrocyte homeostasis                                             </td></tr>\n",
       "\t<tr><td>GO:0055072</td><td>1.066176e-04</td><td> 9.157263</td><td>0.76972418</td><td> 6</td><td> 48</td><td>iron ion homeostasis                                                </td></tr>\n",
       "\t<tr><td>GO:0050801</td><td>1.107698e-04</td><td> 2.959593</td><td>7.32841565</td><td>19</td><td>457</td><td>ion homeostasis                                                     </td></tr>\n",
       "\t<tr><td>GO:0051693</td><td>1.620252e-04</td><td>18.077922</td><td>0.28864657</td><td> 4</td><td> 18</td><td>actin filament capping                                              </td></tr>\n",
       "\t<tr><td>GO:0051186</td><td>1.970333e-04</td><td> 3.248455</td><td>5.19563823</td><td>15</td><td>324</td><td>cofactor metabolic process                                          </td></tr>\n",
       "\t<tr><td>GO:0030835</td><td>2.026973e-04</td><td>16.870523</td><td>0.30468249</td><td> 4</td><td> 19</td><td>negative regulation of actin filament depolymerization              </td></tr>\n",
       "\t<tr><td>GO:0032536</td><td>2.125834e-04</td><td>37.696721</td><td>0.12828736</td><td> 3</td><td>  8</td><td>regulation of cell projection size                                  </td></tr>\n",
       "\t<tr><td>GO:0072488</td><td>2.125834e-04</td><td>37.696721</td><td>0.12828736</td><td> 3</td><td>  8</td><td>ammonium transmembrane transport                                    </td></tr>\n",
       "\t<tr><td>GO:1901880</td><td>2.160660e-04</td><td>10.611111</td><td>0.56125722</td><td> 5</td><td> 35</td><td>negative regulation of protein depolymerization                     </td></tr>\n",
       "\t<tr><td>GO:0035378</td><td>2.551263e-04</td><td>      Inf</td><td>0.03207184</td><td> 2</td><td>  2</td><td>carbon dioxide transmembrane transport                              </td></tr>\n",
       "\t<tr><td>GO:0015696</td><td>3.085789e-04</td><td> 7.386555</td><td>0.93008339</td><td> 6</td><td> 58</td><td>ammonium transport                                                  </td></tr>\n",
       "\t<tr><td>...</td><td>...</td><td>...</td><td>...</td><td>...</td><td>...</td><td>...</td></tr>\n",
       "\t<tr><td>GO:0070295</td><td>0.04734641</td><td>30.919355</td><td>0.04810776</td><td>1</td><td> 3</td><td>renal water absorption                                                   </td></tr>\n",
       "\t<tr><td>GO:0070494</td><td>0.04734641</td><td>30.919355</td><td>0.04810776</td><td>1</td><td> 3</td><td>regulation of thrombin-activated receptor signaling pathway              </td></tr>\n",
       "\t<tr><td>GO:0070495</td><td>0.04734641</td><td>30.919355</td><td>0.04810776</td><td>1</td><td> 3</td><td>negative regulation of thrombin-activated receptor signaling pathway     </td></tr>\n",
       "\t<tr><td>GO:0071284</td><td>0.04734641</td><td>30.919355</td><td>0.04810776</td><td>1</td><td> 3</td><td>cellular response to lead ion                                            </td></tr>\n",
       "\t<tr><td>GO:0071288</td><td>0.04734641</td><td>30.919355</td><td>0.04810776</td><td>1</td><td> 3</td><td>cellular response to mercury ion                                         </td></tr>\n",
       "\t<tr><td>GO:0071694</td><td>0.04734641</td><td>30.919355</td><td>0.04810776</td><td>1</td><td> 3</td><td>maintenance of protein location in extracellular region                  </td></tr>\n",
       "\t<tr><td>GO:0090306</td><td>0.04734641</td><td>30.919355</td><td>0.04810776</td><td>1</td><td> 3</td><td>spindle assembly involved in meiosis                                     </td></tr>\n",
       "\t<tr><td>GO:0097068</td><td>0.04734641</td><td>30.919355</td><td>0.04810776</td><td>1</td><td> 3</td><td>response to thyroxine                                                    </td></tr>\n",
       "\t<tr><td>GO:1900193</td><td>0.04734641</td><td>30.919355</td><td>0.04810776</td><td>1</td><td> 3</td><td>regulation of oocyte maturation                                          </td></tr>\n",
       "\t<tr><td>GO:1902302</td><td>0.04734641</td><td>30.919355</td><td>0.04810776</td><td>1</td><td> 3</td><td>regulation of potassium ion export                                       </td></tr>\n",
       "\t<tr><td>GO:1902722</td><td>0.04734641</td><td>30.919355</td><td>0.04810776</td><td>1</td><td> 3</td><td>positive regulation of prolactin secretion                               </td></tr>\n",
       "\t<tr><td>GO:1902896</td><td>0.04734641</td><td>30.919355</td><td>0.04810776</td><td>1</td><td> 3</td><td>terminal web assembly                                                    </td></tr>\n",
       "\t<tr><td>GO:1903237</td><td>0.04734641</td><td>30.919355</td><td>0.04810776</td><td>1</td><td> 3</td><td>negative regulation of leukocyte tethering or rolling                    </td></tr>\n",
       "\t<tr><td>GO:1903764</td><td>0.04734641</td><td>30.919355</td><td>0.04810776</td><td>1</td><td> 3</td><td>regulation of potassium ion export across plasma membrane                </td></tr>\n",
       "\t<tr><td>GO:1904016</td><td>0.04734641</td><td>30.919355</td><td>0.04810776</td><td>1</td><td> 3</td><td>response to Thyroglobulin triiodothyronine                               </td></tr>\n",
       "\t<tr><td>GO:1904304</td><td>0.04734641</td><td>30.919355</td><td>0.04810776</td><td>1</td><td> 3</td><td>regulation of gastro-intestinal system smooth muscle contraction         </td></tr>\n",
       "\t<tr><td>GO:1904306</td><td>0.04734641</td><td>30.919355</td><td>0.04810776</td><td>1</td><td> 3</td><td>positive regulation of gastro-intestinal system smooth muscle contraction</td></tr>\n",
       "\t<tr><td>GO:1904386</td><td>0.04734641</td><td>30.919355</td><td>0.04810776</td><td>1</td><td> 3</td><td>response to L-phenylalanine derivative                                   </td></tr>\n",
       "\t<tr><td>GO:1904715</td><td>0.04734641</td><td>30.919355</td><td>0.04810776</td><td>1</td><td> 3</td><td>negative regulation of chaperone-mediated autophagy                      </td></tr>\n",
       "\t<tr><td>GO:1905333</td><td>0.04734641</td><td>30.919355</td><td>0.04810776</td><td>1</td><td> 3</td><td>regulation of gastric motility                                           </td></tr>\n",
       "\t<tr><td>GO:2000048</td><td>0.04734641</td><td>30.919355</td><td>0.04810776</td><td>1</td><td> 3</td><td>negative regulation of cell-cell adhesion mediated by cadherin           </td></tr>\n",
       "\t<tr><td>GO:2000295</td><td>0.04734641</td><td>30.919355</td><td>0.04810776</td><td>1</td><td> 3</td><td>regulation of hydrogen peroxide catabolic process                        </td></tr>\n",
       "\t<tr><td>GO:2000821</td><td>0.04734641</td><td>30.919355</td><td>0.04810776</td><td>1</td><td> 3</td><td>regulation of grooming behavior                                          </td></tr>\n",
       "\t<tr><td>GO:0019934</td><td>0.04781758</td><td> 6.219512</td><td>0.35279025</td><td>2</td><td>22</td><td>cGMP-mediated signaling                                                  </td></tr>\n",
       "\t<tr><td>GO:0044058</td><td>0.04781758</td><td> 6.219512</td><td>0.35279025</td><td>2</td><td>22</td><td>regulation of digestive system process                                   </td></tr>\n",
       "\t<tr><td>GO:0050849</td><td>0.04781758</td><td> 6.219512</td><td>0.35279025</td><td>2</td><td>22</td><td>negative regulation of calcium-mediated signaling                        </td></tr>\n",
       "\t<tr><td>GO:0002920</td><td>0.04803266</td><td> 3.904713</td><td>0.81783194</td><td>3</td><td>51</td><td>regulation of humoral immune response                                    </td></tr>\n",
       "\t<tr><td>GO:0042100</td><td>0.04803266</td><td> 3.904713</td><td>0.81783194</td><td>3</td><td>51</td><td>B cell proliferation                                                     </td></tr>\n",
       "\t<tr><td>GO:0042773</td><td>0.04803266</td><td> 3.904713</td><td>0.81783194</td><td>3</td><td>51</td><td>ATP synthesis coupled electron transport                                 </td></tr>\n",
       "\t<tr><td>GO:0042775</td><td>0.04803266</td><td> 3.904713</td><td>0.81783194</td><td>3</td><td>51</td><td>mitochondrial ATP synthesis coupled electron transport                   </td></tr>\n",
       "</tbody>\n",
       "</table>\n"
      ],
      "text/latex": [
       "A data.frame: 474 × 7\n",
       "\\begin{tabular}{lllllll}\n",
       " GOBPID & Pvalue & OddsRatio & ExpCount & Count & Size & Term\\\\\n",
       " <chr> & <dbl> & <dbl> & <dbl> & <int> & <int> & <chr>\\\\\n",
       "\\hline\n",
       "\t GO:0006778 & 3.005083e-09 & 30.781297 & 0.40089801 &  8 &  25 & porphyrin-containing compound metabolic process                     \\\\\n",
       "\t GO:0006779 & 3.921996e-09 & 45.440678 & 0.27261065 &  7 &  17 & porphyrin-containing compound biosynthetic process                  \\\\\n",
       "\t GO:0033014 & 6.332814e-09 & 41.304314 & 0.28864657 &  7 &  18 & tetrapyrrole biosynthetic process                                   \\\\\n",
       "\t GO:0042168 & 1.502025e-08 & 34.940678 & 0.32071841 &  7 &  20 & heme metabolic process                                              \\\\\n",
       "\t GO:0006783 & 6.705291e-08 & 42.918768 & 0.24053881 &  6 &  15 & heme biosynthetic process                                           \\\\\n",
       "\t GO:0033013 & 9.130584e-08 & 18.015915 & 0.59332906 &  8 &  37 & tetrapyrrole metabolic process                                      \\\\\n",
       "\t GO:0046501 & 1.171639e-07 & 79.854167 & 0.14432328 &  5 &   9 & protoporphyrinogen IX metabolic process                             \\\\\n",
       "\t GO:0006782 & 2.125456e-06 & 84.484848 & 0.11225144 &  4 &   7 & protoporphyrinogen IX biosynthetic process                          \\\\\n",
       "\t GO:0019755 & 4.198163e-06 & 63.355372 & 0.12828736 &  4 &   8 & one-carbon compound transport                                       \\\\\n",
       "\t GO:0042440 & 6.303919e-06 & 11.914362 & 0.72161642 &  7 &  45 & pigment metabolic process                                           \\\\\n",
       "\t GO:0046148 & 3.189162e-05 & 11.668449 & 0.62540090 &  6 &  39 & pigment biosynthetic process                                        \\\\\n",
       "\t GO:0048821 & 3.257890e-05 & 16.778509 & 0.38486209 &  5 &  24 & erythrocyte development                                             \\\\\n",
       "\t GO:0051188 & 3.598829e-05 &  4.629348 & 2.95060936 & 12 & 184 & cofactor biosynthetic process                                       \\\\\n",
       "\t GO:0030218 & 5.982581e-05 &  6.742591 & 1.36305324 &  8 &  85 & erythrocyte differentiation                                         \\\\\n",
       "\t GO:0055080 & 7.322438e-05 &  3.165834 & 6.49454779 & 18 & 405 & cation homeostasis                                                  \\\\\n",
       "\t GO:1905446 & 7.773315e-05 & 62.844262 & 0.09621552 &  3 &   6 & regulation of mitochondrial ATP synthesis coupled electron transport\\\\\n",
       "\t GO:0055065 & 8.135800e-05 &  3.253086 & 5.94932649 & 17 & 371 & metal ion homeostasis                                               \\\\\n",
       "\t GO:0002262 & 8.842463e-05 &  5.536435 & 1.84413085 &  9 & 115 & myeloid cell homeostasis                                            \\\\\n",
       "\t GO:0098771 & 9.713667e-05 &  3.090059 & 6.63887107 & 18 & 414 & inorganic ion homeostasis                                           \\\\\n",
       "\t GO:0034101 & 1.053773e-04 &  6.175010 & 1.47530468 &  8 &  92 & erythrocyte homeostasis                                             \\\\\n",
       "\t GO:0055072 & 1.066176e-04 &  9.157263 & 0.76972418 &  6 &  48 & iron ion homeostasis                                                \\\\\n",
       "\t GO:0050801 & 1.107698e-04 &  2.959593 & 7.32841565 & 19 & 457 & ion homeostasis                                                     \\\\\n",
       "\t GO:0051693 & 1.620252e-04 & 18.077922 & 0.28864657 &  4 &  18 & actin filament capping                                              \\\\\n",
       "\t GO:0051186 & 1.970333e-04 &  3.248455 & 5.19563823 & 15 & 324 & cofactor metabolic process                                          \\\\\n",
       "\t GO:0030835 & 2.026973e-04 & 16.870523 & 0.30468249 &  4 &  19 & negative regulation of actin filament depolymerization              \\\\\n",
       "\t GO:0032536 & 2.125834e-04 & 37.696721 & 0.12828736 &  3 &   8 & regulation of cell projection size                                  \\\\\n",
       "\t GO:0072488 & 2.125834e-04 & 37.696721 & 0.12828736 &  3 &   8 & ammonium transmembrane transport                                    \\\\\n",
       "\t GO:1901880 & 2.160660e-04 & 10.611111 & 0.56125722 &  5 &  35 & negative regulation of protein depolymerization                     \\\\\n",
       "\t GO:0035378 & 2.551263e-04 &       Inf & 0.03207184 &  2 &   2 & carbon dioxide transmembrane transport                              \\\\\n",
       "\t GO:0015696 & 3.085789e-04 &  7.386555 & 0.93008339 &  6 &  58 & ammonium transport                                                  \\\\\n",
       "\t ... & ... & ... & ... & ... & ... & ...\\\\\n",
       "\t GO:0070295 & 0.04734641 & 30.919355 & 0.04810776 & 1 &  3 & renal water absorption                                                   \\\\\n",
       "\t GO:0070494 & 0.04734641 & 30.919355 & 0.04810776 & 1 &  3 & regulation of thrombin-activated receptor signaling pathway              \\\\\n",
       "\t GO:0070495 & 0.04734641 & 30.919355 & 0.04810776 & 1 &  3 & negative regulation of thrombin-activated receptor signaling pathway     \\\\\n",
       "\t GO:0071284 & 0.04734641 & 30.919355 & 0.04810776 & 1 &  3 & cellular response to lead ion                                            \\\\\n",
       "\t GO:0071288 & 0.04734641 & 30.919355 & 0.04810776 & 1 &  3 & cellular response to mercury ion                                         \\\\\n",
       "\t GO:0071694 & 0.04734641 & 30.919355 & 0.04810776 & 1 &  3 & maintenance of protein location in extracellular region                  \\\\\n",
       "\t GO:0090306 & 0.04734641 & 30.919355 & 0.04810776 & 1 &  3 & spindle assembly involved in meiosis                                     \\\\\n",
       "\t GO:0097068 & 0.04734641 & 30.919355 & 0.04810776 & 1 &  3 & response to thyroxine                                                    \\\\\n",
       "\t GO:1900193 & 0.04734641 & 30.919355 & 0.04810776 & 1 &  3 & regulation of oocyte maturation                                          \\\\\n",
       "\t GO:1902302 & 0.04734641 & 30.919355 & 0.04810776 & 1 &  3 & regulation of potassium ion export                                       \\\\\n",
       "\t GO:1902722 & 0.04734641 & 30.919355 & 0.04810776 & 1 &  3 & positive regulation of prolactin secretion                               \\\\\n",
       "\t GO:1902896 & 0.04734641 & 30.919355 & 0.04810776 & 1 &  3 & terminal web assembly                                                    \\\\\n",
       "\t GO:1903237 & 0.04734641 & 30.919355 & 0.04810776 & 1 &  3 & negative regulation of leukocyte tethering or rolling                    \\\\\n",
       "\t GO:1903764 & 0.04734641 & 30.919355 & 0.04810776 & 1 &  3 & regulation of potassium ion export across plasma membrane                \\\\\n",
       "\t GO:1904016 & 0.04734641 & 30.919355 & 0.04810776 & 1 &  3 & response to Thyroglobulin triiodothyronine                               \\\\\n",
       "\t GO:1904304 & 0.04734641 & 30.919355 & 0.04810776 & 1 &  3 & regulation of gastro-intestinal system smooth muscle contraction         \\\\\n",
       "\t GO:1904306 & 0.04734641 & 30.919355 & 0.04810776 & 1 &  3 & positive regulation of gastro-intestinal system smooth muscle contraction\\\\\n",
       "\t GO:1904386 & 0.04734641 & 30.919355 & 0.04810776 & 1 &  3 & response to L-phenylalanine derivative                                   \\\\\n",
       "\t GO:1904715 & 0.04734641 & 30.919355 & 0.04810776 & 1 &  3 & negative regulation of chaperone-mediated autophagy                      \\\\\n",
       "\t GO:1905333 & 0.04734641 & 30.919355 & 0.04810776 & 1 &  3 & regulation of gastric motility                                           \\\\\n",
       "\t GO:2000048 & 0.04734641 & 30.919355 & 0.04810776 & 1 &  3 & negative regulation of cell-cell adhesion mediated by cadherin           \\\\\n",
       "\t GO:2000295 & 0.04734641 & 30.919355 & 0.04810776 & 1 &  3 & regulation of hydrogen peroxide catabolic process                        \\\\\n",
       "\t GO:2000821 & 0.04734641 & 30.919355 & 0.04810776 & 1 &  3 & regulation of grooming behavior                                          \\\\\n",
       "\t GO:0019934 & 0.04781758 &  6.219512 & 0.35279025 & 2 & 22 & cGMP-mediated signaling                                                  \\\\\n",
       "\t GO:0044058 & 0.04781758 &  6.219512 & 0.35279025 & 2 & 22 & regulation of digestive system process                                   \\\\\n",
       "\t GO:0050849 & 0.04781758 &  6.219512 & 0.35279025 & 2 & 22 & negative regulation of calcium-mediated signaling                        \\\\\n",
       "\t GO:0002920 & 0.04803266 &  3.904713 & 0.81783194 & 3 & 51 & regulation of humoral immune response                                    \\\\\n",
       "\t GO:0042100 & 0.04803266 &  3.904713 & 0.81783194 & 3 & 51 & B cell proliferation                                                     \\\\\n",
       "\t GO:0042773 & 0.04803266 &  3.904713 & 0.81783194 & 3 & 51 & ATP synthesis coupled electron transport                                 \\\\\n",
       "\t GO:0042775 & 0.04803266 &  3.904713 & 0.81783194 & 3 & 51 & mitochondrial ATP synthesis coupled electron transport                   \\\\\n",
       "\\end{tabular}\n"
      ],
      "text/markdown": [
       "\n",
       "A data.frame: 474 × 7\n",
       "\n",
       "| GOBPID &lt;chr&gt; | Pvalue &lt;dbl&gt; | OddsRatio &lt;dbl&gt; | ExpCount &lt;dbl&gt; | Count &lt;int&gt; | Size &lt;int&gt; | Term &lt;chr&gt; |\n",
       "|---|---|---|---|---|---|---|\n",
       "| GO:0006778 | 3.005083e-09 | 30.781297 | 0.40089801 |  8 |  25 | porphyrin-containing compound metabolic process                      |\n",
       "| GO:0006779 | 3.921996e-09 | 45.440678 | 0.27261065 |  7 |  17 | porphyrin-containing compound biosynthetic process                   |\n",
       "| GO:0033014 | 6.332814e-09 | 41.304314 | 0.28864657 |  7 |  18 | tetrapyrrole biosynthetic process                                    |\n",
       "| GO:0042168 | 1.502025e-08 | 34.940678 | 0.32071841 |  7 |  20 | heme metabolic process                                               |\n",
       "| GO:0006783 | 6.705291e-08 | 42.918768 | 0.24053881 |  6 |  15 | heme biosynthetic process                                            |\n",
       "| GO:0033013 | 9.130584e-08 | 18.015915 | 0.59332906 |  8 |  37 | tetrapyrrole metabolic process                                       |\n",
       "| GO:0046501 | 1.171639e-07 | 79.854167 | 0.14432328 |  5 |   9 | protoporphyrinogen IX metabolic process                              |\n",
       "| GO:0006782 | 2.125456e-06 | 84.484848 | 0.11225144 |  4 |   7 | protoporphyrinogen IX biosynthetic process                           |\n",
       "| GO:0019755 | 4.198163e-06 | 63.355372 | 0.12828736 |  4 |   8 | one-carbon compound transport                                        |\n",
       "| GO:0042440 | 6.303919e-06 | 11.914362 | 0.72161642 |  7 |  45 | pigment metabolic process                                            |\n",
       "| GO:0046148 | 3.189162e-05 | 11.668449 | 0.62540090 |  6 |  39 | pigment biosynthetic process                                         |\n",
       "| GO:0048821 | 3.257890e-05 | 16.778509 | 0.38486209 |  5 |  24 | erythrocyte development                                              |\n",
       "| GO:0051188 | 3.598829e-05 |  4.629348 | 2.95060936 | 12 | 184 | cofactor biosynthetic process                                        |\n",
       "| GO:0030218 | 5.982581e-05 |  6.742591 | 1.36305324 |  8 |  85 | erythrocyte differentiation                                          |\n",
       "| GO:0055080 | 7.322438e-05 |  3.165834 | 6.49454779 | 18 | 405 | cation homeostasis                                                   |\n",
       "| GO:1905446 | 7.773315e-05 | 62.844262 | 0.09621552 |  3 |   6 | regulation of mitochondrial ATP synthesis coupled electron transport |\n",
       "| GO:0055065 | 8.135800e-05 |  3.253086 | 5.94932649 | 17 | 371 | metal ion homeostasis                                                |\n",
       "| GO:0002262 | 8.842463e-05 |  5.536435 | 1.84413085 |  9 | 115 | myeloid cell homeostasis                                             |\n",
       "| GO:0098771 | 9.713667e-05 |  3.090059 | 6.63887107 | 18 | 414 | inorganic ion homeostasis                                            |\n",
       "| GO:0034101 | 1.053773e-04 |  6.175010 | 1.47530468 |  8 |  92 | erythrocyte homeostasis                                              |\n",
       "| GO:0055072 | 1.066176e-04 |  9.157263 | 0.76972418 |  6 |  48 | iron ion homeostasis                                                 |\n",
       "| GO:0050801 | 1.107698e-04 |  2.959593 | 7.32841565 | 19 | 457 | ion homeostasis                                                      |\n",
       "| GO:0051693 | 1.620252e-04 | 18.077922 | 0.28864657 |  4 |  18 | actin filament capping                                               |\n",
       "| GO:0051186 | 1.970333e-04 |  3.248455 | 5.19563823 | 15 | 324 | cofactor metabolic process                                           |\n",
       "| GO:0030835 | 2.026973e-04 | 16.870523 | 0.30468249 |  4 |  19 | negative regulation of actin filament depolymerization               |\n",
       "| GO:0032536 | 2.125834e-04 | 37.696721 | 0.12828736 |  3 |   8 | regulation of cell projection size                                   |\n",
       "| GO:0072488 | 2.125834e-04 | 37.696721 | 0.12828736 |  3 |   8 | ammonium transmembrane transport                                     |\n",
       "| GO:1901880 | 2.160660e-04 | 10.611111 | 0.56125722 |  5 |  35 | negative regulation of protein depolymerization                      |\n",
       "| GO:0035378 | 2.551263e-04 |       Inf | 0.03207184 |  2 |   2 | carbon dioxide transmembrane transport                               |\n",
       "| GO:0015696 | 3.085789e-04 |  7.386555 | 0.93008339 |  6 |  58 | ammonium transport                                                   |\n",
       "| ... | ... | ... | ... | ... | ... | ... |\n",
       "| GO:0070295 | 0.04734641 | 30.919355 | 0.04810776 | 1 |  3 | renal water absorption                                                    |\n",
       "| GO:0070494 | 0.04734641 | 30.919355 | 0.04810776 | 1 |  3 | regulation of thrombin-activated receptor signaling pathway               |\n",
       "| GO:0070495 | 0.04734641 | 30.919355 | 0.04810776 | 1 |  3 | negative regulation of thrombin-activated receptor signaling pathway      |\n",
       "| GO:0071284 | 0.04734641 | 30.919355 | 0.04810776 | 1 |  3 | cellular response to lead ion                                             |\n",
       "| GO:0071288 | 0.04734641 | 30.919355 | 0.04810776 | 1 |  3 | cellular response to mercury ion                                          |\n",
       "| GO:0071694 | 0.04734641 | 30.919355 | 0.04810776 | 1 |  3 | maintenance of protein location in extracellular region                   |\n",
       "| GO:0090306 | 0.04734641 | 30.919355 | 0.04810776 | 1 |  3 | spindle assembly involved in meiosis                                      |\n",
       "| GO:0097068 | 0.04734641 | 30.919355 | 0.04810776 | 1 |  3 | response to thyroxine                                                     |\n",
       "| GO:1900193 | 0.04734641 | 30.919355 | 0.04810776 | 1 |  3 | regulation of oocyte maturation                                           |\n",
       "| GO:1902302 | 0.04734641 | 30.919355 | 0.04810776 | 1 |  3 | regulation of potassium ion export                                        |\n",
       "| GO:1902722 | 0.04734641 | 30.919355 | 0.04810776 | 1 |  3 | positive regulation of prolactin secretion                                |\n",
       "| GO:1902896 | 0.04734641 | 30.919355 | 0.04810776 | 1 |  3 | terminal web assembly                                                     |\n",
       "| GO:1903237 | 0.04734641 | 30.919355 | 0.04810776 | 1 |  3 | negative regulation of leukocyte tethering or rolling                     |\n",
       "| GO:1903764 | 0.04734641 | 30.919355 | 0.04810776 | 1 |  3 | regulation of potassium ion export across plasma membrane                 |\n",
       "| GO:1904016 | 0.04734641 | 30.919355 | 0.04810776 | 1 |  3 | response to Thyroglobulin triiodothyronine                                |\n",
       "| GO:1904304 | 0.04734641 | 30.919355 | 0.04810776 | 1 |  3 | regulation of gastro-intestinal system smooth muscle contraction          |\n",
       "| GO:1904306 | 0.04734641 | 30.919355 | 0.04810776 | 1 |  3 | positive regulation of gastro-intestinal system smooth muscle contraction |\n",
       "| GO:1904386 | 0.04734641 | 30.919355 | 0.04810776 | 1 |  3 | response to L-phenylalanine derivative                                    |\n",
       "| GO:1904715 | 0.04734641 | 30.919355 | 0.04810776 | 1 |  3 | negative regulation of chaperone-mediated autophagy                       |\n",
       "| GO:1905333 | 0.04734641 | 30.919355 | 0.04810776 | 1 |  3 | regulation of gastric motility                                            |\n",
       "| GO:2000048 | 0.04734641 | 30.919355 | 0.04810776 | 1 |  3 | negative regulation of cell-cell adhesion mediated by cadherin            |\n",
       "| GO:2000295 | 0.04734641 | 30.919355 | 0.04810776 | 1 |  3 | regulation of hydrogen peroxide catabolic process                         |\n",
       "| GO:2000821 | 0.04734641 | 30.919355 | 0.04810776 | 1 |  3 | regulation of grooming behavior                                           |\n",
       "| GO:0019934 | 0.04781758 |  6.219512 | 0.35279025 | 2 | 22 | cGMP-mediated signaling                                                   |\n",
       "| GO:0044058 | 0.04781758 |  6.219512 | 0.35279025 | 2 | 22 | regulation of digestive system process                                    |\n",
       "| GO:0050849 | 0.04781758 |  6.219512 | 0.35279025 | 2 | 22 | negative regulation of calcium-mediated signaling                         |\n",
       "| GO:0002920 | 0.04803266 |  3.904713 | 0.81783194 | 3 | 51 | regulation of humoral immune response                                     |\n",
       "| GO:0042100 | 0.04803266 |  3.904713 | 0.81783194 | 3 | 51 | B cell proliferation                                                      |\n",
       "| GO:0042773 | 0.04803266 |  3.904713 | 0.81783194 | 3 | 51 | ATP synthesis coupled electron transport                                  |\n",
       "| GO:0042775 | 0.04803266 |  3.904713 | 0.81783194 | 3 | 51 | mitochondrial ATP synthesis coupled electron transport                    |\n",
       "\n"
      ],
      "text/plain": [
       "    GOBPID     Pvalue       OddsRatio ExpCount   Count Size\n",
       "1   GO:0006778 3.005083e-09 30.781297 0.40089801  8     25 \n",
       "2   GO:0006779 3.921996e-09 45.440678 0.27261065  7     17 \n",
       "3   GO:0033014 6.332814e-09 41.304314 0.28864657  7     18 \n",
       "4   GO:0042168 1.502025e-08 34.940678 0.32071841  7     20 \n",
       "5   GO:0006783 6.705291e-08 42.918768 0.24053881  6     15 \n",
       "6   GO:0033013 9.130584e-08 18.015915 0.59332906  8     37 \n",
       "7   GO:0046501 1.171639e-07 79.854167 0.14432328  5      9 \n",
       "8   GO:0006782 2.125456e-06 84.484848 0.11225144  4      7 \n",
       "9   GO:0019755 4.198163e-06 63.355372 0.12828736  4      8 \n",
       "10  GO:0042440 6.303919e-06 11.914362 0.72161642  7     45 \n",
       "11  GO:0046148 3.189162e-05 11.668449 0.62540090  6     39 \n",
       "12  GO:0048821 3.257890e-05 16.778509 0.38486209  5     24 \n",
       "13  GO:0051188 3.598829e-05  4.629348 2.95060936 12    184 \n",
       "14  GO:0030218 5.982581e-05  6.742591 1.36305324  8     85 \n",
       "15  GO:0055080 7.322438e-05  3.165834 6.49454779 18    405 \n",
       "16  GO:1905446 7.773315e-05 62.844262 0.09621552  3      6 \n",
       "17  GO:0055065 8.135800e-05  3.253086 5.94932649 17    371 \n",
       "18  GO:0002262 8.842463e-05  5.536435 1.84413085  9    115 \n",
       "19  GO:0098771 9.713667e-05  3.090059 6.63887107 18    414 \n",
       "20  GO:0034101 1.053773e-04  6.175010 1.47530468  8     92 \n",
       "21  GO:0055072 1.066176e-04  9.157263 0.76972418  6     48 \n",
       "22  GO:0050801 1.107698e-04  2.959593 7.32841565 19    457 \n",
       "23  GO:0051693 1.620252e-04 18.077922 0.28864657  4     18 \n",
       "24  GO:0051186 1.970333e-04  3.248455 5.19563823 15    324 \n",
       "25  GO:0030835 2.026973e-04 16.870523 0.30468249  4     19 \n",
       "26  GO:0032536 2.125834e-04 37.696721 0.12828736  3      8 \n",
       "27  GO:0072488 2.125834e-04 37.696721 0.12828736  3      8 \n",
       "28  GO:1901880 2.160660e-04 10.611111 0.56125722  5     35 \n",
       "29  GO:0035378 2.551263e-04       Inf 0.03207184  2      2 \n",
       "30  GO:0015696 3.085789e-04  7.386555 0.93008339  6     58 \n",
       "... ...        ...          ...       ...        ...   ... \n",
       "445 GO:0070295 0.04734641   30.919355 0.04810776 1      3  \n",
       "446 GO:0070494 0.04734641   30.919355 0.04810776 1      3  \n",
       "447 GO:0070495 0.04734641   30.919355 0.04810776 1      3  \n",
       "448 GO:0071284 0.04734641   30.919355 0.04810776 1      3  \n",
       "449 GO:0071288 0.04734641   30.919355 0.04810776 1      3  \n",
       "450 GO:0071694 0.04734641   30.919355 0.04810776 1      3  \n",
       "451 GO:0090306 0.04734641   30.919355 0.04810776 1      3  \n",
       "452 GO:0097068 0.04734641   30.919355 0.04810776 1      3  \n",
       "453 GO:1900193 0.04734641   30.919355 0.04810776 1      3  \n",
       "454 GO:1902302 0.04734641   30.919355 0.04810776 1      3  \n",
       "455 GO:1902722 0.04734641   30.919355 0.04810776 1      3  \n",
       "456 GO:1902896 0.04734641   30.919355 0.04810776 1      3  \n",
       "457 GO:1903237 0.04734641   30.919355 0.04810776 1      3  \n",
       "458 GO:1903764 0.04734641   30.919355 0.04810776 1      3  \n",
       "459 GO:1904016 0.04734641   30.919355 0.04810776 1      3  \n",
       "460 GO:1904304 0.04734641   30.919355 0.04810776 1      3  \n",
       "461 GO:1904306 0.04734641   30.919355 0.04810776 1      3  \n",
       "462 GO:1904386 0.04734641   30.919355 0.04810776 1      3  \n",
       "463 GO:1904715 0.04734641   30.919355 0.04810776 1      3  \n",
       "464 GO:1905333 0.04734641   30.919355 0.04810776 1      3  \n",
       "465 GO:2000048 0.04734641   30.919355 0.04810776 1      3  \n",
       "466 GO:2000295 0.04734641   30.919355 0.04810776 1      3  \n",
       "467 GO:2000821 0.04734641   30.919355 0.04810776 1      3  \n",
       "468 GO:0019934 0.04781758    6.219512 0.35279025 2     22  \n",
       "469 GO:0044058 0.04781758    6.219512 0.35279025 2     22  \n",
       "470 GO:0050849 0.04781758    6.219512 0.35279025 2     22  \n",
       "471 GO:0002920 0.04803266    3.904713 0.81783194 3     51  \n",
       "472 GO:0042100 0.04803266    3.904713 0.81783194 3     51  \n",
       "473 GO:0042773 0.04803266    3.904713 0.81783194 3     51  \n",
       "474 GO:0042775 0.04803266    3.904713 0.81783194 3     51  \n",
       "    Term                                                                     \n",
       "1   porphyrin-containing compound metabolic process                          \n",
       "2   porphyrin-containing compound biosynthetic process                       \n",
       "3   tetrapyrrole biosynthetic process                                        \n",
       "4   heme metabolic process                                                   \n",
       "5   heme biosynthetic process                                                \n",
       "6   tetrapyrrole metabolic process                                           \n",
       "7   protoporphyrinogen IX metabolic process                                  \n",
       "8   protoporphyrinogen IX biosynthetic process                               \n",
       "9   one-carbon compound transport                                            \n",
       "10  pigment metabolic process                                                \n",
       "11  pigment biosynthetic process                                             \n",
       "12  erythrocyte development                                                  \n",
       "13  cofactor biosynthetic process                                            \n",
       "14  erythrocyte differentiation                                              \n",
       "15  cation homeostasis                                                       \n",
       "16  regulation of mitochondrial ATP synthesis coupled electron transport     \n",
       "17  metal ion homeostasis                                                    \n",
       "18  myeloid cell homeostasis                                                 \n",
       "19  inorganic ion homeostasis                                                \n",
       "20  erythrocyte homeostasis                                                  \n",
       "21  iron ion homeostasis                                                     \n",
       "22  ion homeostasis                                                          \n",
       "23  actin filament capping                                                   \n",
       "24  cofactor metabolic process                                               \n",
       "25  negative regulation of actin filament depolymerization                   \n",
       "26  regulation of cell projection size                                       \n",
       "27  ammonium transmembrane transport                                         \n",
       "28  negative regulation of protein depolymerization                          \n",
       "29  carbon dioxide transmembrane transport                                   \n",
       "30  ammonium transport                                                       \n",
       "... ...                                                                      \n",
       "445 renal water absorption                                                   \n",
       "446 regulation of thrombin-activated receptor signaling pathway              \n",
       "447 negative regulation of thrombin-activated receptor signaling pathway     \n",
       "448 cellular response to lead ion                                            \n",
       "449 cellular response to mercury ion                                         \n",
       "450 maintenance of protein location in extracellular region                  \n",
       "451 spindle assembly involved in meiosis                                     \n",
       "452 response to thyroxine                                                    \n",
       "453 regulation of oocyte maturation                                          \n",
       "454 regulation of potassium ion export                                       \n",
       "455 positive regulation of prolactin secretion                               \n",
       "456 terminal web assembly                                                    \n",
       "457 negative regulation of leukocyte tethering or rolling                    \n",
       "458 regulation of potassium ion export across plasma membrane                \n",
       "459 response to Thyroglobulin triiodothyronine                               \n",
       "460 regulation of gastro-intestinal system smooth muscle contraction         \n",
       "461 positive regulation of gastro-intestinal system smooth muscle contraction\n",
       "462 response to L-phenylalanine derivative                                   \n",
       "463 negative regulation of chaperone-mediated autophagy                      \n",
       "464 regulation of gastric motility                                           \n",
       "465 negative regulation of cell-cell adhesion mediated by cadherin           \n",
       "466 regulation of hydrogen peroxide catabolic process                        \n",
       "467 regulation of grooming behavior                                          \n",
       "468 cGMP-mediated signaling                                                  \n",
       "469 regulation of digestive system process                                   \n",
       "470 negative regulation of calcium-mediated signaling                        \n",
       "471 regulation of humoral immune response                                    \n",
       "472 B cell proliferation                                                     \n",
       "473 ATP synthesis coupled electron transport                                 \n",
       "474 mitochondrial ATP synthesis coupled electron transport                   "
      ]
     },
     "metadata": {},
     "output_type": "display_data"
    }
   ],
   "source": [
    "## Check the summary of the object that was created\n",
    "summary(hgOver)"
   ]
  },
  {
   "cell_type": "code",
   "execution_count": 43,
   "metadata": {},
   "outputs": [
    {
     "data": {
      "text/html": [
       "<dl class=dl-horizontal>\n",
       "\t<dt>GO:0006778</dt>\n",
       "\t\t<dd>8</dd>\n",
       "\t<dt>GO:0006779</dt>\n",
       "\t\t<dd>7</dd>\n",
       "\t<dt>GO:0033014</dt>\n",
       "\t\t<dd>7</dd>\n",
       "\t<dt>GO:0042168</dt>\n",
       "\t\t<dd>7</dd>\n",
       "\t<dt>GO:0006783</dt>\n",
       "\t\t<dd>6</dd>\n",
       "\t<dt>GO:0033013</dt>\n",
       "\t\t<dd>8</dd>\n",
       "</dl>\n"
      ],
      "text/latex": [
       "\\begin{description*}\n",
       "\\item[GO:0006778] 8\n",
       "\\item[GO:0006779] 7\n",
       "\\item[GO:0033014] 7\n",
       "\\item[GO:0042168] 7\n",
       "\\item[GO:0006783] 6\n",
       "\\item[GO:0033013] 8\n",
       "\\end{description*}\n"
      ],
      "text/markdown": [
       "GO:0006778\n",
       ":   8GO:0006779\n",
       ":   7GO:0033014\n",
       ":   7GO:0042168\n",
       ":   7GO:0006783\n",
       ":   6GO:0033013\n",
       ":   8\n",
       "\n"
      ],
      "text/plain": [
       "GO:0006778 GO:0006779 GO:0033014 GO:0042168 GO:0006783 GO:0033013 \n",
       "         8          7          7          7          6          8 "
      ]
     },
     "metadata": {},
     "output_type": "display_data"
    },
    {
     "data": {
      "text/html": [
       "<dl class=dl-horizontal>\n",
       "\t<dt>GO:0006778</dt>\n",
       "\t\t<dd>25</dd>\n",
       "\t<dt>GO:0006779</dt>\n",
       "\t\t<dd>17</dd>\n",
       "\t<dt>GO:0033014</dt>\n",
       "\t\t<dd>18</dd>\n",
       "\t<dt>GO:0042168</dt>\n",
       "\t\t<dd>20</dd>\n",
       "\t<dt>GO:0006783</dt>\n",
       "\t\t<dd>15</dd>\n",
       "\t<dt>GO:0033013</dt>\n",
       "\t\t<dd>37</dd>\n",
       "</dl>\n"
      ],
      "text/latex": [
       "\\begin{description*}\n",
       "\\item[GO:0006778] 25\n",
       "\\item[GO:0006779] 17\n",
       "\\item[GO:0033014] 18\n",
       "\\item[GO:0042168] 20\n",
       "\\item[GO:0006783] 15\n",
       "\\item[GO:0033013] 37\n",
       "\\end{description*}\n"
      ],
      "text/markdown": [
       "GO:0006778\n",
       ":   25GO:0006779\n",
       ":   17GO:0033014\n",
       ":   18GO:0042168\n",
       ":   20GO:0006783\n",
       ":   15GO:0033013\n",
       ":   37\n",
       "\n"
      ],
      "text/plain": [
       "GO:0006778 GO:0006779 GO:0033014 GO:0042168 GO:0006783 GO:0033013 \n",
       "        25         17         18         20         15         37 "
      ]
     },
     "metadata": {},
     "output_type": "display_data"
    }
   ],
   "source": [
    "## Get the number of genes associated with the different categories\n",
    "\n",
    "head(geneCounts(hgOver))\n",
    "head(universeCounts(hgOver))"
   ]
  },
  {
   "cell_type": "code",
   "execution_count": 44,
   "metadata": {},
   "outputs": [
    {
     "name": "stderr",
     "output_type": "stream",
     "text": [
      "Your code contains a unicode char which cannot be displayed in your\n",
      "current locale and R will silently convert it to an escaped form when the\n",
      "R kernel executes this code. This can lead to subtle errors if you use\n",
      "such chars to do comparisons. For more information, please see\n",
      "https://github.com/IRkernel/repr/wiki/Problems-with-unicode-on-windowsLoading required package: grid\n",
      "\n",
      "\n",
      "Attaching package: 'Rgraphviz'\n",
      "\n",
      "\n",
      "The following objects are masked from 'package:IRanges':\n",
      "\n",
      "    from, to\n",
      "\n",
      "\n",
      "The following objects are masked from 'package:S4Vectors':\n",
      "\n",
      "    from, to\n",
      "\n",
      "\n"
     ]
    },
    {
     "data": {
      "image/png": "[encoded data removed]",
      "text/plain": [
       "plot without title"
      ]
     },
     "metadata": {
      "image/png": {
       "height": 420,
       "width": 420
      }
     },
     "output_type": "display_data"
    }
   ],
   "source": [
    "## Plot the GO directed acyclic graph (DAG). 绘制GO有向无环图（DAG）\n",
    "## The plot is too much, so I just take some data of them to make a plot\n",
    "library(Rgraphviz)    # `Rgraphviz` is used to show the DAG plot of GO enrichment\n",
    "subhgOver <- subGraph(snodes=as.character(summary(hgOver)[1:9,1]), graph = goDag(hgOver))\n",
    "plot(subhgOver)"
   ]
  },
  {
   "cell_type": "code",
   "execution_count": 45,
   "metadata": {},
   "outputs": [
    {
     "name": "stderr",
     "output_type": "stream",
     "text": [
      "Your code contains a unicode char which cannot be displayed in your\n",
      "current locale and R will silently convert it to an escaped form when the\n",
      "R kernel executes this code. This can lead to subtle errors if you use\n",
      "such chars to do comparisons. For more information, please see\n",
      "https://github.com/IRkernel/repr/wiki/Problems-with-unicode-on-windows"
     ]
    }
   ],
   "source": [
    "## Generate the report as an HTML file that can be read using any browser.生成可以使用任何浏览器读取的HTML文件\n",
    "htmlReport(hgOver, file=\"F:/ALL_hgco.html\")"
   ]
  },
  {
   "cell_type": "markdown",
   "metadata": {},
   "source": [
    "## 13. Handling time series data\n",
    "\n",
    "In fact, a cell sample is given a certain treatment, and its expression can change along the course of time. Consider that during stem cell or embryonic development, the expression of genes at different time points will vary. And handling such time course expression data, though not much different from the standard protocol described earlier, needs small modifications here.<br>\n",
    "事实上，细胞样本被给予一定的处理，其表达会随着时间的推移而变化。考虑到在干细胞或胚胎发育期间，不同时间点的基因表达会有所不同。处理这样的时间过程表达数据虽然与前面描述的标准协议没有多大区别，但在这里需要很小的修改。\n",
    "\n",
    "Required:<br>\n",
    "1、We need time course data. Take the yeast (Saccharomyces cerevisae) dataset from the `Mfuzz` package as an example.们需要时间相关数据。以“Mfuzz”包中的酵母（酿酒酵母）数据集为例.\n",
    "2、The installation of the `Mfuzz` package. 安装`Mfuzz`包。"
   ]
  },
  {
   "cell_type": "code",
   "execution_count": 47,
   "metadata": {},
   "outputs": [
    {
     "name": "stderr",
     "output_type": "stream",
     "text": [
      "Bioconductor version 3.9 (BiocManager 1.30.10), R 3.6.2 (2019-12-12)\n",
      "\n",
      "Installing package(s) 'Mfuzz'\n",
      "\n",
      "also installing the dependencies 'widgetTools', 'DynDoc', 'e1071', 'tkWidgets'\n",
      "\n",
      "\n"
     ]
    },
    {
     "name": "stdout",
     "output_type": "stream",
     "text": [
      "package 'widgetTools' successfully unpacked and MD5 sums checked\n",
      "package 'DynDoc' successfully unpacked and MD5 sums checked\n",
      "package 'e1071' successfully unpacked and MD5 sums checked\n",
      "package 'tkWidgets' successfully unpacked and MD5 sums checked\n",
      "package 'Mfuzz' successfully unpacked and MD5 sums checked\n",
      "\n",
      "The downloaded binary packages are in\n",
      "\tC:\\Users\\Master\\AppData\\Local\\Temp\\RtmpMnMXFB\\downloaded_packages\n"
     ]
    },
    {
     "name": "stderr",
     "output_type": "stream",
     "text": [
      "Old packages: 'BH', 'bit', 'caTools', 'cli', 'FactoMineR', 'fansi', 'farver',\n",
      "  'GetoptLong', 'ggridges', 'gplots', 'hms', 'knitr', 'leaps', 'multcomp',\n",
      "  'mvtnorm', 'PMA', 'precrec', 'prettyunits', 'pROC', 'RCurl', 'RSQLite',\n",
      "  'Rttf2pt1', 'shinyjs', 'stringi', 'tinytex', 'xfun', 'XML', 'xts', 'zoo'\n",
      "\n",
      "Loading required package: e1071\n",
      "\n",
      "\n",
      "Attaching package: 'e1071'\n",
      "\n",
      "\n",
      "The following object is masked from 'package:gtools':\n",
      "\n",
      "    permutations\n",
      "\n",
      "\n",
      "\n",
      "Attaching package: 'DynDoc'\n",
      "\n",
      "\n",
      "The following object is masked from 'package:BiocGenerics':\n",
      "\n",
      "    path\n",
      "\n",
      "\n"
     ]
    }
   ],
   "source": [
    "BiocManager::install(\"Mfuzz\")\n",
    "library(Mfuzz)"
   ]
  },
  {
   "cell_type": "code",
   "execution_count": 48,
   "metadata": {},
   "outputs": [
    {
     "name": "stderr",
     "output_type": "stream",
     "text": [
      "Loading required package: gcrma\n",
      "\n",
      "Loading required package: preprocessCore\n",
      "\n"
     ]
    }
   ],
   "source": [
    "## As the dataset is `ExpressionSet`, which needs some other packages for direct handling \n",
    "## (the `affy` package needs the `AffyBatch` object), use the `affyPLM` library.\n",
    "library(affy)\n",
    "library(antiProfilesData)\n",
    "library(affyPLM)"
   ]
  },
  {
   "cell_type": "code",
   "execution_count": 49,
   "metadata": {},
   "outputs": [],
   "source": [
    "## load the datasets\n",
    "data(yeast)"
   ]
  },
  {
   "cell_type": "code",
   "execution_count": 52,
   "metadata": {},
   "outputs": [
    {
     "data": {
      "text/html": [
       "'ExpressionSet'"
      ],
      "text/latex": [
       "'ExpressionSet'"
      ],
      "text/markdown": [
       "'ExpressionSet'"
      ],
      "text/plain": [
       "[1] \"ExpressionSet\"\n",
       "attr(,\"package\")\n",
       "[1] \"Biobase\""
      ]
     },
     "metadata": {},
     "output_type": "display_data"
    },
    {
     "data": {
      "image/png": "[encoded data removed]",
      "text/plain": [
       "plot without title"
      ]
     },
     "metadata": {
      "image/png": {
       "height": 420,
       "width": 420
      }
     },
     "output_type": "display_data"
    }
   ],
   "source": [
    "## Check the quality of the data using the density plots, boxplots, and so on.\n",
    "class(yeast)\n",
    "\n",
    "\n",
    "plotDensity(yeast)"
   ]
  },
  {
   "cell_type": "code",
   "execution_count": 53,
   "metadata": {},
   "outputs": [
    {
     "data": {
      "image/png": "[encoded data removed]",
      "text/plain": [
       "plot without title"
      ]
     },
     "metadata": {
      "image/png": {
       "height": 420,
       "width": 420
      }
     },
     "output_type": "display_data"
    }
   ],
   "source": [
    "boxplot(yeast)"
   ]
  },
  {
   "cell_type": "code",
   "execution_count": 54,
   "metadata": {},
   "outputs": [
    {
     "name": "stderr",
     "output_type": "stream",
     "text": [
      "Your code contains a unicode char which cannot be displayed in your\n",
      "current locale and R will silently convert it to an escaped form when the\n",
      "R kernel executes this code. This can lead to subtle errors if you use\n",
      "such chars to do comparisons. For more information, please see\n",
      "https://github.com/IRkernel/repr/wiki/Problems-with-unicode-on-windows"
     ]
    }
   ],
   "source": [
    "## To normalize the data, use `normalize.ExpressionSet.quantiles` from the `affyPLM` package\n",
    "## (here, use `quantile` normalization).对数据进行标准化，使用`affyPLM`中的`normalize.ExpressionSet.quantiles`函数。\n",
    "\n",
    "library(affy)\n",
    "yeast_norm <- normalize.ExpressionSet.quantiles(yeast)"
   ]
  },
  {
   "cell_type": "code",
   "execution_count": 55,
   "metadata": {},
   "outputs": [
    {
     "name": "stderr",
     "output_type": "stream",
     "text": [
      "Your code contains a unicode char which cannot be displayed in your\n",
      "current locale and R will silently convert it to an escaped form when the\n",
      "R kernel executes this code. This can lead to subtle errors if you use\n",
      "such chars to do comparisons. For more information, please see\n",
      "https://github.com/IRkernel/repr/wiki/Problems-with-unicode-on-windows"
     ]
    },
    {
     "data": {
      "image/png": "[encoded data removed]",
      "text/plain": [
       "plot without title"
      ]
     },
     "metadata": {
      "image/png": {
       "height": 420,
       "width": 420
      }
     },
     "output_type": "display_data"
    }
   ],
   "source": [
    "## Perform the quality assessment for the normalized data again.对标准化数据做质量评价。\n",
    "\n",
    "plotDensity(yeast_norm)"
   ]
  },
  {
   "cell_type": "code",
   "execution_count": 56,
   "metadata": {},
   "outputs": [
    {
     "data": {
      "image/png": "[encoded data removed]",
      "text/plain": [
       "plot without title"
      ]
     },
     "metadata": {
      "image/png": {
       "height": 420,
       "width": 420
      }
     },
     "output_type": "display_data"
    }
   ],
   "source": [
    "boxplot(yeast_norm)"
   ]
  },
  {
   "cell_type": "code",
   "execution_count": 57,
   "metadata": {},
   "outputs": [
    {
     "name": "stderr",
     "output_type": "stream",
     "text": [
      "Your code contains a unicode char which cannot be displayed in your\n",
      "current locale and R will silently convert it to an escaped form when the\n",
      "R kernel executes this code. This can lead to subtle errors if you use\n",
      "such chars to do comparisons. For more information, please see\n",
      "https://github.com/IRkernel/repr/wiki/Problems-with-unicode-on-windows"
     ]
    },
    {
     "data": {
      "text/html": [
       "<table>\n",
       "<caption>A data.frame: 17 × 3</caption>\n",
       "<thead>\n",
       "\t<tr><th></th><th scope=col>index</th><th scope=col>label</th><th scope=col>time</th></tr>\n",
       "\t<tr><th></th><th scope=col>&lt;int&gt;</th><th scope=col>&lt;fct&gt;</th><th scope=col>&lt;dbl&gt;</th></tr>\n",
       "</thead>\n",
       "<tbody>\n",
       "\t<tr><th scope=row>cdc28_0</th><td> 0</td><td>cdc28_0  </td><td>  0</td></tr>\n",
       "\t<tr><th scope=row>cdc28_10</th><td> 1</td><td>cdc28_10 </td><td> 10</td></tr>\n",
       "\t<tr><th scope=row>cdc28_20</th><td> 2</td><td>cdc28_20 </td><td> 20</td></tr>\n",
       "\t<tr><th scope=row>cdc28_30</th><td> 3</td><td>cdc28_30 </td><td> 30</td></tr>\n",
       "\t<tr><th scope=row>cdc28_40</th><td> 4</td><td>cdc28_40 </td><td> 40</td></tr>\n",
       "\t<tr><th scope=row>cdc28_50</th><td> 5</td><td>cdc28_50 </td><td> 50</td></tr>\n",
       "\t<tr><th scope=row>cdc28_60</th><td> 6</td><td>cdc28_60 </td><td> 60</td></tr>\n",
       "\t<tr><th scope=row>cdc28_70</th><td> 7</td><td>cdc28_70 </td><td> 70</td></tr>\n",
       "\t<tr><th scope=row>cdc28_80</th><td> 8</td><td>cdc28_80 </td><td> 80</td></tr>\n",
       "\t<tr><th scope=row>cdc28_90</th><td> 9</td><td>cdc28_90 </td><td> 90</td></tr>\n",
       "\t<tr><th scope=row>cdc28_100</th><td>10</td><td>cdc28_100</td><td>100</td></tr>\n",
       "\t<tr><th scope=row>cdc28_110</th><td>11</td><td>cdc28_110</td><td>110</td></tr>\n",
       "\t<tr><th scope=row>cdc28_120</th><td>12</td><td>cdc28_120</td><td>120</td></tr>\n",
       "\t<tr><th scope=row>cdc28_130</th><td>13</td><td>cdc28_130</td><td>130</td></tr>\n",
       "\t<tr><th scope=row>cdc28_140</th><td>14</td><td>cdc28_140</td><td>140</td></tr>\n",
       "\t<tr><th scope=row>cdc28_150</th><td>15</td><td>cdc28_150</td><td>150</td></tr>\n",
       "\t<tr><th scope=row>cdc28_160</th><td>16</td><td>cdc28_160</td><td>160</td></tr>\n",
       "</tbody>\n",
       "</table>\n"
      ],
      "text/latex": [
       "A data.frame: 17 × 3\n",
       "\\begin{tabular}{r|lll}\n",
       "  & index & label & time\\\\\n",
       "  & <int> & <fct> & <dbl>\\\\\n",
       "\\hline\n",
       "\tcdc28\\_0 &  0 & cdc28\\_0   &   0\\\\\n",
       "\tcdc28\\_10 &  1 & cdc28\\_10  &  10\\\\\n",
       "\tcdc28\\_20 &  2 & cdc28\\_20  &  20\\\\\n",
       "\tcdc28\\_30 &  3 & cdc28\\_30  &  30\\\\\n",
       "\tcdc28\\_40 &  4 & cdc28\\_40  &  40\\\\\n",
       "\tcdc28\\_50 &  5 & cdc28\\_50  &  50\\\\\n",
       "\tcdc28\\_60 &  6 & cdc28\\_60  &  60\\\\\n",
       "\tcdc28\\_70 &  7 & cdc28\\_70  &  70\\\\\n",
       "\tcdc28\\_80 &  8 & cdc28\\_80  &  80\\\\\n",
       "\tcdc28\\_90 &  9 & cdc28\\_90  &  90\\\\\n",
       "\tcdc28\\_100 & 10 & cdc28\\_100 & 100\\\\\n",
       "\tcdc28\\_110 & 11 & cdc28\\_110 & 110\\\\\n",
       "\tcdc28\\_120 & 12 & cdc28\\_120 & 120\\\\\n",
       "\tcdc28\\_130 & 13 & cdc28\\_130 & 130\\\\\n",
       "\tcdc28\\_140 & 14 & cdc28\\_140 & 140\\\\\n",
       "\tcdc28\\_150 & 15 & cdc28\\_150 & 150\\\\\n",
       "\tcdc28\\_160 & 16 & cdc28\\_160 & 160\\\\\n",
       "\\end{tabular}\n"
      ],
      "text/markdown": [
       "\n",
       "A data.frame: 17 × 3\n",
       "\n",
       "| <!--/--> | index &lt;int&gt; | label &lt;fct&gt; | time &lt;dbl&gt; |\n",
       "|---|---|---|---|\n",
       "| cdc28_0 |  0 | cdc28_0   |   0 |\n",
       "| cdc28_10 |  1 | cdc28_10  |  10 |\n",
       "| cdc28_20 |  2 | cdc28_20  |  20 |\n",
       "| cdc28_30 |  3 | cdc28_30  |  30 |\n",
       "| cdc28_40 |  4 | cdc28_40  |  40 |\n",
       "| cdc28_50 |  5 | cdc28_50  |  50 |\n",
       "| cdc28_60 |  6 | cdc28_60  |  60 |\n",
       "| cdc28_70 |  7 | cdc28_70  |  70 |\n",
       "| cdc28_80 |  8 | cdc28_80  |  80 |\n",
       "| cdc28_90 |  9 | cdc28_90  |  90 |\n",
       "| cdc28_100 | 10 | cdc28_100 | 100 |\n",
       "| cdc28_110 | 11 | cdc28_110 | 110 |\n",
       "| cdc28_120 | 12 | cdc28_120 | 120 |\n",
       "| cdc28_130 | 13 | cdc28_130 | 130 |\n",
       "| cdc28_140 | 14 | cdc28_140 | 140 |\n",
       "| cdc28_150 | 15 | cdc28_150 | 150 |\n",
       "| cdc28_160 | 16 | cdc28_160 | 160 |\n",
       "\n"
      ],
      "text/plain": [
       "          index label     time\n",
       "cdc28_0    0    cdc28_0     0 \n",
       "cdc28_10   1    cdc28_10   10 \n",
       "cdc28_20   2    cdc28_20   20 \n",
       "cdc28_30   3    cdc28_30   30 \n",
       "cdc28_40   4    cdc28_40   40 \n",
       "cdc28_50   5    cdc28_50   50 \n",
       "cdc28_60   6    cdc28_60   60 \n",
       "cdc28_70   7    cdc28_70   70 \n",
       "cdc28_80   8    cdc28_80   80 \n",
       "cdc28_90   9    cdc28_90   90 \n",
       "cdc28_100 10    cdc28_100 100 \n",
       "cdc28_110 11    cdc28_110 110 \n",
       "cdc28_120 12    cdc28_120 120 \n",
       "cdc28_130 13    cdc28_130 130 \n",
       "cdc28_140 14    cdc28_140 140 \n",
       "cdc28_150 15    cdc28_150 150 \n",
       "cdc28_160 16    cdc28_160 160 "
      ]
     },
     "metadata": {},
     "output_type": "display_data"
    }
   ],
   "source": [
    "## To check the attributes of the data, get the component details of the `ExpressionSet` object.\n",
    "pData(yeast_norm) \n",
    "#有16个样本（从0点往后每隔10个单位直到160）"
   ]
  },
  {
   "cell_type": "code",
   "execution_count": 58,
   "metadata": {},
   "outputs": [
    {
     "data": {
      "text/html": [
       "<ol class=list-inline>\n",
       "\t<li>0</li>\n",
       "\t<li>10</li>\n",
       "\t<li>20</li>\n",
       "\t<li>30</li>\n",
       "\t<li>40</li>\n",
       "\t<li>50</li>\n",
       "\t<li>60</li>\n",
       "\t<li>70</li>\n",
       "\t<li>80</li>\n",
       "\t<li>90</li>\n",
       "\t<li>100</li>\n",
       "\t<li>110</li>\n",
       "\t<li>120</li>\n",
       "\t<li>130</li>\n",
       "\t<li>140</li>\n",
       "\t<li>150</li>\n",
       "\t<li>160</li>\n",
       "</ol>\n",
       "\n",
       "<details>\n",
       "\t<summary style=display:list-item;cursor:pointer>\n",
       "\t\t<strong>Levels</strong>:\n",
       "\t</summary>\n",
       "\t<ol class=list-inline>\n",
       "\t\t<li>'0'</li>\n",
       "\t\t<li>'10'</li>\n",
       "\t\t<li>'20'</li>\n",
       "\t\t<li>'30'</li>\n",
       "\t\t<li>'40'</li>\n",
       "\t\t<li>'50'</li>\n",
       "\t\t<li>'60'</li>\n",
       "\t\t<li>'70'</li>\n",
       "\t\t<li>'80'</li>\n",
       "\t\t<li>'90'</li>\n",
       "\t\t<li>'100'</li>\n",
       "\t\t<li>'110'</li>\n",
       "\t\t<li>'120'</li>\n",
       "\t\t<li>'130'</li>\n",
       "\t\t<li>'140'</li>\n",
       "\t\t<li>'150'</li>\n",
       "\t\t<li>'160'</li>\n",
       "\t</ol>\n",
       "</details>"
      ],
      "text/latex": [
       "\\begin{enumerate*}\n",
       "\\item 0\n",
       "\\item 10\n",
       "\\item 20\n",
       "\\item 30\n",
       "\\item 40\n",
       "\\item 50\n",
       "\\item 60\n",
       "\\item 70\n",
       "\\item 80\n",
       "\\item 90\n",
       "\\item 100\n",
       "\\item 110\n",
       "\\item 120\n",
       "\\item 130\n",
       "\\item 140\n",
       "\\item 150\n",
       "\\item 160\n",
       "\\end{enumerate*}\n",
       "\n",
       "\\emph{Levels}: \\begin{enumerate*}\n",
       "\\item '0'\n",
       "\\item '10'\n",
       "\\item '20'\n",
       "\\item '30'\n",
       "\\item '40'\n",
       "\\item '50'\n",
       "\\item '60'\n",
       "\\item '70'\n",
       "\\item '80'\n",
       "\\item '90'\n",
       "\\item '100'\n",
       "\\item '110'\n",
       "\\item '120'\n",
       "\\item '130'\n",
       "\\item '140'\n",
       "\\item '150'\n",
       "\\item '160'\n",
       "\\end{enumerate*}\n"
      ],
      "text/markdown": [
       "1. 0\n",
       "2. 10\n",
       "3. 20\n",
       "4. 30\n",
       "5. 40\n",
       "6. 50\n",
       "7. 60\n",
       "8. 70\n",
       "9. 80\n",
       "10. 90\n",
       "11. 100\n",
       "12. 110\n",
       "13. 120\n",
       "14. 130\n",
       "15. 140\n",
       "16. 150\n",
       "17. 160\n",
       "\n",
       "\n",
       "\n",
       "**Levels**: 1. '0'\n",
       "2. '10'\n",
       "3. '20'\n",
       "4. '30'\n",
       "5. '40'\n",
       "6. '50'\n",
       "7. '60'\n",
       "8. '70'\n",
       "9. '80'\n",
       "10. '90'\n",
       "11. '100'\n",
       "12. '110'\n",
       "13. '120'\n",
       "14. '130'\n",
       "15. '140'\n",
       "16. '150'\n",
       "17. '160'\n",
       "\n",
       "\n"
      ],
      "text/plain": [
       " [1] 0   10  20  30  40  50  60  70  80  90  100 110 120 130 140 150 160\n",
       "Levels: 0 10 20 30 40 50 60 70 80 90 100 110 120 130 140 150 160"
      ]
     },
     "metadata": {},
     "output_type": "display_data"
    }
   ],
   "source": [
    "## The design matrix can accordingly be created for a time series where there will be controls and time points. \n",
    "## For example, if you have two replicates, C, for each control and time points, T1 and T2,\n",
    "\n",
    "times <- pData(yeast_norm)$time\n",
    "times <- as.factor(times)\n",
    "times"
   ]
  },
  {
   "cell_type": "code",
   "execution_count": 60,
   "metadata": {},
   "outputs": [],
   "source": [
    "design <- model.matrix(~0 +factor(pData(yeast_norm)$time))\n",
    "colnames(design)[1:17] <- c(\"C\", paste(\"T\", 1:16, sep=\"\"))"
   ]
  },
  {
   "cell_type": "code",
   "execution_count": 61,
   "metadata": {},
   "outputs": [],
   "source": [
    "## Create a contrast matrix using the `0th` point as a reference and all the other time points as the treatment\n",
    "## (usually done for samples from the same culture)\n",
    "cont <- makeContrasts(C-T1, C-T2, C-T3, C-T4, C-T5, C-T6, C-T7, C-T8, C-T9, C-T10,\n",
    "                      C-T11, C-T12, C-T13, C-T14, C-T15, C-T16, levels=design)"
   ]
  },
  {
   "cell_type": "code",
   "execution_count": 62,
   "metadata": {},
   "outputs": [
    {
     "name": "stderr",
     "output_type": "stream",
     "text": [
      "Warning message:\n",
      "\"Partial NA coefficients for 332 probe(s)\"\n"
     ]
    }
   ],
   "source": [
    "## Use this matrix to fit the linear model, followed by the `eBayes` function to compute statistics\n",
    "\n",
    "library(limma)\n",
    "fit <- lmFit(yeast_norm, cont)\n",
    "fitE <- eBayes(fit)"
   ]
  },
  {
   "cell_type": "code",
   "execution_count": 63,
   "metadata": {},
   "outputs": [
    {
     "data": {
      "text/html": [
       "<table>\n",
       "<caption>A data.frame: 6 × 20</caption>\n",
       "<thead>\n",
       "\t<tr><th></th><th scope=col>C...T1</th><th scope=col>C...T2</th><th scope=col>C...T3</th><th scope=col>C...T4</th><th scope=col>C...T5</th><th scope=col>C...T6</th><th scope=col>C...T7</th><th scope=col>C...T8</th><th scope=col>C...T9</th><th scope=col>C...T10</th><th scope=col>C...T11</th><th scope=col>C...T12</th><th scope=col>C...T13</th><th scope=col>C...T14</th><th scope=col>C...T15</th><th scope=col>C...T16</th><th scope=col>AveExpr</th><th scope=col>F</th><th scope=col>P.Value</th><th scope=col>adj.P.Val</th></tr>\n",
       "\t<tr><th></th><th scope=col>&lt;dbl&gt;</th><th scope=col>&lt;dbl&gt;</th><th scope=col>&lt;dbl&gt;</th><th scope=col>&lt;dbl&gt;</th><th scope=col>&lt;dbl&gt;</th><th scope=col>&lt;dbl&gt;</th><th scope=col>&lt;dbl&gt;</th><th scope=col>&lt;dbl&gt;</th><th scope=col>&lt;dbl&gt;</th><th scope=col>&lt;dbl&gt;</th><th scope=col>&lt;dbl&gt;</th><th scope=col>&lt;dbl&gt;</th><th scope=col>&lt;dbl&gt;</th><th scope=col>&lt;dbl&gt;</th><th scope=col>&lt;dbl&gt;</th><th scope=col>&lt;dbl&gt;</th><th scope=col>&lt;dbl&gt;</th><th scope=col>&lt;dbl&gt;</th><th scope=col>&lt;dbl&gt;</th><th scope=col>&lt;dbl&gt;</th></tr>\n",
       "</thead>\n",
       "<tbody>\n",
       "\t<tr><th scope=row>YDR535C</th><td> 0.045373350</td><td>-0.3547546</td><td> 3.0812557</td><td> 3.0812557</td><td>-0.9260739</td><td> 0.4494472</td><td>-1.056314</td><td>-0.6702775</td><td>-1.5162388</td><td>-0.41473668</td><td>-0.9354636</td><td>-0.529467891</td><td>-1.0627284</td><td> 0.5007095</td><td> 0.96456085</td><td>-0.8230849</td><td>-0.0005090025</td><td>256.5624</td><td>2.244303e-05</td><td>0.02482905</td></tr>\n",
       "\t<tr><th scope=row>YMR317W</th><td>-1.361618986</td><td>-0.6120542</td><td> 0.1716029</td><td>-1.2922435</td><td>-1.2019479</td><td>-2.2924229</td><td>-1.580176</td><td>-0.8586329</td><td>-0.4953870</td><td> 0.66528863</td><td> 0.2092902</td><td> 1.339882439</td><td> 1.4571198</td><td> 1.5013949</td><td> 2.47249069</td><td> 2.1328350</td><td>-0.0283052587</td><td>193.5176</td><td>4.037131e-05</td><td>0.02482905</td></tr>\n",
       "\t<tr><th scope=row>YHR137W</th><td> 0.085269790</td><td> 0.9183755</td><td> 1.1131313</td><td> 0.9793744</td><td> 1.6141288</td><td> 1.9857307</td><td> 1.291442</td><td>-0.2478004</td><td>-0.3620259</td><td>-0.72751145</td><td>-0.8521049</td><td>-0.705844221</td><td>-1.0954868</td><td>-1.5246807</td><td>-1.27434537</td><td>-1.1303175</td><td> 0.0120720297</td><td>163.5566</td><td>5.728278e-05</td><td>0.02482905</td></tr>\n",
       "\t<tr><th scope=row>YML047C</th><td>-0.459388638</td><td>-0.7911001</td><td> 0.2786879</td><td> 1.8677038</td><td> 0.2557558</td><td>-0.6688607</td><td> 1.407027</td><td> 1.3683844</td><td> 1.4283458</td><td>-0.43175983</td><td>-0.1842532</td><td> 0.651554550</td><td>-1.3090766</td><td>-1.2034157</td><td>-1.33061493</td><td>-0.9217954</td><td> 0.0045702974</td><td>153.9416</td><td>6.497142e-05</td><td>0.02482905</td></tr>\n",
       "\t<tr><th scope=row>YMR032W</th><td> 1.801686846</td><td> 0.9413805</td><td> 1.3044926</td><td> 1.0622749</td><td>-0.4679252</td><td>-1.9259800</td><td>-2.229041</td><td>-1.4127112</td><td>-0.4110722</td><td>-0.02723012</td><td> 0.7586565</td><td> 1.155280123</td><td>-0.1675567</td><td>-1.0783823</td><td>-0.87879003</td><td>-0.7665813</td><td> 0.0350770571</td><td>146.6830</td><td>7.183158e-05</td><td>0.02482905</td></tr>\n",
       "\t<tr><th scope=row>YGL184C</th><td>-0.001825009</td><td>-0.2441705</td><td>-1.6977556</td><td>-1.9718563</td><td>-1.4590626</td><td> 0.4270147</td><td> 1.178113</td><td> 1.3716358</td><td> 0.7443744</td><td> 0.94560458</td><td> 0.9217415</td><td> 0.007869278</td><td> 0.1914265</td><td> 0.3503931</td><td> 0.01746599</td><td>-0.6565194</td><td>-0.0103381969</td><td>130.2669</td><td>9.191468e-05</td><td>0.02482905</td></tr>\n",
       "</tbody>\n",
       "</table>\n"
      ],
      "text/latex": [
       "A data.frame: 6 × 20\n",
       "\\begin{tabular}{r|llllllllllllllllllll}\n",
       "  & C...T1 & C...T2 & C...T3 & C...T4 & C...T5 & C...T6 & C...T7 & C...T8 & C...T9 & C...T10 & C...T11 & C...T12 & C...T13 & C...T14 & C...T15 & C...T16 & AveExpr & F & P.Value & adj.P.Val\\\\\n",
       "  & <dbl> & <dbl> & <dbl> & <dbl> & <dbl> & <dbl> & <dbl> & <dbl> & <dbl> & <dbl> & <dbl> & <dbl> & <dbl> & <dbl> & <dbl> & <dbl> & <dbl> & <dbl> & <dbl> & <dbl>\\\\\n",
       "\\hline\n",
       "\tYDR535C &  0.045373350 & -0.3547546 &  3.0812557 &  3.0812557 & -0.9260739 &  0.4494472 & -1.056314 & -0.6702775 & -1.5162388 & -0.41473668 & -0.9354636 & -0.529467891 & -1.0627284 &  0.5007095 &  0.96456085 & -0.8230849 & -0.0005090025 & 256.5624 & 2.244303e-05 & 0.02482905\\\\\n",
       "\tYMR317W & -1.361618986 & -0.6120542 &  0.1716029 & -1.2922435 & -1.2019479 & -2.2924229 & -1.580176 & -0.8586329 & -0.4953870 &  0.66528863 &  0.2092902 &  1.339882439 &  1.4571198 &  1.5013949 &  2.47249069 &  2.1328350 & -0.0283052587 & 193.5176 & 4.037131e-05 & 0.02482905\\\\\n",
       "\tYHR137W &  0.085269790 &  0.9183755 &  1.1131313 &  0.9793744 &  1.6141288 &  1.9857307 &  1.291442 & -0.2478004 & -0.3620259 & -0.72751145 & -0.8521049 & -0.705844221 & -1.0954868 & -1.5246807 & -1.27434537 & -1.1303175 &  0.0120720297 & 163.5566 & 5.728278e-05 & 0.02482905\\\\\n",
       "\tYML047C & -0.459388638 & -0.7911001 &  0.2786879 &  1.8677038 &  0.2557558 & -0.6688607 &  1.407027 &  1.3683844 &  1.4283458 & -0.43175983 & -0.1842532 &  0.651554550 & -1.3090766 & -1.2034157 & -1.33061493 & -0.9217954 &  0.0045702974 & 153.9416 & 6.497142e-05 & 0.02482905\\\\\n",
       "\tYMR032W &  1.801686846 &  0.9413805 &  1.3044926 &  1.0622749 & -0.4679252 & -1.9259800 & -2.229041 & -1.4127112 & -0.4110722 & -0.02723012 &  0.7586565 &  1.155280123 & -0.1675567 & -1.0783823 & -0.87879003 & -0.7665813 &  0.0350770571 & 146.6830 & 7.183158e-05 & 0.02482905\\\\\n",
       "\tYGL184C & -0.001825009 & -0.2441705 & -1.6977556 & -1.9718563 & -1.4590626 &  0.4270147 &  1.178113 &  1.3716358 &  0.7443744 &  0.94560458 &  0.9217415 &  0.007869278 &  0.1914265 &  0.3503931 &  0.01746599 & -0.6565194 & -0.0103381969 & 130.2669 & 9.191468e-05 & 0.02482905\\\\\n",
       "\\end{tabular}\n"
      ],
      "text/markdown": [
       "\n",
       "A data.frame: 6 × 20\n",
       "\n",
       "| <!--/--> | C...T1 &lt;dbl&gt; | C...T2 &lt;dbl&gt; | C...T3 &lt;dbl&gt; | C...T4 &lt;dbl&gt; | C...T5 &lt;dbl&gt; | C...T6 &lt;dbl&gt; | C...T7 &lt;dbl&gt; | C...T8 &lt;dbl&gt; | C...T9 &lt;dbl&gt; | C...T10 &lt;dbl&gt; | C...T11 &lt;dbl&gt; | C...T12 &lt;dbl&gt; | C...T13 &lt;dbl&gt; | C...T14 &lt;dbl&gt; | C...T15 &lt;dbl&gt; | C...T16 &lt;dbl&gt; | AveExpr &lt;dbl&gt; | F &lt;dbl&gt; | P.Value &lt;dbl&gt; | adj.P.Val &lt;dbl&gt; |\n",
       "|---|---|---|---|---|---|---|---|---|---|---|---|---|---|---|---|---|---|---|---|---|\n",
       "| YDR535C |  0.045373350 | -0.3547546 |  3.0812557 |  3.0812557 | -0.9260739 |  0.4494472 | -1.056314 | -0.6702775 | -1.5162388 | -0.41473668 | -0.9354636 | -0.529467891 | -1.0627284 |  0.5007095 |  0.96456085 | -0.8230849 | -0.0005090025 | 256.5624 | 2.244303e-05 | 0.02482905 |\n",
       "| YMR317W | -1.361618986 | -0.6120542 |  0.1716029 | -1.2922435 | -1.2019479 | -2.2924229 | -1.580176 | -0.8586329 | -0.4953870 |  0.66528863 |  0.2092902 |  1.339882439 |  1.4571198 |  1.5013949 |  2.47249069 |  2.1328350 | -0.0283052587 | 193.5176 | 4.037131e-05 | 0.02482905 |\n",
       "| YHR137W |  0.085269790 |  0.9183755 |  1.1131313 |  0.9793744 |  1.6141288 |  1.9857307 |  1.291442 | -0.2478004 | -0.3620259 | -0.72751145 | -0.8521049 | -0.705844221 | -1.0954868 | -1.5246807 | -1.27434537 | -1.1303175 |  0.0120720297 | 163.5566 | 5.728278e-05 | 0.02482905 |\n",
       "| YML047C | -0.459388638 | -0.7911001 |  0.2786879 |  1.8677038 |  0.2557558 | -0.6688607 |  1.407027 |  1.3683844 |  1.4283458 | -0.43175983 | -0.1842532 |  0.651554550 | -1.3090766 | -1.2034157 | -1.33061493 | -0.9217954 |  0.0045702974 | 153.9416 | 6.497142e-05 | 0.02482905 |\n",
       "| YMR032W |  1.801686846 |  0.9413805 |  1.3044926 |  1.0622749 | -0.4679252 | -1.9259800 | -2.229041 | -1.4127112 | -0.4110722 | -0.02723012 |  0.7586565 |  1.155280123 | -0.1675567 | -1.0783823 | -0.87879003 | -0.7665813 |  0.0350770571 | 146.6830 | 7.183158e-05 | 0.02482905 |\n",
       "| YGL184C | -0.001825009 | -0.2441705 | -1.6977556 | -1.9718563 | -1.4590626 |  0.4270147 |  1.178113 |  1.3716358 |  0.7443744 |  0.94560458 |  0.9217415 |  0.007869278 |  0.1914265 |  0.3503931 |  0.01746599 | -0.6565194 | -0.0103381969 | 130.2669 | 9.191468e-05 | 0.02482905 |\n",
       "\n"
      ],
      "text/plain": [
       "        C...T1       C...T2     C...T3     C...T4     C...T5     C...T6    \n",
       "YDR535C  0.045373350 -0.3547546  3.0812557  3.0812557 -0.9260739  0.4494472\n",
       "YMR317W -1.361618986 -0.6120542  0.1716029 -1.2922435 -1.2019479 -2.2924229\n",
       "YHR137W  0.085269790  0.9183755  1.1131313  0.9793744  1.6141288  1.9857307\n",
       "YML047C -0.459388638 -0.7911001  0.2786879  1.8677038  0.2557558 -0.6688607\n",
       "YMR032W  1.801686846  0.9413805  1.3044926  1.0622749 -0.4679252 -1.9259800\n",
       "YGL184C -0.001825009 -0.2441705 -1.6977556 -1.9718563 -1.4590626  0.4270147\n",
       "        C...T7    C...T8     C...T9     C...T10     C...T11    C...T12     \n",
       "YDR535C -1.056314 -0.6702775 -1.5162388 -0.41473668 -0.9354636 -0.529467891\n",
       "YMR317W -1.580176 -0.8586329 -0.4953870  0.66528863  0.2092902  1.339882439\n",
       "YHR137W  1.291442 -0.2478004 -0.3620259 -0.72751145 -0.8521049 -0.705844221\n",
       "YML047C  1.407027  1.3683844  1.4283458 -0.43175983 -0.1842532  0.651554550\n",
       "YMR032W -2.229041 -1.4127112 -0.4110722 -0.02723012  0.7586565  1.155280123\n",
       "YGL184C  1.178113  1.3716358  0.7443744  0.94560458  0.9217415  0.007869278\n",
       "        C...T13    C...T14    C...T15     C...T16    AveExpr       F       \n",
       "YDR535C -1.0627284  0.5007095  0.96456085 -0.8230849 -0.0005090025 256.5624\n",
       "YMR317W  1.4571198  1.5013949  2.47249069  2.1328350 -0.0283052587 193.5176\n",
       "YHR137W -1.0954868 -1.5246807 -1.27434537 -1.1303175  0.0120720297 163.5566\n",
       "YML047C -1.3090766 -1.2034157 -1.33061493 -0.9217954  0.0045702974 153.9416\n",
       "YMR032W -0.1675567 -1.0783823 -0.87879003 -0.7665813  0.0350770571 146.6830\n",
       "YGL184C  0.1914265  0.3503931  0.01746599 -0.6565194 -0.0103381969 130.2669\n",
       "        P.Value      adj.P.Val \n",
       "YDR535C 2.244303e-05 0.02482905\n",
       "YMR317W 4.037131e-05 0.02482905\n",
       "YHR137W 5.728278e-05 0.02482905\n",
       "YML047C 6.497142e-05 0.02482905\n",
       "YMR032W 7.183158e-05 0.02482905\n",
       "YGL184C 9.191468e-05 0.02482905"
      ]
     },
     "metadata": {},
     "output_type": "display_data"
    }
   ],
   "source": [
    "## Filter the top-ranking genes using the `topTable` function.\n",
    "x <- topTable(fitE, adjust=\"fdr\", sort.by=\"F\", number=100)\n",
    "y <- x[x$adj.P.Val< 0.05,]\n",
    "head(y)"
   ]
  },
  {
   "cell_type": "markdown",
   "metadata": {},
   "source": [
    "## 14. Clustering microarray data\n",
    "\n",
    "Clustering is about aggregating similar genes together in a group (called cluster) and away from other such groups. When genes get clustered together (falling in the same group/cluster), it means they follow a similar pattern based on the expression data under the given conditions. This section presents the widely used concept of hierarchical clustering in gene\n",
    "expression analysis.<br>\n",
    "聚类是关于将一组（称为聚类）中的相似基因聚集在一起并远离其他这样的聚类。当基因聚集在一起时（落在同一组/簇中），这意味着它们在给定条件下基于表达数据遵循类似的模式。本节内容介绍了基因表达分析中广泛使用的等级聚类的概念。<br>\n",
    "Requires:<br>\n",
    "1、The normalized breast cancer data from the earlier part. We use only part of it, the top 1500 genes—for a faster computation.<br>\n",
    "2、`EMA` package."
   ]
  },
  {
   "cell_type": "code",
   "execution_count": 65,
   "metadata": {},
   "outputs": [
    {
     "data": {
      "text/html": [
       "'D:/R-3.6.2/library/Biobase/extdata'"
      ],
      "text/latex": [
       "'D:/R-3.6.2/library/Biobase/extdata'"
      ],
      "text/markdown": [
       "'D:/R-3.6.2/library/Biobase/extdata'"
      ],
      "text/plain": [
       "[1] \"D:/R-3.6.2/library/Biobase/extdata\""
      ]
     },
     "metadata": {},
     "output_type": "display_data"
    },
    {
     "data": {
      "text/html": [
       "'D:/R-3.6.2/library/Biobase/extdata/exprsData.txt'"
      ],
      "text/latex": [
       "'D:/R-3.6.2/library/Biobase/extdata/exprsData.txt'"
      ],
      "text/markdown": [
       "'D:/R-3.6.2/library/Biobase/extdata/exprsData.txt'"
      ],
      "text/plain": [
       "[1] \"D:/R-3.6.2/library/Biobase/extdata/exprsData.txt\""
      ]
     },
     "metadata": {},
     "output_type": "display_data"
    },
    {
     "data": {
      "text/html": [
       "'D:/R-3.6.2/library/Biobase/extdata/pData.txt'"
      ],
      "text/latex": [
       "'D:/R-3.6.2/library/Biobase/extdata/pData.txt'"
      ],
      "text/markdown": [
       "'D:/R-3.6.2/library/Biobase/extdata/pData.txt'"
      ],
      "text/plain": [
       "[1] \"D:/R-3.6.2/library/Biobase/extdata/pData.txt\""
      ]
     },
     "metadata": {},
     "output_type": "display_data"
    }
   ],
   "source": [
    "## Create a dataset for clustering purposes from the leukemia data again. \n",
    "## Use only the first 100 data instances for demonstration purposes. \n",
    "\n",
    "library(affy)\n",
    "library(affydata)\n",
    "library(hgu133a2cdf)\n",
    "mydata <- ReadAffy(celfile.path= \"F:/GSE24460_RAW/\")\n",
    "# mydata <- ReadAffy(filenames=\"D:/Try-practice/Chapter 5/GSE24460_RAW/GSM602658_MCF71.CEL\")\n",
    "library(Biobase)\n",
    "DIR <- system.file(\"extdata\", package=\"Biobase\")\n",
    "exprsLoc <- file.path(DIR, \"exprsData.txt\") \n",
    "pDataLoc <- file.path(DIR, \"pData.txt\")\n",
    "DIR\n",
    "exprsLoc\n",
    "pDataLoc\n",
    "exprs <- as.matrix(read.csv(exprsLoc, header = TRUE, sep = \"\\t\", row.names = 1, as.is = TRUE))\n",
    "pData <- read.table(pDataLoc, row.names = 1, header = TRUE, sep = \"\\t\")\n",
    "pData <- new(\"AnnotatedDataFrame\", data = pData)\n",
    "exData <- new(\"MIAME\", name=\"ABCabc\", lab=\"XYZ Lab\", contact=\"abc@xyz\", title=\"\", abstract=\"\", url=\"www.xyz\")\n",
    "eset <- new(\"ExpressionSet\", exprs = exprs, phenoData = pData, experimentData = exData, annotation = \"hgu133a2\")"
   ]
  },
  {
   "cell_type": "code",
   "execution_count": 67,
   "metadata": {},
   "outputs": [
    {
     "data": {
      "text/html": [
       "<table>\n",
       "<caption>A matrix: 6 × 26 of type dbl</caption>\n",
       "<thead>\n",
       "\t<tr><th></th><th scope=col>A</th><th scope=col>B</th><th scope=col>C</th><th scope=col>D</th><th scope=col>E</th><th scope=col>F</th><th scope=col>G</th><th scope=col>H</th><th scope=col>I</th><th scope=col>J</th><th scope=col>...</th><th scope=col>Q</th><th scope=col>R</th><th scope=col>S</th><th scope=col>T</th><th scope=col>U</th><th scope=col>V</th><th scope=col>W</th><th scope=col>X</th><th scope=col>Y</th><th scope=col>Z</th></tr>\n",
       "</thead>\n",
       "<tbody>\n",
       "\t<tr><th scope=row>AFFX-MurIL2_at</th><td>192.7420</td><td> 85.75330</td><td>176.7570</td><td>135.5750</td><td>64.49390</td><td>76.3569</td><td>160.5050</td><td>65.9631</td><td>56.9039</td><td>135.60800</td><td>...</td><td>179.8450</td><td>152.4670</td><td>180.83400</td><td>85.4146</td><td>157.98900</td><td>146.8000</td><td>93.8829</td><td>103.85500</td><td>64.4340</td><td>175.61500</td></tr>\n",
       "\t<tr><th scope=row>AFFX-MurIL10_at</th><td> 97.1370</td><td>126.19600</td><td> 77.9216</td><td> 93.3713</td><td>24.39860</td><td>85.5088</td><td> 98.9086</td><td>81.6932</td><td>97.8015</td><td> 90.48380</td><td>...</td><td> 87.6806</td><td>108.0320</td><td>134.26300</td><td>91.4031</td><td> -8.68811</td><td> 85.0212</td><td>79.2998</td><td> 71.65520</td><td>64.2369</td><td> 78.70680</td></tr>\n",
       "\t<tr><th scope=row>AFFX-MurIL4_at</th><td> 45.8192</td><td>  8.83135</td><td> 33.0632</td><td> 28.7072</td><td> 5.94492</td><td>28.2925</td><td> 30.9694</td><td>14.7923</td><td>14.2399</td><td> 34.48740</td><td>...</td><td> 32.7911</td><td> 33.5292</td><td> 19.81720</td><td>20.4190</td><td> 26.87200</td><td> 31.1488</td><td>22.3420</td><td> 19.01350</td><td>12.1686</td><td> 17.37800</td></tr>\n",
       "\t<tr><th scope=row>AFFX-MurFAS_at</th><td> 22.5445</td><td>  3.60093</td><td> 14.6883</td><td> 12.3397</td><td>36.86630</td><td>11.2568</td><td> 23.0034</td><td>16.2134</td><td>12.0375</td><td>  4.54978</td><td>...</td><td> 15.9488</td><td> 14.6753</td><td> -7.91911</td><td>12.8875</td><td> 11.91860</td><td> 12.8324</td><td>11.1390</td><td>  7.55564</td><td>19.9849</td><td>  8.96849</td></tr>\n",
       "\t<tr><th scope=row>AFFX-BioB-5_at</th><td> 96.7875</td><td> 30.43800</td><td> 46.1271</td><td> 70.9319</td><td>56.17440</td><td>42.6756</td><td> 86.5156</td><td>30.7927</td><td>19.7183</td><td> 46.35200</td><td>...</td><td> 58.6239</td><td>114.0620</td><td> 93.44020</td><td>22.5168</td><td> 48.64620</td><td> 90.2215</td><td>42.0053</td><td> 57.57380</td><td>44.8216</td><td> 61.70440</td></tr>\n",
       "\t<tr><th scope=row>AFFX-BioB-M_at</th><td> 89.0730</td><td> 25.84610</td><td> 57.2033</td><td> 69.9766</td><td>49.58220</td><td>26.1262</td><td> 75.0083</td><td>42.3352</td><td>41.1207</td><td> 91.53070</td><td>...</td><td> 58.1331</td><td>104.1220</td><td>115.83100</td><td>58.1224</td><td> 73.42210</td><td> 64.6066</td><td>40.3068</td><td> 41.82090</td><td>46.1087</td><td> 49.41220</td></tr>\n",
       "</tbody>\n",
       "</table>\n"
      ],
      "text/latex": [
       "A matrix: 6 × 26 of type dbl\n",
       "\\begin{tabular}{r|lllllllllllllllllllll}\n",
       "  & A & B & C & D & E & F & G & H & I & J & ... & Q & R & S & T & U & V & W & X & Y & Z\\\\\n",
       "\\hline\n",
       "\tAFFX-MurIL2\\_at & 192.7420 &  85.75330 & 176.7570 & 135.5750 & 64.49390 & 76.3569 & 160.5050 & 65.9631 & 56.9039 & 135.60800 & ... & 179.8450 & 152.4670 & 180.83400 & 85.4146 & 157.98900 & 146.8000 & 93.8829 & 103.85500 & 64.4340 & 175.61500\\\\\n",
       "\tAFFX-MurIL10\\_at &  97.1370 & 126.19600 &  77.9216 &  93.3713 & 24.39860 & 85.5088 &  98.9086 & 81.6932 & 97.8015 &  90.48380 & ... &  87.6806 & 108.0320 & 134.26300 & 91.4031 &  -8.68811 &  85.0212 & 79.2998 &  71.65520 & 64.2369 &  78.70680\\\\\n",
       "\tAFFX-MurIL4\\_at &  45.8192 &   8.83135 &  33.0632 &  28.7072 &  5.94492 & 28.2925 &  30.9694 & 14.7923 & 14.2399 &  34.48740 & ... &  32.7911 &  33.5292 &  19.81720 & 20.4190 &  26.87200 &  31.1488 & 22.3420 &  19.01350 & 12.1686 &  17.37800\\\\\n",
       "\tAFFX-MurFAS\\_at &  22.5445 &   3.60093 &  14.6883 &  12.3397 & 36.86630 & 11.2568 &  23.0034 & 16.2134 & 12.0375 &   4.54978 & ... &  15.9488 &  14.6753 &  -7.91911 & 12.8875 &  11.91860 &  12.8324 & 11.1390 &   7.55564 & 19.9849 &   8.96849\\\\\n",
       "\tAFFX-BioB-5\\_at &  96.7875 &  30.43800 &  46.1271 &  70.9319 & 56.17440 & 42.6756 &  86.5156 & 30.7927 & 19.7183 &  46.35200 & ... &  58.6239 & 114.0620 &  93.44020 & 22.5168 &  48.64620 &  90.2215 & 42.0053 &  57.57380 & 44.8216 &  61.70440\\\\\n",
       "\tAFFX-BioB-M\\_at &  89.0730 &  25.84610 &  57.2033 &  69.9766 & 49.58220 & 26.1262 &  75.0083 & 42.3352 & 41.1207 &  91.53070 & ... &  58.1331 & 104.1220 & 115.83100 & 58.1224 &  73.42210 &  64.6066 & 40.3068 &  41.82090 & 46.1087 &  49.41220\\\\\n",
       "\\end{tabular}\n"
      ],
      "text/markdown": [
       "\n",
       "A matrix: 6 × 26 of type dbl\n",
       "\n",
       "| <!--/--> | A | B | C | D | E | F | G | H | I | J | ... | Q | R | S | T | U | V | W | X | Y | Z |\n",
       "|---|---|---|---|---|---|---|---|---|---|---|---|---|---|---|---|---|---|---|---|---|---|\n",
       "| AFFX-MurIL2_at | 192.7420 |  85.75330 | 176.7570 | 135.5750 | 64.49390 | 76.3569 | 160.5050 | 65.9631 | 56.9039 | 135.60800 | ... | 179.8450 | 152.4670 | 180.83400 | 85.4146 | 157.98900 | 146.8000 | 93.8829 | 103.85500 | 64.4340 | 175.61500 |\n",
       "| AFFX-MurIL10_at |  97.1370 | 126.19600 |  77.9216 |  93.3713 | 24.39860 | 85.5088 |  98.9086 | 81.6932 | 97.8015 |  90.48380 | ... |  87.6806 | 108.0320 | 134.26300 | 91.4031 |  -8.68811 |  85.0212 | 79.2998 |  71.65520 | 64.2369 |  78.70680 |\n",
       "| AFFX-MurIL4_at |  45.8192 |   8.83135 |  33.0632 |  28.7072 |  5.94492 | 28.2925 |  30.9694 | 14.7923 | 14.2399 |  34.48740 | ... |  32.7911 |  33.5292 |  19.81720 | 20.4190 |  26.87200 |  31.1488 | 22.3420 |  19.01350 | 12.1686 |  17.37800 |\n",
       "| AFFX-MurFAS_at |  22.5445 |   3.60093 |  14.6883 |  12.3397 | 36.86630 | 11.2568 |  23.0034 | 16.2134 | 12.0375 |   4.54978 | ... |  15.9488 |  14.6753 |  -7.91911 | 12.8875 |  11.91860 |  12.8324 | 11.1390 |   7.55564 | 19.9849 |   8.96849 |\n",
       "| AFFX-BioB-5_at |  96.7875 |  30.43800 |  46.1271 |  70.9319 | 56.17440 | 42.6756 |  86.5156 | 30.7927 | 19.7183 |  46.35200 | ... |  58.6239 | 114.0620 |  93.44020 | 22.5168 |  48.64620 |  90.2215 | 42.0053 |  57.57380 | 44.8216 |  61.70440 |\n",
       "| AFFX-BioB-M_at |  89.0730 |  25.84610 |  57.2033 |  69.9766 | 49.58220 | 26.1262 |  75.0083 | 42.3352 | 41.1207 |  91.53070 | ... |  58.1331 | 104.1220 | 115.83100 | 58.1224 |  73.42210 |  64.6066 | 40.3068 |  41.82090 | 46.1087 |  49.41220 |\n",
       "\n"
      ],
      "text/plain": [
       "                A        B         C        D        E        F       G       \n",
       "AFFX-MurIL2_at  192.7420  85.75330 176.7570 135.5750 64.49390 76.3569 160.5050\n",
       "AFFX-MurIL10_at  97.1370 126.19600  77.9216  93.3713 24.39860 85.5088  98.9086\n",
       "AFFX-MurIL4_at   45.8192   8.83135  33.0632  28.7072  5.94492 28.2925  30.9694\n",
       "AFFX-MurFAS_at   22.5445   3.60093  14.6883  12.3397 36.86630 11.2568  23.0034\n",
       "AFFX-BioB-5_at   96.7875  30.43800  46.1271  70.9319 56.17440 42.6756  86.5156\n",
       "AFFX-BioB-M_at   89.0730  25.84610  57.2033  69.9766 49.58220 26.1262  75.0083\n",
       "                H       I       J         ... Q        R        S        \n",
       "AFFX-MurIL2_at  65.9631 56.9039 135.60800 ... 179.8450 152.4670 180.83400\n",
       "AFFX-MurIL10_at 81.6932 97.8015  90.48380 ...  87.6806 108.0320 134.26300\n",
       "AFFX-MurIL4_at  14.7923 14.2399  34.48740 ...  32.7911  33.5292  19.81720\n",
       "AFFX-MurFAS_at  16.2134 12.0375   4.54978 ...  15.9488  14.6753  -7.91911\n",
       "AFFX-BioB-5_at  30.7927 19.7183  46.35200 ...  58.6239 114.0620  93.44020\n",
       "AFFX-BioB-M_at  42.3352 41.1207  91.53070 ...  58.1331 104.1220 115.83100\n",
       "                T       U         V        W       X         Y       Z        \n",
       "AFFX-MurIL2_at  85.4146 157.98900 146.8000 93.8829 103.85500 64.4340 175.61500\n",
       "AFFX-MurIL10_at 91.4031  -8.68811  85.0212 79.2998  71.65520 64.2369  78.70680\n",
       "AFFX-MurIL4_at  20.4190  26.87200  31.1488 22.3420  19.01350 12.1686  17.37800\n",
       "AFFX-MurFAS_at  12.8875  11.91860  12.8324 11.1390   7.55564 19.9849   8.96849\n",
       "AFFX-BioB-5_at  22.5168  48.64620  90.2215 42.0053  57.57380 44.8216  61.70440\n",
       "AFFX-BioB-M_at  58.1224  73.42210  64.6066 40.3068  41.82090 46.1087  49.41220"
      ]
     },
     "metadata": {},
     "output_type": "display_data"
    }
   ],
   "source": [
    "c.data <- exprs(eset[1:100,])\n",
    "head(c.data)"
   ]
  },
  {
   "cell_type": "code",
   "execution_count": 69,
   "metadata": {},
   "outputs": [
    {
     "name": "stderr",
     "output_type": "stream",
     "text": [
      "Bioconductor version 3.9 (BiocManager 1.30.10), R 3.6.2 (2019-12-12)\n",
      "\n",
      "Installing package(s) 'EMA'\n",
      "\n",
      "also installing the dependencies 'siggenes', 'heatmap.plus'\n",
      "\n",
      "\n"
     ]
    },
    {
     "name": "stdout",
     "output_type": "stream",
     "text": [
      "package 'siggenes' successfully unpacked and MD5 sums checked\n",
      "package 'heatmap.plus' successfully unpacked and MD5 sums checked\n",
      "package 'EMA' successfully unpacked and MD5 sums checked\n",
      "\n",
      "The downloaded binary packages are in\n",
      "\tC:\\Users\\Master\\AppData\\Local\\Temp\\RtmpMnMXFB\\downloaded_packages\n"
     ]
    },
    {
     "name": "stderr",
     "output_type": "stream",
     "text": [
      "Old packages: 'BH', 'bit', 'caTools', 'cli', 'FactoMineR', 'fansi', 'farver',\n",
      "  'GetoptLong', 'ggridges', 'gplots', 'hms', 'knitr', 'leaps', 'multcomp',\n",
      "  'mvtnorm', 'PMA', 'precrec', 'prettyunits', 'pROC', 'RCurl', 'RSQLite',\n",
      "  'Rttf2pt1', 'shinyjs', 'stringi', 'tinytex', 'xfun', 'XML', 'xts', 'zoo'\n",
      "\n",
      "\n",
      "\n",
      "\n",
      "################################################################################\n",
      "\n",
      "\n",
      "Easy Microarray Analysis\n",
      "\n",
      "\n",
      "EMA stable version\n",
      "\n",
      "\n",
      "Current release : v1.4.4 - march 2014\n",
      "\n",
      "\n",
      "################################################################################\n",
      "\n",
      "\n",
      "\n",
      "Attaching package: 'EMA'\n",
      "\n",
      "\n",
      "The following object is masked from 'package:gtools':\n",
      "\n",
      "    foldchange\n",
      "\n",
      "\n"
     ]
    },
    {
     "data": {
      "text/plain": [
       "Call:\t agnes(x = DIS, diss = TRUE, method = method, keep.diss = TRUE) \n",
       "Agglomerative coefficient:  0.9255212 \n",
       "Order of objects:\n",
       " [1] A C M D J G O R U V Q T S X B E P Y F W I K H L N Z\n",
       "Height (summary):\n",
       "    Min.  1st Qu.   Median     Mean  3rd Qu.     Max. \n",
       "0.001988 0.004644 0.007296 0.023240 0.020449 0.149199 \n",
       "\n",
       "Available components:\n",
       "[1] \"order\"     \"height\"    \"ac\"        \"merge\"     \"diss\"      \"call\"     \n",
       "[7] \"method\"    \"order.lab\""
      ]
     },
     "metadata": {},
     "output_type": "display_data"
    }
   ],
   "source": [
    "## Use `EMA` package to do an array clustering. \n",
    "## Simply use the `c.data` object with clustering from the `EMA` library to perform the clustering of arrays.\n",
    "BiocManager::install(\"EMA\")\n",
    "library(EMA)\n",
    "c.array <- clustering(data=c.data, metric=\"pearson\", method=\"ward\")\n",
    "c.array"
   ]
  },
  {
   "cell_type": "code",
   "execution_count": 70,
   "metadata": {},
   "outputs": [
    {
     "data": {
      "image/png": "[encoded data removed]",
      "text/plain": [
       "Plot with title \"Banner of  agnes(x = DIS, diss = TRUE, method = method, keep.diss =\n",
       "       TRUE)\""
      ]
     },
     "metadata": {
      "image/png": {
       "height": 420,
       "width": 420
      }
     },
     "output_type": "display_data"
    },
    {
     "data": {
      "image/png": "[encoded data removed]",
      "text/plain": [
       "Plot with title \"Dendrogram of  agnes(x = DIS, diss = TRUE, method = method, keep.diss =\n",
       "       TRUE)\""
      ]
     },
     "metadata": {
      "image/png": {
       "height": 420,
       "width": 420
      }
     },
     "output_type": "display_data"
    }
   ],
   "source": [
    "## Create the dendrogram plot for the cluster by plotting the clusters\n",
    "\n",
    "plot(c.array)"
   ]
  },
  {
   "cell_type": "code",
   "execution_count": 71,
   "metadata": {},
   "outputs": [
    {
     "data": {
      "text/plain": [
       "Call:\t agnes(x = DIS, diss = TRUE, method = method, keep.diss = TRUE) \n",
       "Agglomerative coefficient:  0.8726019 \n",
       "Order of objects:\n",
       "  [1] AFFX-MurIL2_at              AFFX-YEL024w/RIP1_at       \n",
       "  [3] AFFX-CreX-5_at              31312_at                   \n",
       "  [5] AFFX-HSAC07/X00351_5_st     AFFX-YEL021w/URA3_at       \n",
       "  [7] AFFX-LysX-5_at              AFFX-LysX-M_at             \n",
       "  [9] AFFX-MurIL4_at              31321_at                   \n",
       " [11] 31328_at                    AFFX-CreX-3_st             \n",
       " [13] 31313_at                    AFFX-TrpnX-3_at            \n",
       " [15] 31335_at                    AFFX-PheX-M_at             \n",
       " [17] AFFX-HSAC07/X00351_3_at     31314_at                   \n",
       " [19] AFFX-BioB-5_at              AFFX-DapX-3_at             \n",
       " [21] AFFX-LysX-3_at              31331_at                   \n",
       " [23] AFFX-ThrX-M_at              31307_at                   \n",
       " [25] 31311_at                    AFFX-BioB-M_at             \n",
       " [27] AFFX-BioC-5_at              AFFX-BioB-3_st             \n",
       " [29] AFFX-CreX-5_st              AFFX-BioDn-3_st            \n",
       " [31] AFFX-DapX-5_at              AFFX-DapX-M_at             \n",
       " [33] AFFX-TrpnX-5_at             AFFX-BioB-3_at             \n",
       " [35] AFFX-BioB-5_st              AFFX-BioC-5_st             \n",
       " [37] 31318_at                    AFFX-ThrX-3_at             \n",
       " [39] AFFX-HUMRGE/M10098_3_at     31327_at                   \n",
       " [41] 31333_at                    AFFX-MurIL10_at            \n",
       " [43] AFFX-BioDn-5_st             AFFX-CreX-3_at             \n",
       " [45] AFFX-HUMRGE/M10098_5_at     31326_at                   \n",
       " [47] AFFX-BioDn-5_at             AFFX-HUMRGE/M10098_M_at    \n",
       " [49] 31323_r_at                  31336_at                   \n",
       " [51] AFFX-BioDn-3_at             AFFX-M27830_3_at           \n",
       " [53] AFFX-ThrX-5_at              AFFX-YEL018w/_at           \n",
       " [55] AFFX-HSAC07/X00351_M_st     31325_at                   \n",
       " [57] AFFX-HUMGAPDH/M33197_5_st   AFFX-HUMGAPDH/M33197_3_st  \n",
       " [59] 31316_at                    31332_at                   \n",
       " [61] 31337_at                    AFFX-HSAC07/X00351_3_st    \n",
       " [63] 31308_at                    31324_at                   \n",
       " [65] 31339_at                    AFFX-MurFAS_at             \n",
       " [67] AFFX-HUMTFRR/M11507_5_at    AFFX-HUMTFRR/M11507_M_at   \n",
       " [69] AFFX-HUMTFRR/M11507_3_at    AFFX-BioC-3_at             \n",
       " [71] AFFX-BioC-3_st              AFFX-M27830_5_at           \n",
       " [73] AFFX-M27830_M_at            AFFX-YEL002c/WBP1_at       \n",
       " [75] 31309_r_at                  AFFX-HSAC07/X00351_5_at    \n",
       " [77] AFFX-HSAC07/X00351_M_at     AFFX-BioB-M_st             \n",
       " [79] 31329_at                    AFFX-PheX-5_at             \n",
       " [81] AFFX-TrpnX-M_at             31310_at                   \n",
       " [83] AFFX-hum_alu_at             AFFX-PheX-3_at             \n",
       " [85] AFFX-HUMGAPDH/M33197_5_at   AFFX-HUMGAPDH/M33197_M_at  \n",
       " [87] AFFX-HUMGAPDH/M33197_3_at   31330_at                   \n",
       " [89] AFFX-HUMGAPDH/M33197_M_st   31338_at                   \n",
       " [91] AFFX-HUMISGF3A/M97935_5_at  AFFX-HUMISGF3A/M97935_MA_at\n",
       " [93] AFFX-HUMISGF3A/M97935_MB_at AFFX-HUMISGF3A/M97935_3_at \n",
       " [95] 31315_at                    31322_at                   \n",
       " [97] 31334_at                    31317_r_at                 \n",
       " [99] 31319_at                    31320_at                   \n",
       "Height (summary):\n",
       "   Min. 1st Qu.  Median    Mean 3rd Qu.    Max. \n",
       "0.03771 0.26474 0.46398 0.58815 0.75655 2.52614 \n",
       "\n",
       "Available components:\n",
       "[1] \"order\"     \"height\"    \"ac\"        \"merge\"     \"diss\"      \"call\"     \n",
       "[7] \"method\"    \"order.lab\""
      ]
     },
     "metadata": {},
     "output_type": "display_data"
    }
   ],
   "source": [
    "## Simply transpose the data matrix and use it as input for the data argument in the clustering function, \n",
    "## and define the similarity metric and clustering method to cluster the gene\n",
    "\n",
    "c.gene <- clustering(data=t(c.data), metric=\"pearsonabs\", method=\"ward\")\n",
    "c.gene"
   ]
  },
  {
   "cell_type": "code",
   "execution_count": 72,
   "metadata": {},
   "outputs": [
    {
     "data": {
      "image/png": "[encoded data removed]",
      "text/plain": [
       "Plot with title \"Banner of  agnes(x = DIS, diss = TRUE, method = method, keep.diss =\n",
       "       TRUE)\""
      ]
     },
     "metadata": {
      "image/png": {
       "height": 420,
       "width": 420
      }
     },
     "output_type": "display_data"
    },
    {
     "data": {
      "image/png": "[encoded data removed]",
      "text/plain": [
       "Plot with title \"Dendrogram of  agnes(x = DIS, diss = TRUE, method = method, keep.diss =\n",
       "       TRUE)\""
      ]
     },
     "metadata": {
      "image/png": {
       "height": 420,
       "width": 420
      }
     },
     "output_type": "display_data"
    }
   ],
   "source": [
    "## Plot the results (note that for readability issues, the following screenshot shows the results for only 100 genes)\n",
    "\n",
    "plot(c.gene)"
   ]
  },
  {
   "cell_type": "markdown",
   "metadata": {},
   "source": [
    "## 15. Getting a co-expression network from microarray data\n",
    "\n",
    "   Recently, biologists are prone to generate some interactive networks from gene expression data to represent the relations between the genes based on the data. There are many possible ways to plot these relationships from the data. <br>\n",
    "   This section will explore the relations based on the correlation among the genes.<br>\n",
    "   Requires:<br>\n",
    "   1、A dataset().<br>\n",
    "   2、`WGCNA` and `RBGL` packages.<br>\n"
   ]
  },
  {
   "cell_type": "code",
   "execution_count": 73,
   "metadata": {},
   "outputs": [
    {
     "data": {
      "text/plain": [
       "ExpressionSet (storageMode: lockedEnvironment)\n",
       "assayData: 20172 features, 12 samples \n",
       "  element names: exprs, se.exprs \n",
       "protocolData\n",
       "  sampleNames: GSM330151.CEL GSM330153.CEL ... GSM331663.CEL (12 total)\n",
       "  varLabels: ScanDate\n",
       "  varMetadata: labelDescription\n",
       "phenoData\n",
       "  sampleNames: GSM330151.CEL GSM330153.CEL ... GSM331663.CEL (12 total)\n",
       "  varLabels: Project Tissue ... Subtype (5 total)\n",
       "  varMetadata: labelDescription\n",
       "featureData: none\n",
       "experimentData: use 'experimentData(object)'\n",
       "Annotation: genemapperhgu133plus2 "
      ]
     },
     "metadata": {},
     "output_type": "display_data"
    }
   ],
   "source": [
    "## The `eset` has annotation of `hgu133a2`\n",
    "\n",
    "library(leukemiasEset)\n",
    "data(leukemiasEset)\n",
    "pheno <- pData(leukemiasEset)\n",
    "mydata <- leukemiasEset[, sampleNames(leukemiasEset)[c(1:3, 13:15, 25:27, 49:51)]]\n",
    "mydata\n",
    "design <- model.matrix(~0 + factor(pData(mydata)$LeukemiaType))\n",
    "colnames(design) <- unique(as.character(pData(mydata)$LeukemiaType))\n",
    "library(limma)\n",
    "fit <- lmFit(mydata, design)\n",
    "contrast.matrix <- makeContrasts(NoL- ALL, NoL- AML, NoL- CLL, levels = design)\n",
    "fit2 <- contrasts.fit(fit, contrast.matrix)\n",
    "fit2 <- eBayes(fit2)\n",
    "tested2 <- topTable(fit2,adjust=\"fdr\",sort.by=\"B\",number=Inf, coef=1)\n",
    "DE2 <- tested2[tested2$adj.P.Val < 0.01,]"
   ]
  },
  {
   "cell_type": "code",
   "execution_count": 75,
   "metadata": {},
   "outputs": [
    {
     "data": {
      "text/html": [
       "'D:/R-3.6.2/library/Biobase/extdata'"
      ],
      "text/latex": [
       "'D:/R-3.6.2/library/Biobase/extdata'"
      ],
      "text/markdown": [
       "'D:/R-3.6.2/library/Biobase/extdata'"
      ],
      "text/plain": [
       "[1] \"D:/R-3.6.2/library/Biobase/extdata\""
      ]
     },
     "metadata": {},
     "output_type": "display_data"
    },
    {
     "data": {
      "text/html": [
       "'D:/R-3.6.2/library/Biobase/extdata/exprsData.txt'"
      ],
      "text/latex": [
       "'D:/R-3.6.2/library/Biobase/extdata/exprsData.txt'"
      ],
      "text/markdown": [
       "'D:/R-3.6.2/library/Biobase/extdata/exprsData.txt'"
      ],
      "text/plain": [
       "[1] \"D:/R-3.6.2/library/Biobase/extdata/exprsData.txt\""
      ]
     },
     "metadata": {},
     "output_type": "display_data"
    },
    {
     "data": {
      "text/html": [
       "'D:/R-3.6.2/library/Biobase/extdata/pData.txt'"
      ],
      "text/latex": [
       "'D:/R-3.6.2/library/Biobase/extdata/pData.txt'"
      ],
      "text/markdown": [
       "'D:/R-3.6.2/library/Biobase/extdata/pData.txt'"
      ],
      "text/plain": [
       "[1] \"D:/R-3.6.2/library/Biobase/extdata/pData.txt\""
      ]
     },
     "metadata": {},
     "output_type": "display_data"
    },
    {
     "data": {
      "text/plain": [
       "ExpressionSet (storageMode: lockedEnvironment)\n",
       "assayData: 500 features, 26 samples \n",
       "  element names: exprs \n",
       "protocolData: none\n",
       "phenoData\n",
       "  sampleNames: A B ... Z (26 total)\n",
       "  varLabels: gender type score\n",
       "  varMetadata: labelDescription\n",
       "featureData: none\n",
       "experimentData: use 'experimentData(object)'\n",
       "Annotation: hgu133a2 "
      ]
     },
     "metadata": {},
     "output_type": "display_data"
    }
   ],
   "source": [
    "library(affy)\n",
    "library(affydata)\n",
    "library(hgu133a2cdf)\n",
    "mydata <- ReadAffy(celfile.path= \"F:/GSE24460_RAW/\")\n",
    "# mydata <- ReadAffy(filenames=\"F:/GSE24460_RAW/GSM602658_MCF71.CEL\")\n",
    "library(Biobase)\n",
    "DIR <- system.file(\"extdata\", package=\"Biobase\")\n",
    "exprsLoc <- file.path(DIR, \"exprsData.txt\") \n",
    "pDataLoc <- file.path(DIR, \"pData.txt\")\n",
    "DIR\n",
    "exprsLoc\n",
    "pDataLoc\n",
    "exprs <- as.matrix(read.csv(exprsLoc, header = TRUE, sep = \"\\t\", row.names = 1, as.is = TRUE))\n",
    "pData <- read.table(pDataLoc, row.names = 1, header = TRUE, sep = \"\\t\")\n",
    "pData <- new(\"AnnotatedDataFrame\", data = pData)\n",
    "exData <- new(\"MIAME\", name=\"ABCabc\", lab=\"XYZ Lab\", contact=\"abc@xyz\", title=\"\", abstract=\"\", url=\"www.xyz\")\n",
    "eset <- new(\"ExpressionSet\", exprs = exprs, phenoData = pData, experimentData = exData, annotation = \"hgu133a2\")\n",
    "eset"
   ]
  },
  {
   "cell_type": "code",
   "execution_count": 76,
   "metadata": {},
   "outputs": [
    {
     "name": "stderr",
     "output_type": "stream",
     "text": [
      "Bioconductor version 3.9 (BiocManager 1.30.10), R 3.6.2 (2019-12-12)\n",
      "\n",
      "Installing package(s) 'WGCNA', 'RBGL'\n",
      "\n",
      "also installing the dependencies 'pcaPP', 'fit.models', 'rrcov', 'dynamicTreeCut', 'fastcluster', 'robust'\n",
      "\n",
      "\n"
     ]
    },
    {
     "name": "stdout",
     "output_type": "stream",
     "text": [
      "package 'pcaPP' successfully unpacked and MD5 sums checked\n",
      "package 'fit.models' successfully unpacked and MD5 sums checked\n",
      "package 'rrcov' successfully unpacked and MD5 sums checked\n",
      "package 'dynamicTreeCut' successfully unpacked and MD5 sums checked\n",
      "package 'fastcluster' successfully unpacked and MD5 sums checked\n",
      "package 'robust' successfully unpacked and MD5 sums checked\n",
      "package 'WGCNA' successfully unpacked and MD5 sums checked\n",
      "package 'RBGL' successfully unpacked and MD5 sums checked\n"
     ]
    },
    {
     "name": "stderr",
     "output_type": "stream",
     "text": [
      "Warning message:\n",
      "\"cannot remove prior installation of package 'RBGL'\"\n",
      "Warning message in file.copy(savedcopy, lib, recursive = TRUE):\n",
      "\"problem copying D:\\R-3.6.2\\library\\00LOCK\\RBGL\\libs\\x64\\RBGL.dll to D:\\R-3.6.2\\library\\RBGL\\libs\\x64\\RBGL.dll: Permission denied\"\n",
      "Warning message:\n",
      "\"restored 'RBGL'\"\n"
     ]
    },
    {
     "name": "stdout",
     "output_type": "stream",
     "text": [
      "\n",
      "The downloaded binary packages are in\n",
      "\tC:\\Users\\Master\\AppData\\Local\\Temp\\RtmpMnMXFB\\downloaded_packages\n"
     ]
    },
    {
     "name": "stderr",
     "output_type": "stream",
     "text": [
      "Old packages: 'BH', 'bit', 'caTools', 'cli', 'FactoMineR', 'fansi', 'farver',\n",
      "  'GetoptLong', 'ggridges', 'gplots', 'hms', 'knitr', 'leaps', 'multcomp',\n",
      "  'mvtnorm', 'PMA', 'precrec', 'prettyunits', 'pROC', 'RCurl', 'RSQLite',\n",
      "  'Rttf2pt1', 'shinyjs', 'stringi', 'tinytex', 'xfun', 'XML', 'xts', 'zoo'\n",
      "\n",
      "Loading required package: dynamicTreeCut\n",
      "\n",
      "Loading required package: fastcluster\n",
      "\n",
      "\n",
      "Attaching package: 'fastcluster'\n",
      "\n",
      "\n",
      "The following object is masked from 'package:stats':\n",
      "\n",
      "    hclust\n",
      "\n",
      "\n",
      "\n",
      "Attaching package: 'WGCNA'\n",
      "\n",
      "\n",
      "The following object is masked from 'package:IRanges':\n",
      "\n",
      "    cor\n",
      "\n",
      "\n",
      "The following object is masked from 'package:S4Vectors':\n",
      "\n",
      "    cor\n",
      "\n",
      "\n",
      "The following object is masked from 'package:stats':\n",
      "\n",
      "    cor\n",
      "\n",
      "\n",
      "\n",
      "Attaching package: 'RBGL'\n",
      "\n",
      "\n",
      "The following object is masked from 'package:e1071':\n",
      "\n",
      "    extractPath\n",
      "\n",
      "\n"
     ]
    }
   ],
   "source": [
    "BiocManager::install(c(\"WGCNA\", \"RBGL\"))\n",
    "library(WGCNA)\n",
    "library(RBGL)"
   ]
  },
  {
   "cell_type": "code",
   "execution_count": 77,
   "metadata": {},
   "outputs": [
    {
     "data": {
      "text/html": [
       "<ol class=list-inline>\n",
       "\t<li>'ENSG00000152078'</li>\n",
       "\t<li>'ENSG00000117519'</li>\n",
       "\t<li>'ENSG00000145850'</li>\n",
       "\t<li>'ENSG00000170180'</li>\n",
       "\t<li>'ENSG00000087586'</li>\n",
       "\t<li>'ENSG00000047597'</li>\n",
       "\t<li>'ENSG00000175449'</li>\n",
       "\t<li>'ENSG00000104043'</li>\n",
       "\t<li>'ENSG00000024526'</li>\n",
       "\t<li>'ENSG00000115641'</li>\n",
       "\t<li>'ENSG00000188672'</li>\n",
       "\t<li>'ENSG00000133063'</li>\n",
       "\t<li>'ENSG00000164330'</li>\n",
       "\t<li>'ENSG00000173372'</li>\n",
       "\t<li>'ENSG00000234955'</li>\n",
       "\t<li>'ENSG00000102935'</li>\n",
       "\t<li>'ENSG00000159189'</li>\n",
       "\t<li>'ENSG00000107562'</li>\n",
       "\t<li>'ENSG00000086506'</li>\n",
       "\t<li>'ENSG00000130635'</li>\n",
       "\t<li>'ENSG00000066923'</li>\n",
       "\t<li>'ENSG00000162692'</li>\n",
       "\t<li>'ENSG00000198336'</li>\n",
       "\t<li>'ENSG00000109501'</li>\n",
       "\t<li>'ENSG00000168497'</li>\n",
       "</ol>\n"
      ],
      "text/latex": [
       "\\begin{enumerate*}\n",
       "\\item 'ENSG00000152078'\n",
       "\\item 'ENSG00000117519'\n",
       "\\item 'ENSG00000145850'\n",
       "\\item 'ENSG00000170180'\n",
       "\\item 'ENSG00000087586'\n",
       "\\item 'ENSG00000047597'\n",
       "\\item 'ENSG00000175449'\n",
       "\\item 'ENSG00000104043'\n",
       "\\item 'ENSG00000024526'\n",
       "\\item 'ENSG00000115641'\n",
       "\\item 'ENSG00000188672'\n",
       "\\item 'ENSG00000133063'\n",
       "\\item 'ENSG00000164330'\n",
       "\\item 'ENSG00000173372'\n",
       "\\item 'ENSG00000234955'\n",
       "\\item 'ENSG00000102935'\n",
       "\\item 'ENSG00000159189'\n",
       "\\item 'ENSG00000107562'\n",
       "\\item 'ENSG00000086506'\n",
       "\\item 'ENSG00000130635'\n",
       "\\item 'ENSG00000066923'\n",
       "\\item 'ENSG00000162692'\n",
       "\\item 'ENSG00000198336'\n",
       "\\item 'ENSG00000109501'\n",
       "\\item 'ENSG00000168497'\n",
       "\\end{enumerate*}\n"
      ],
      "text/markdown": [
       "1. 'ENSG00000152078'\n",
       "2. 'ENSG00000117519'\n",
       "3. 'ENSG00000145850'\n",
       "4. 'ENSG00000170180'\n",
       "5. 'ENSG00000087586'\n",
       "6. 'ENSG00000047597'\n",
       "7. 'ENSG00000175449'\n",
       "8. 'ENSG00000104043'\n",
       "9. 'ENSG00000024526'\n",
       "10. 'ENSG00000115641'\n",
       "11. 'ENSG00000188672'\n",
       "12. 'ENSG00000133063'\n",
       "13. 'ENSG00000164330'\n",
       "14. 'ENSG00000173372'\n",
       "15. 'ENSG00000234955'\n",
       "16. 'ENSG00000102935'\n",
       "17. 'ENSG00000159189'\n",
       "18. 'ENSG00000107562'\n",
       "19. 'ENSG00000086506'\n",
       "20. 'ENSG00000130635'\n",
       "21. 'ENSG00000066923'\n",
       "22. 'ENSG00000162692'\n",
       "23. 'ENSG00000198336'\n",
       "24. 'ENSG00000109501'\n",
       "25. 'ENSG00000168497'\n",
       "\n",
       "\n"
      ],
      "text/plain": [
       " [1] \"ENSG00000152078\" \"ENSG00000117519\" \"ENSG00000145850\" \"ENSG00000170180\"\n",
       " [5] \"ENSG00000087586\" \"ENSG00000047597\" \"ENSG00000175449\" \"ENSG00000104043\"\n",
       " [9] \"ENSG00000024526\" \"ENSG00000115641\" \"ENSG00000188672\" \"ENSG00000133063\"\n",
       "[13] \"ENSG00000164330\" \"ENSG00000173372\" \"ENSG00000234955\" \"ENSG00000102935\"\n",
       "[17] \"ENSG00000159189\" \"ENSG00000107562\" \"ENSG00000086506\" \"ENSG00000130635\"\n",
       "[21] \"ENSG00000066923\" \"ENSG00000162692\" \"ENSG00000198336\" \"ENSG00000109501\"\n",
       "[25] \"ENSG00000168497\""
      ]
     },
     "metadata": {},
     "output_type": "display_data"
    },
    {
     "data": {
      "text/plain": [
       "ExpressionSet (storageMode: lockedEnvironment)\n",
       "assayData: 25 features, 3 samples \n",
       "  element names: exprs \n",
       "protocolData: none\n",
       "phenoData\n",
       "  sampleNames: A B C\n",
       "  varLabels: gender type score\n",
       "  varMetadata: labelDescription\n",
       "featureData: none\n",
       "experimentData: use 'experimentData(object)'\n",
       "Annotation: hgu133a2 "
      ]
     },
     "metadata": {},
     "output_type": "display_data"
    }
   ],
   "source": [
    "## Take the dataset, and use only significant genes at this stage to reduce the noise and simultaneously consume less time. \n",
    "## Only 50 genes have been used.\n",
    "\n",
    "a <- rownames(DE2)[1:25]\n",
    "a\n",
    "eset[1:25, 1:3]"
   ]
  },
  {
   "cell_type": "code",
   "execution_count": 78,
   "metadata": {},
   "outputs": [
    {
     "data": {
      "text/html": [
       "<table>\n",
       "<caption>A matrix: 25 × 3 of type dbl</caption>\n",
       "<thead>\n",
       "\t<tr><th></th><th scope=col>A</th><th scope=col>B</th><th scope=col>C</th></tr>\n",
       "</thead>\n",
       "<tbody>\n",
       "\t<tr><th scope=row>AFFX-MurIL2_at</th><td> 192.7420</td><td>  85.75330</td><td> 176.7570</td></tr>\n",
       "\t<tr><th scope=row>AFFX-MurIL10_at</th><td>  97.1370</td><td> 126.19600</td><td>  77.9216</td></tr>\n",
       "\t<tr><th scope=row>AFFX-MurIL4_at</th><td>  45.8192</td><td>   8.83135</td><td>  33.0632</td></tr>\n",
       "\t<tr><th scope=row>AFFX-MurFAS_at</th><td>  22.5445</td><td>   3.60093</td><td>  14.6883</td></tr>\n",
       "\t<tr><th scope=row>AFFX-BioB-5_at</th><td>  96.7875</td><td>  30.43800</td><td>  46.1271</td></tr>\n",
       "\t<tr><th scope=row>AFFX-BioB-M_at</th><td>  89.0730</td><td>  25.84610</td><td>  57.2033</td></tr>\n",
       "\t<tr><th scope=row>AFFX-BioB-3_at</th><td> 265.9640</td><td> 181.08000</td><td> 164.9260</td></tr>\n",
       "\t<tr><th scope=row>AFFX-BioC-5_at</th><td> 110.1360</td><td>  57.28890</td><td>  67.3980</td></tr>\n",
       "\t<tr><th scope=row>AFFX-BioC-3_at</th><td>  43.0794</td><td>  16.80060</td><td>  37.6002</td></tr>\n",
       "\t<tr><th scope=row>AFFX-BioDn-5_at</th><td>  10.9187</td><td>  16.17890</td><td>  10.1495</td></tr>\n",
       "\t<tr><th scope=row>AFFX-BioDn-3_at</th><td> 751.2270</td><td> 515.00400</td><td> 622.9010</td></tr>\n",
       "\t<tr><th scope=row>AFFX-CreX-5_at</th><td>  76.9437</td><td>  40.90700</td><td>  62.0314</td></tr>\n",
       "\t<tr><th scope=row>AFFX-CreX-3_at</th><td> 105.3780</td><td>  97.49320</td><td>  74.0299</td></tr>\n",
       "\t<tr><th scope=row>AFFX-BioB-5_st</th><td>  40.4826</td><td>   7.45801</td><td>  19.4069</td></tr>\n",
       "\t<tr><th scope=row>AFFX-BioB-M_st</th><td>  58.1706</td><td>  15.79260</td><td>  25.1962</td></tr>\n",
       "\t<tr><th scope=row>AFFX-BioB-3_st</th><td> 257.6190</td><td> 113.69000</td><td> 187.7960</td></tr>\n",
       "\t<tr><th scope=row>AFFX-BioC-5_st</th><td> 129.0560</td><td>  74.60950</td><td>  82.8271</td></tr>\n",
       "\t<tr><th scope=row>AFFX-BioC-3_st</th><td>  61.7251</td><td>  50.23720</td><td>  61.6710</td></tr>\n",
       "\t<tr><th scope=row>AFFX-BioDn-5_st</th><td> -40.9349</td><td> -83.93020</td><td> -28.7050</td></tr>\n",
       "\t<tr><th scope=row>AFFX-BioDn-3_st</th><td> 284.4070</td><td> 208.09900</td><td> 239.0390</td></tr>\n",
       "\t<tr><th scope=row>AFFX-CreX-5_st</th><td> 178.7450</td><td> 101.30000</td><td> 118.6990</td></tr>\n",
       "\t<tr><th scope=row>AFFX-CreX-3_st</th><td>  79.7368</td><td>  55.56320</td><td>  68.5976</td></tr>\n",
       "\t<tr><th scope=row>AFFX-hum_alu_at</th><td>9903.1900</td><td>8501.62000</td><td>9453.0000</td></tr>\n",
       "\t<tr><th scope=row>AFFX-DapX-5_at</th><td>  61.2671</td><td>  37.47400</td><td>  44.7525</td></tr>\n",
       "\t<tr><th scope=row>AFFX-DapX-M_at</th><td> 120.5440</td><td>  75.98540</td><td> 126.3740</td></tr>\n",
       "</tbody>\n",
       "</table>\n"
      ],
      "text/latex": [
       "A matrix: 25 × 3 of type dbl\n",
       "\\begin{tabular}{r|lll}\n",
       "  & A & B & C\\\\\n",
       "\\hline\n",
       "\tAFFX-MurIL2\\_at &  192.7420 &   85.75330 &  176.7570\\\\\n",
       "\tAFFX-MurIL10\\_at &   97.1370 &  126.19600 &   77.9216\\\\\n",
       "\tAFFX-MurIL4\\_at &   45.8192 &    8.83135 &   33.0632\\\\\n",
       "\tAFFX-MurFAS\\_at &   22.5445 &    3.60093 &   14.6883\\\\\n",
       "\tAFFX-BioB-5\\_at &   96.7875 &   30.43800 &   46.1271\\\\\n",
       "\tAFFX-BioB-M\\_at &   89.0730 &   25.84610 &   57.2033\\\\\n",
       "\tAFFX-BioB-3\\_at &  265.9640 &  181.08000 &  164.9260\\\\\n",
       "\tAFFX-BioC-5\\_at &  110.1360 &   57.28890 &   67.3980\\\\\n",
       "\tAFFX-BioC-3\\_at &   43.0794 &   16.80060 &   37.6002\\\\\n",
       "\tAFFX-BioDn-5\\_at &   10.9187 &   16.17890 &   10.1495\\\\\n",
       "\tAFFX-BioDn-3\\_at &  751.2270 &  515.00400 &  622.9010\\\\\n",
       "\tAFFX-CreX-5\\_at &   76.9437 &   40.90700 &   62.0314\\\\\n",
       "\tAFFX-CreX-3\\_at &  105.3780 &   97.49320 &   74.0299\\\\\n",
       "\tAFFX-BioB-5\\_st &   40.4826 &    7.45801 &   19.4069\\\\\n",
       "\tAFFX-BioB-M\\_st &   58.1706 &   15.79260 &   25.1962\\\\\n",
       "\tAFFX-BioB-3\\_st &  257.6190 &  113.69000 &  187.7960\\\\\n",
       "\tAFFX-BioC-5\\_st &  129.0560 &   74.60950 &   82.8271\\\\\n",
       "\tAFFX-BioC-3\\_st &   61.7251 &   50.23720 &   61.6710\\\\\n",
       "\tAFFX-BioDn-5\\_st &  -40.9349 &  -83.93020 &  -28.7050\\\\\n",
       "\tAFFX-BioDn-3\\_st &  284.4070 &  208.09900 &  239.0390\\\\\n",
       "\tAFFX-CreX-5\\_st &  178.7450 &  101.30000 &  118.6990\\\\\n",
       "\tAFFX-CreX-3\\_st &   79.7368 &   55.56320 &   68.5976\\\\\n",
       "\tAFFX-hum\\_alu\\_at & 9903.1900 & 8501.62000 & 9453.0000\\\\\n",
       "\tAFFX-DapX-5\\_at &   61.2671 &   37.47400 &   44.7525\\\\\n",
       "\tAFFX-DapX-M\\_at &  120.5440 &   75.98540 &  126.3740\\\\\n",
       "\\end{tabular}\n"
      ],
      "text/markdown": [
       "\n",
       "A matrix: 25 × 3 of type dbl\n",
       "\n",
       "| <!--/--> | A | B | C |\n",
       "|---|---|---|---|\n",
       "| AFFX-MurIL2_at |  192.7420 |   85.75330 |  176.7570 |\n",
       "| AFFX-MurIL10_at |   97.1370 |  126.19600 |   77.9216 |\n",
       "| AFFX-MurIL4_at |   45.8192 |    8.83135 |   33.0632 |\n",
       "| AFFX-MurFAS_at |   22.5445 |    3.60093 |   14.6883 |\n",
       "| AFFX-BioB-5_at |   96.7875 |   30.43800 |   46.1271 |\n",
       "| AFFX-BioB-M_at |   89.0730 |   25.84610 |   57.2033 |\n",
       "| AFFX-BioB-3_at |  265.9640 |  181.08000 |  164.9260 |\n",
       "| AFFX-BioC-5_at |  110.1360 |   57.28890 |   67.3980 |\n",
       "| AFFX-BioC-3_at |   43.0794 |   16.80060 |   37.6002 |\n",
       "| AFFX-BioDn-5_at |   10.9187 |   16.17890 |   10.1495 |\n",
       "| AFFX-BioDn-3_at |  751.2270 |  515.00400 |  622.9010 |\n",
       "| AFFX-CreX-5_at |   76.9437 |   40.90700 |   62.0314 |\n",
       "| AFFX-CreX-3_at |  105.3780 |   97.49320 |   74.0299 |\n",
       "| AFFX-BioB-5_st |   40.4826 |    7.45801 |   19.4069 |\n",
       "| AFFX-BioB-M_st |   58.1706 |   15.79260 |   25.1962 |\n",
       "| AFFX-BioB-3_st |  257.6190 |  113.69000 |  187.7960 |\n",
       "| AFFX-BioC-5_st |  129.0560 |   74.60950 |   82.8271 |\n",
       "| AFFX-BioC-3_st |   61.7251 |   50.23720 |   61.6710 |\n",
       "| AFFX-BioDn-5_st |  -40.9349 |  -83.93020 |  -28.7050 |\n",
       "| AFFX-BioDn-3_st |  284.4070 |  208.09900 |  239.0390 |\n",
       "| AFFX-CreX-5_st |  178.7450 |  101.30000 |  118.6990 |\n",
       "| AFFX-CreX-3_st |   79.7368 |   55.56320 |   68.5976 |\n",
       "| AFFX-hum_alu_at | 9903.1900 | 8501.62000 | 9453.0000 |\n",
       "| AFFX-DapX-5_at |   61.2671 |   37.47400 |   44.7525 |\n",
       "| AFFX-DapX-M_at |  120.5440 |   75.98540 |  126.3740 |\n",
       "\n"
      ],
      "text/plain": [
       "                A         B          C        \n",
       "AFFX-MurIL2_at   192.7420   85.75330  176.7570\n",
       "AFFX-MurIL10_at   97.1370  126.19600   77.9216\n",
       "AFFX-MurIL4_at    45.8192    8.83135   33.0632\n",
       "AFFX-MurFAS_at    22.5445    3.60093   14.6883\n",
       "AFFX-BioB-5_at    96.7875   30.43800   46.1271\n",
       "AFFX-BioB-M_at    89.0730   25.84610   57.2033\n",
       "AFFX-BioB-3_at   265.9640  181.08000  164.9260\n",
       "AFFX-BioC-5_at   110.1360   57.28890   67.3980\n",
       "AFFX-BioC-3_at    43.0794   16.80060   37.6002\n",
       "AFFX-BioDn-5_at   10.9187   16.17890   10.1495\n",
       "AFFX-BioDn-3_at  751.2270  515.00400  622.9010\n",
       "AFFX-CreX-5_at    76.9437   40.90700   62.0314\n",
       "AFFX-CreX-3_at   105.3780   97.49320   74.0299\n",
       "AFFX-BioB-5_st    40.4826    7.45801   19.4069\n",
       "AFFX-BioB-M_st    58.1706   15.79260   25.1962\n",
       "AFFX-BioB-3_st   257.6190  113.69000  187.7960\n",
       "AFFX-BioC-5_st   129.0560   74.60950   82.8271\n",
       "AFFX-BioC-3_st    61.7251   50.23720   61.6710\n",
       "AFFX-BioDn-5_st  -40.9349  -83.93020  -28.7050\n",
       "AFFX-BioDn-3_st  284.4070  208.09900  239.0390\n",
       "AFFX-CreX-5_st   178.7450  101.30000  118.6990\n",
       "AFFX-CreX-3_st    79.7368   55.56320   68.5976\n",
       "AFFX-hum_alu_at 9903.1900 8501.62000 9453.0000\n",
       "AFFX-DapX-5_at    61.2671   37.47400   44.7525\n",
       "AFFX-DapX-M_at   120.5440   75.98540  126.3740"
      ]
     },
     "metadata": {},
     "output_type": "display_data"
    }
   ],
   "source": [
    "myData_Sel <- exprs(eset[1:25, 1:3])\n",
    "myData_Sel"
   ]
  },
  {
   "cell_type": "code",
   "execution_count": 79,
   "metadata": {},
   "outputs": [
    {
     "data": {
      "text/html": [
       "<table>\n",
       "<caption>A matrix: 3 × 25 of type dbl</caption>\n",
       "<thead>\n",
       "\t<tr><th></th><th scope=col>AFFX-MurIL2_at</th><th scope=col>AFFX-MurIL10_at</th><th scope=col>AFFX-MurIL4_at</th><th scope=col>AFFX-MurFAS_at</th><th scope=col>AFFX-BioB-5_at</th><th scope=col>AFFX-BioB-M_at</th><th scope=col>AFFX-BioB-3_at</th><th scope=col>AFFX-BioC-5_at</th><th scope=col>AFFX-BioC-3_at</th><th scope=col>AFFX-BioDn-5_at</th><th scope=col>...</th><th scope=col>AFFX-BioB-3_st</th><th scope=col>AFFX-BioC-5_st</th><th scope=col>AFFX-BioC-3_st</th><th scope=col>AFFX-BioDn-5_st</th><th scope=col>AFFX-BioDn-3_st</th><th scope=col>AFFX-CreX-5_st</th><th scope=col>AFFX-CreX-3_st</th><th scope=col>AFFX-hum_alu_at</th><th scope=col>AFFX-DapX-5_at</th><th scope=col>AFFX-DapX-M_at</th></tr>\n",
       "</thead>\n",
       "<tbody>\n",
       "\t<tr><th scope=row>A</th><td>192.7420</td><td> 97.1370</td><td>45.81920</td><td>22.54450</td><td>96.7875</td><td>89.0730</td><td>265.964</td><td>110.1360</td><td>43.0794</td><td>10.9187</td><td>...</td><td>257.619</td><td>129.0560</td><td>61.7251</td><td>-40.9349</td><td>284.407</td><td>178.745</td><td>79.7368</td><td>9903.19</td><td>61.2671</td><td>120.5440</td></tr>\n",
       "\t<tr><th scope=row>B</th><td> 85.7533</td><td>126.1960</td><td> 8.83135</td><td> 3.60093</td><td>30.4380</td><td>25.8461</td><td>181.080</td><td> 57.2889</td><td>16.8006</td><td>16.1789</td><td>...</td><td>113.690</td><td> 74.6095</td><td>50.2372</td><td>-83.9302</td><td>208.099</td><td>101.300</td><td>55.5632</td><td>8501.62</td><td>37.4740</td><td> 75.9854</td></tr>\n",
       "\t<tr><th scope=row>C</th><td>176.7570</td><td> 77.9216</td><td>33.06320</td><td>14.68830</td><td>46.1271</td><td>57.2033</td><td>164.926</td><td> 67.3980</td><td>37.6002</td><td>10.1495</td><td>...</td><td>187.796</td><td> 82.8271</td><td>61.6710</td><td>-28.7050</td><td>239.039</td><td>118.699</td><td>68.5976</td><td>9453.00</td><td>44.7525</td><td>126.3740</td></tr>\n",
       "</tbody>\n",
       "</table>\n"
      ],
      "text/latex": [
       "A matrix: 3 × 25 of type dbl\n",
       "\\begin{tabular}{r|lllllllllllllllllllll}\n",
       "  & AFFX-MurIL2\\_at & AFFX-MurIL10\\_at & AFFX-MurIL4\\_at & AFFX-MurFAS\\_at & AFFX-BioB-5\\_at & AFFX-BioB-M\\_at & AFFX-BioB-3\\_at & AFFX-BioC-5\\_at & AFFX-BioC-3\\_at & AFFX-BioDn-5\\_at & ... & AFFX-BioB-3\\_st & AFFX-BioC-5\\_st & AFFX-BioC-3\\_st & AFFX-BioDn-5\\_st & AFFX-BioDn-3\\_st & AFFX-CreX-5\\_st & AFFX-CreX-3\\_st & AFFX-hum\\_alu\\_at & AFFX-DapX-5\\_at & AFFX-DapX-M\\_at\\\\\n",
       "\\hline\n",
       "\tA & 192.7420 &  97.1370 & 45.81920 & 22.54450 & 96.7875 & 89.0730 & 265.964 & 110.1360 & 43.0794 & 10.9187 & ... & 257.619 & 129.0560 & 61.7251 & -40.9349 & 284.407 & 178.745 & 79.7368 & 9903.19 & 61.2671 & 120.5440\\\\\n",
       "\tB &  85.7533 & 126.1960 &  8.83135 &  3.60093 & 30.4380 & 25.8461 & 181.080 &  57.2889 & 16.8006 & 16.1789 & ... & 113.690 &  74.6095 & 50.2372 & -83.9302 & 208.099 & 101.300 & 55.5632 & 8501.62 & 37.4740 &  75.9854\\\\\n",
       "\tC & 176.7570 &  77.9216 & 33.06320 & 14.68830 & 46.1271 & 57.2033 & 164.926 &  67.3980 & 37.6002 & 10.1495 & ... & 187.796 &  82.8271 & 61.6710 & -28.7050 & 239.039 & 118.699 & 68.5976 & 9453.00 & 44.7525 & 126.3740\\\\\n",
       "\\end{tabular}\n"
      ],
      "text/markdown": [
       "\n",
       "A matrix: 3 × 25 of type dbl\n",
       "\n",
       "| <!--/--> | AFFX-MurIL2_at | AFFX-MurIL10_at | AFFX-MurIL4_at | AFFX-MurFAS_at | AFFX-BioB-5_at | AFFX-BioB-M_at | AFFX-BioB-3_at | AFFX-BioC-5_at | AFFX-BioC-3_at | AFFX-BioDn-5_at | ... | AFFX-BioB-3_st | AFFX-BioC-5_st | AFFX-BioC-3_st | AFFX-BioDn-5_st | AFFX-BioDn-3_st | AFFX-CreX-5_st | AFFX-CreX-3_st | AFFX-hum_alu_at | AFFX-DapX-5_at | AFFX-DapX-M_at |\n",
       "|---|---|---|---|---|---|---|---|---|---|---|---|---|---|---|---|---|---|---|---|---|---|\n",
       "| A | 192.7420 |  97.1370 | 45.81920 | 22.54450 | 96.7875 | 89.0730 | 265.964 | 110.1360 | 43.0794 | 10.9187 | ... | 257.619 | 129.0560 | 61.7251 | -40.9349 | 284.407 | 178.745 | 79.7368 | 9903.19 | 61.2671 | 120.5440 |\n",
       "| B |  85.7533 | 126.1960 |  8.83135 |  3.60093 | 30.4380 | 25.8461 | 181.080 |  57.2889 | 16.8006 | 16.1789 | ... | 113.690 |  74.6095 | 50.2372 | -83.9302 | 208.099 | 101.300 | 55.5632 | 8501.62 | 37.4740 |  75.9854 |\n",
       "| C | 176.7570 |  77.9216 | 33.06320 | 14.68830 | 46.1271 | 57.2033 | 164.926 |  67.3980 | 37.6002 | 10.1495 | ... | 187.796 |  82.8271 | 61.6710 | -28.7050 | 239.039 | 118.699 | 68.5976 | 9453.00 | 44.7525 | 126.3740 |\n",
       "\n"
      ],
      "text/plain": [
       "  AFFX-MurIL2_at AFFX-MurIL10_at AFFX-MurIL4_at AFFX-MurFAS_at AFFX-BioB-5_at\n",
       "A 192.7420        97.1370        45.81920       22.54450       96.7875       \n",
       "B  85.7533       126.1960         8.83135        3.60093       30.4380       \n",
       "C 176.7570        77.9216        33.06320       14.68830       46.1271       \n",
       "  AFFX-BioB-M_at AFFX-BioB-3_at AFFX-BioC-5_at AFFX-BioC-3_at AFFX-BioDn-5_at\n",
       "A 89.0730        265.964        110.1360       43.0794        10.9187        \n",
       "B 25.8461        181.080         57.2889       16.8006        16.1789        \n",
       "C 57.2033        164.926         67.3980       37.6002        10.1495        \n",
       "  ... AFFX-BioB-3_st AFFX-BioC-5_st AFFX-BioC-3_st AFFX-BioDn-5_st\n",
       "A ... 257.619        129.0560       61.7251        -40.9349       \n",
       "B ... 113.690         74.6095       50.2372        -83.9302       \n",
       "C ... 187.796         82.8271       61.6710        -28.7050       \n",
       "  AFFX-BioDn-3_st AFFX-CreX-5_st AFFX-CreX-3_st AFFX-hum_alu_at AFFX-DapX-5_at\n",
       "A 284.407         178.745        79.7368        9903.19         61.2671       \n",
       "B 208.099         101.300        55.5632        8501.62         37.4740       \n",
       "C 239.039         118.699        68.5976        9453.00         44.7525       \n",
       "  AFFX-DapX-M_at\n",
       "A 120.5440      \n",
       "B  75.9854      \n",
       "C 126.3740      "
      ]
     },
     "metadata": {},
     "output_type": "display_data"
    }
   ],
   "source": [
    "## The data has sample names in the columns and genes in the rows. So transpose the data.\n",
    "\n",
    "myData_Sel <- t(myData_Sel)\n",
    "myData_Sel"
   ]
  },
  {
   "cell_type": "code",
   "execution_count": 80,
   "metadata": {},
   "outputs": [
    {
     "data": {
      "text/html": [
       "<table>\n",
       "<caption>A matrix: 25 × 25 of type dbl</caption>\n",
       "<thead>\n",
       "\t<tr><th></th><th scope=col>AFFX-MurIL2_at</th><th scope=col>AFFX-MurIL10_at</th><th scope=col>AFFX-MurIL4_at</th><th scope=col>AFFX-MurFAS_at</th><th scope=col>AFFX-BioB-5_at</th><th scope=col>AFFX-BioB-M_at</th><th scope=col>AFFX-BioB-3_at</th><th scope=col>AFFX-BioC-5_at</th><th scope=col>AFFX-BioC-3_at</th><th scope=col>AFFX-BioDn-5_at</th><th scope=col>...</th><th scope=col>AFFX-BioB-3_st</th><th scope=col>AFFX-BioC-5_st</th><th scope=col>AFFX-BioC-3_st</th><th scope=col>AFFX-BioDn-5_st</th><th scope=col>AFFX-BioDn-3_st</th><th scope=col>AFFX-CreX-5_st</th><th scope=col>AFFX-CreX-3_st</th><th scope=col>AFFX-hum_alu_at</th><th scope=col>AFFX-DapX-5_at</th><th scope=col>AFFX-DapX-M_at</th></tr>\n",
       "</thead>\n",
       "<tbody>\n",
       "\t<tr><th scope=row>AFFX-MurIL2_at</th><td>1.000000e+00</td><td>1.455403e-07</td><td>9.373990e-01</td><td>8.837797e-01</td><td>4.928595e-01</td><td>7.954628e-01</td><td>0.171623608</td><td>0.444372324</td><td>9.946171e-01</td><td>1.907480e-11</td><td>...</td><td>8.156942e-01</td><td>0.4037651381</td><td>9.730722e-01</td><td>8.301657e-01</td><td>6.914793e-01</td><td>4.799091e-01</td><td>8.405878e-01</td><td>9.519479e-01</td><td>5.724229e-01</td><td>9.137639e-01</td></tr>\n",
       "\t<tr><th scope=row>AFFX-MurIL10_at</th><td>1.455403e-07</td><td>1.000000e+00</td><td>6.079850e-06</td><td>1.892503e-05</td><td>1.308513e-03</td><td>6.990998e-05</td><td>0.018894884</td><td>0.001935609</td><td>4.917313e-07</td><td>8.819052e-01</td><td>...</td><td>5.371687e-05</td><td>0.0026759431</td><td>5.137398e-09</td><td>6.808438e-13</td><td>2.235073e-04</td><td>1.453855e-03</td><td>3.789065e-05</td><td>4.043552e-06</td><td>6.722836e-04</td><td>1.263022e-10</td></tr>\n",
       "\t<tr><th scope=row>AFFX-MurIL4_at</th><td>9.373990e-01</td><td>6.079850e-06</td><td>1.000000e+00</td><td>9.906591e-01</td><td>7.130040e-01</td><td>9.514999e-01</td><td>0.326727380</td><td>0.663826782</td><td>9.678930e-01</td><td>2.172729e-08</td><td>...</td><td>9.622561e-01</td><td>0.6204134991</td><td>8.381323e-01</td><td>6.221678e-01</td><td>8.841767e-01</td><td>7.001490e-01</td><td>9.741780e-01</td><td>9.989593e-01</td><td>7.875276e-01</td><td>7.337988e-01</td></tr>\n",
       "\t<tr><th scope=row>AFFX-MurFAS_at</th><td>8.837797e-01</td><td>1.892503e-05</td><td>9.906591e-01</td><td>1.000000e+00</td><td>7.914758e-01</td><td>9.842539e-01</td><td>0.400524968</td><td>0.745604017</td><td>9.257679e-01</td><td>1.380911e-07</td><td>...</td><td>9.902084e-01</td><td>0.7040544782</td><td>7.646807e-01</td><td>5.374527e-01</td><td>9.377028e-01</td><td>7.796149e-01</td><td>9.958063e-01</td><td>9.834561e-01</td><td>8.581795e-01</td><td>6.513910e-01</td></tr>\n",
       "\t<tr><th scope=row>AFFX-BioB-5_at</th><td>4.928595e-01</td><td>1.308513e-03</td><td>7.130040e-01</td><td>7.914758e-01</td><td>1.000000e+00</td><td>8.805309e-01</td><td>0.806449161</td><td>0.996688741</td><td>5.564141e-01</td><td>7.140448e-05</td><td>...</td><td>8.631531e-01</td><td>0.9885134748</td><td>3.588041e-01</td><td>1.878861e-01</td><td>9.490007e-01</td><td>9.997686e-01</td><td>8.395418e-01</td><td>6.856132e-01</td><td>9.916117e-01</td><td>2.639864e-01</td></tr>\n",
       "\t<tr><th scope=row>AFFX-BioB-M_at</th><td>7.954628e-01</td><td>6.990998e-05</td><td>9.514999e-01</td><td>9.842539e-01</td><td>8.805309e-01</td><td>1.000000e+00</td><td>0.505217865</td><td>0.842040128</td><td>8.492020e-01</td><td>1.041157e-06</td><td>...</td><td>9.992835e-01</td><td>0.8056096836</td><td>6.590401e-01</td><td>4.306478e-01</td><td>9.838835e-01</td><td>8.707699e-01</td><td>9.962696e-01</td><td>9.368935e-01</td><td>9.324057e-01</td><td>5.413067e-01</td></tr>\n",
       "\t<tr><th scope=row>AFFX-BioB-3_at</th><td>1.716236e-01</td><td>1.889488e-02</td><td>3.267274e-01</td><td>4.005250e-01</td><td>8.064492e-01</td><td>5.052179e-01</td><td>1.000000000</td><td>0.848199089</td><td>2.102798e-01</td><td>2.694197e-03</td><td>...</td><td>4.823420e-01</td><td>0.8812318972</td><td>1.030196e-01</td><td>3.828800e-02</td><td>6.163032e-01</td><td>8.178186e-01</td><td>4.534161e-01</td><td>3.037795e-01</td><td>7.336065e-01</td><td>6.404777e-02</td></tr>\n",
       "\t<tr><th scope=row>AFFX-BioC-5_at</th><td>4.443723e-01</td><td>1.935609e-03</td><td>6.638268e-01</td><td>7.456040e-01</td><td>9.966887e-01</td><td>8.420401e-01</td><td>0.848199089</td><td>1.000000000</td><td>5.064631e-01</td><td>1.227810e-04</td><td>...</td><td>8.228123e-01</td><td>0.9975150007</td><td>3.164124e-01</td><td>1.594107e-01</td><td>9.211746e-01</td><td>9.982059e-01</td><td>7.970447e-01</td><td>6.357969e-01</td><td>9.779256e-01</td><td>2.283942e-01</td></tr>\n",
       "\t<tr><th scope=row>AFFX-BioC-3_at</th><td>9.946171e-01</td><td>4.917313e-07</td><td>9.678930e-01</td><td>9.257679e-01</td><td>5.564141e-01</td><td>8.492020e-01</td><td>0.210279772</td><td>0.506463052</td><td>1.000000e+00</td><td>2.336069e-10</td><td>...</td><td>8.672758e-01</td><td>0.4640452053</td><td>9.445672e-01</td><td>7.744525e-01</td><td>7.527638e-01</td><td>5.431469e-01</td><td>8.891232e-01</td><td>9.782344e-01</td><td>6.367208e-01</td><td>8.693896e-01</td></tr>\n",
       "\t<tr><th scope=row>AFFX-BioDn-5_at</th><td>1.907480e-11</td><td>8.819052e-01</td><td>2.172729e-08</td><td>1.380911e-07</td><td>7.140448e-05</td><td>1.041157e-06</td><td>0.002694197</td><td>0.000122781</td><td>2.336069e-10</td><td>1.000000e+00</td><td>...</td><td>6.984189e-07</td><td>0.0001916592</td><td>2.521861e-15</td><td>1.304229e-16</td><td>5.811910e-06</td><td>8.264866e-05</td><td>4.090860e-07</td><td>1.089949e-08</td><td>2.810378e-05</td><td>1.324426e-27</td></tr>\n",
       "\t<tr><th scope=row>AFFX-BioDn-3_at</th><td>7.516318e-01</td><td>1.179275e-04</td><td>9.253768e-01</td><td>9.676273e-01</td><td>9.133420e-01</td><td>9.969386e-01</td><td>0.553212017</td><td>0.879126270</td><td>8.092112e-01</td><td>2.274845e-06</td><td>...</td><td>9.932743e-01</td><td>0.8458843696</td><td>6.107672e-01</td><td>3.862265e-01</td><td>9.948189e-01</td><td>9.047693e-01</td><td>9.865143e-01</td><td>9.078824e-01</td><td>9.572388e-01</td><td>4.935131e-01</td></tr>\n",
       "\t<tr><th scope=row>AFFX-CreX-5_at</th><td>8.845720e-01</td><td>1.866003e-05</td><td>9.909015e-01</td><td>9.999984e-01</td><td>7.904930e-01</td><td>9.839371e-01</td><td>0.399513629</td><td>0.744564251</td><td>9.264220e-01</td><td>1.350341e-07</td><td>...</td><td>9.899571e-01</td><td>0.7029786262</td><td>7.656979e-01</td><td>5.385575e-01</td><td>9.370955e-01</td><td>7.786154e-01</td><td>9.956406e-01</td><td>9.837776e-01</td><td>8.573202e-01</td><td>6.524941e-01</td></tr>\n",
       "\t<tr><th scope=row>AFFX-CreX-3_at</th><td>6.320865e-03</td><td>2.966397e-01</td><td>2.304297e-02</td><td>3.530305e-02</td><td>1.880222e-01</td><td>5.855607e-02</td><td>0.520685249</td><td>0.219665783</td><td>9.449321e-03</td><td>1.110234e-01</td><td>...</td><td>5.281722e-02</td><td>0.2496153439</td><td>2.328743e-03</td><td>3.376555e-04</td><td>9.276726e-02</td><td>1.960743e-01</td><td>4.610953e-02</td><td>1.983716e-02</td><td>1.440959e-01</td><td>9.233380e-04</td></tr>\n",
       "\t<tr><th scope=row>AFFX-BioB-5_st</th><td>6.391427e-01</td><td>3.703120e-04</td><td>8.439924e-01</td><td>9.058586e-01</td><td>9.721459e-01</td><td>9.652202e-01</td><td>0.669042109</td><td>0.950310301</td><td>7.024019e-01</td><td>1.204001e-05</td><td>...</td><td>9.548422e-01</td><td>0.9267714474</td><td>4.952990e-01</td><td>2.888861e-01</td><td>9.963321e-01</td><td>9.669563e-01</td><td>9.396947e-01</td><td>8.208199e-01</td><td>9.942034e-01</td><td>3.844246e-01</td></tr>\n",
       "\t<tr><th scope=row>AFFX-BioB-M_st</th><td>4.769028e-01</td><td>1.489708e-03</td><td>6.971358e-01</td><td>7.768210e-01</td><td>9.996481e-01</td><td>8.684503e-01</td><td>0.820436198</td><td>0.998493467</td><td>5.400593e-01</td><td>8.548812e-05</td><td>...</td><td>8.504354e-01</td><td>0.9921602490</td><td>3.447051e-01</td><td>1.782646e-01</td><td>9.405370e-01</td><td>9.999874e-01</td><td>8.260759e-01</td><td>6.694920e-01</td><td>9.878533e-01</td><td>2.520524e-01</td></tr>\n",
       "\t<tr><th scope=row>AFFX-BioB-3_st</th><td>8.156942e-01</td><td>5.371687e-05</td><td>9.622561e-01</td><td>9.902084e-01</td><td>8.631531e-01</td><td>9.992835e-01</td><td>0.482342009</td><td>0.822812327</td><td>8.672758e-01</td><td>6.984189e-07</td><td>...</td><td>1.000000e+00</td><td>0.7850410401</td><td>6.821172e-01</td><td>4.527724e-01</td><td>9.764847e-01</td><td>8.528730e-01</td><td>9.988201e-01</td><td>9.491369e-01</td><td>9.185866e-01</td><td>5.646676e-01</td></tr>\n",
       "\t<tr><th scope=row>AFFX-BioC-5_st</th><td>4.037651e-01</td><td>2.675943e-03</td><td>6.204135e-01</td><td>7.040545e-01</td><td>9.885135e-01</td><td>8.056097e-01</td><td>0.881231897</td><td>0.997515001</td><td>4.640452e-01</td><td>1.916592e-04</td><td>...</td><td>7.850410e-01</td><td>1.0000000000</td><td>2.819303e-01</td><td>1.372580e-01</td><td>8.928695e-01</td><td>9.915233e-01</td><td>7.577506e-01</td><td>5.921533e-01</td><td>9.610399e-01</td><td>2.000940e-01</td></tr>\n",
       "\t<tr><th scope=row>AFFX-BioC-3_st</th><td>9.730722e-01</td><td>5.137398e-09</td><td>8.381323e-01</td><td>7.646807e-01</td><td>3.588041e-01</td><td>6.590401e-01</td><td>0.103019606</td><td>0.316412362</td><td>9.445672e-01</td><td>2.521861e-15</td><td>...</td><td>6.821172e-01</td><td>0.2819302798</td><td>1.000000e+00</td><td>9.319777e-01</td><td>5.476961e-01</td><td>3.473502e-01</td><td>7.113295e-01</td><td>8.604234e-01</td><td>4.313557e-01</td><td>9.819911e-01</td></tr>\n",
       "\t<tr><th scope=row>AFFX-BioDn-5_st</th><td>8.301657e-01</td><td>6.808438e-13</td><td>6.221678e-01</td><td>5.374527e-01</td><td>1.878861e-01</td><td>4.306478e-01</td><td>0.038288002</td><td>0.159410681</td><td>7.744525e-01</td><td>1.304229e-16</td><td>...</td><td>4.527724e-01</td><td>0.1372579694</td><td>9.319777e-01</td><td>1.000000e+00</td><td>3.316036e-01</td><td>1.800582e-01</td><td>4.816862e-01</td><td>6.503014e-01</td><td>2.397785e-01</td><td>9.831357e-01</td></tr>\n",
       "\t<tr><th scope=row>AFFX-BioDn-3_st</th><td>6.914793e-01</td><td>2.235073e-04</td><td>8.841767e-01</td><td>9.377028e-01</td><td>9.490007e-01</td><td>9.838835e-01</td><td>0.616303198</td><td>0.921174626</td><td>7.527638e-01</td><td>5.811910e-06</td><td>...</td><td>9.764847e-01</td><td>0.8928694517</td><td>5.476961e-01</td><td>3.316036e-01</td><td>1.000000e+00</td><td>9.421829e-01</td><td>9.650327e-01</td><td>8.633617e-01</td><td>9.814352e-01</td><td>4.330638e-01</td></tr>\n",
       "\t<tr><th scope=row>AFFX-CreX-5_st</th><td>4.799091e-01</td><td>1.453855e-03</td><td>7.001490e-01</td><td>7.796149e-01</td><td>9.997686e-01</td><td>8.707699e-01</td><td>0.817818616</td><td>0.998205855</td><td>5.431469e-01</td><td>8.264866e-05</td><td>...</td><td>8.528730e-01</td><td>0.9915232507</td><td>3.473502e-01</td><td>1.800582e-01</td><td>9.421829e-01</td><td>1.000000e+00</td><td>8.286516e-01</td><td>6.725497e-01</td><td>9.886163e-01</td><td>2.542841e-01</td></tr>\n",
       "\t<tr><th scope=row>AFFX-CreX-3_st</th><td>8.405878e-01</td><td>3.789065e-05</td><td>9.741780e-01</td><td>9.958063e-01</td><td>8.395418e-01</td><td>9.962696e-01</td><td>0.453416126</td><td>0.797044736</td><td>8.891232e-01</td><td>4.090860e-07</td><td>...</td><td>9.988201e-01</td><td>0.7577506037</td><td>7.113295e-01</td><td>4.816862e-01</td><td>9.650327e-01</td><td>8.286516e-01</td><td>1.000000e+00</td><td>9.630430e-01</td><td>8.992321e-01</td><td>5.947582e-01</td></tr>\n",
       "\t<tr><th scope=row>AFFX-hum_alu_at</th><td>9.519479e-01</td><td>4.043552e-06</td><td>9.989593e-01</td><td>9.834561e-01</td><td>6.856132e-01</td><td>9.368935e-01</td><td>0.303779521</td><td>0.635796884</td><td>9.782344e-01</td><td>1.089949e-08</td><td>...</td><td>9.491369e-01</td><td>0.5921532755</td><td>8.604234e-01</td><td>6.503014e-01</td><td>8.633617e-01</td><td>6.725497e-01</td><td>9.630430e-01</td><td>1.000000e+00</td><td>7.620073e-01</td><td>7.601477e-01</td></tr>\n",
       "\t<tr><th scope=row>AFFX-DapX-5_at</th><td>5.724229e-01</td><td>6.722836e-04</td><td>7.875276e-01</td><td>8.581795e-01</td><td>9.916117e-01</td><td>9.324057e-01</td><td>0.733606541</td><td>0.977925574</td><td>6.367208e-01</td><td>2.810378e-05</td><td>...</td><td>9.185866e-01</td><td>0.9610399151</td><td>4.313557e-01</td><td>2.397785e-01</td><td>9.814352e-01</td><td>9.886163e-01</td><td>8.992321e-01</td><td>7.620073e-01</td><td>1.000000e+00</td><td>3.268958e-01</td></tr>\n",
       "\t<tr><th scope=row>AFFX-DapX-M_at</th><td>9.137639e-01</td><td>1.263022e-10</td><td>7.337988e-01</td><td>6.513910e-01</td><td>2.639864e-01</td><td>5.413067e-01</td><td>0.064047766</td><td>0.228394189</td><td>8.693896e-01</td><td>1.324426e-27</td><td>...</td><td>5.646676e-01</td><td>0.2000939591</td><td>9.819911e-01</td><td>9.831357e-01</td><td>4.330638e-01</td><td>2.542841e-01</td><td>5.947582e-01</td><td>7.601477e-01</td><td>3.268958e-01</td><td>1.000000e+00</td></tr>\n",
       "</tbody>\n",
       "</table>\n"
      ],
      "text/latex": [
       "A matrix: 25 × 25 of type dbl\n",
       "\\begin{tabular}{r|lllllllllllllllllllll}\n",
       "  & AFFX-MurIL2\\_at & AFFX-MurIL10\\_at & AFFX-MurIL4\\_at & AFFX-MurFAS\\_at & AFFX-BioB-5\\_at & AFFX-BioB-M\\_at & AFFX-BioB-3\\_at & AFFX-BioC-5\\_at & AFFX-BioC-3\\_at & AFFX-BioDn-5\\_at & ... & AFFX-BioB-3\\_st & AFFX-BioC-5\\_st & AFFX-BioC-3\\_st & AFFX-BioDn-5\\_st & AFFX-BioDn-3\\_st & AFFX-CreX-5\\_st & AFFX-CreX-3\\_st & AFFX-hum\\_alu\\_at & AFFX-DapX-5\\_at & AFFX-DapX-M\\_at\\\\\n",
       "\\hline\n",
       "\tAFFX-MurIL2\\_at & 1.000000e+00 & 1.455403e-07 & 9.373990e-01 & 8.837797e-01 & 4.928595e-01 & 7.954628e-01 & 0.171623608 & 0.444372324 & 9.946171e-01 & 1.907480e-11 & ... & 8.156942e-01 & 0.4037651381 & 9.730722e-01 & 8.301657e-01 & 6.914793e-01 & 4.799091e-01 & 8.405878e-01 & 9.519479e-01 & 5.724229e-01 & 9.137639e-01\\\\\n",
       "\tAFFX-MurIL10\\_at & 1.455403e-07 & 1.000000e+00 & 6.079850e-06 & 1.892503e-05 & 1.308513e-03 & 6.990998e-05 & 0.018894884 & 0.001935609 & 4.917313e-07 & 8.819052e-01 & ... & 5.371687e-05 & 0.0026759431 & 5.137398e-09 & 6.808438e-13 & 2.235073e-04 & 1.453855e-03 & 3.789065e-05 & 4.043552e-06 & 6.722836e-04 & 1.263022e-10\\\\\n",
       "\tAFFX-MurIL4\\_at & 9.373990e-01 & 6.079850e-06 & 1.000000e+00 & 9.906591e-01 & 7.130040e-01 & 9.514999e-01 & 0.326727380 & 0.663826782 & 9.678930e-01 & 2.172729e-08 & ... & 9.622561e-01 & 0.6204134991 & 8.381323e-01 & 6.221678e-01 & 8.841767e-01 & 7.001490e-01 & 9.741780e-01 & 9.989593e-01 & 7.875276e-01 & 7.337988e-01\\\\\n",
       "\tAFFX-MurFAS\\_at & 8.837797e-01 & 1.892503e-05 & 9.906591e-01 & 1.000000e+00 & 7.914758e-01 & 9.842539e-01 & 0.400524968 & 0.745604017 & 9.257679e-01 & 1.380911e-07 & ... & 9.902084e-01 & 0.7040544782 & 7.646807e-01 & 5.374527e-01 & 9.377028e-01 & 7.796149e-01 & 9.958063e-01 & 9.834561e-01 & 8.581795e-01 & 6.513910e-01\\\\\n",
       "\tAFFX-BioB-5\\_at & 4.928595e-01 & 1.308513e-03 & 7.130040e-01 & 7.914758e-01 & 1.000000e+00 & 8.805309e-01 & 0.806449161 & 0.996688741 & 5.564141e-01 & 7.140448e-05 & ... & 8.631531e-01 & 0.9885134748 & 3.588041e-01 & 1.878861e-01 & 9.490007e-01 & 9.997686e-01 & 8.395418e-01 & 6.856132e-01 & 9.916117e-01 & 2.639864e-01\\\\\n",
       "\tAFFX-BioB-M\\_at & 7.954628e-01 & 6.990998e-05 & 9.514999e-01 & 9.842539e-01 & 8.805309e-01 & 1.000000e+00 & 0.505217865 & 0.842040128 & 8.492020e-01 & 1.041157e-06 & ... & 9.992835e-01 & 0.8056096836 & 6.590401e-01 & 4.306478e-01 & 9.838835e-01 & 8.707699e-01 & 9.962696e-01 & 9.368935e-01 & 9.324057e-01 & 5.413067e-01\\\\\n",
       "\tAFFX-BioB-3\\_at & 1.716236e-01 & 1.889488e-02 & 3.267274e-01 & 4.005250e-01 & 8.064492e-01 & 5.052179e-01 & 1.000000000 & 0.848199089 & 2.102798e-01 & 2.694197e-03 & ... & 4.823420e-01 & 0.8812318972 & 1.030196e-01 & 3.828800e-02 & 6.163032e-01 & 8.178186e-01 & 4.534161e-01 & 3.037795e-01 & 7.336065e-01 & 6.404777e-02\\\\\n",
       "\tAFFX-BioC-5\\_at & 4.443723e-01 & 1.935609e-03 & 6.638268e-01 & 7.456040e-01 & 9.966887e-01 & 8.420401e-01 & 0.848199089 & 1.000000000 & 5.064631e-01 & 1.227810e-04 & ... & 8.228123e-01 & 0.9975150007 & 3.164124e-01 & 1.594107e-01 & 9.211746e-01 & 9.982059e-01 & 7.970447e-01 & 6.357969e-01 & 9.779256e-01 & 2.283942e-01\\\\\n",
       "\tAFFX-BioC-3\\_at & 9.946171e-01 & 4.917313e-07 & 9.678930e-01 & 9.257679e-01 & 5.564141e-01 & 8.492020e-01 & 0.210279772 & 0.506463052 & 1.000000e+00 & 2.336069e-10 & ... & 8.672758e-01 & 0.4640452053 & 9.445672e-01 & 7.744525e-01 & 7.527638e-01 & 5.431469e-01 & 8.891232e-01 & 9.782344e-01 & 6.367208e-01 & 8.693896e-01\\\\\n",
       "\tAFFX-BioDn-5\\_at & 1.907480e-11 & 8.819052e-01 & 2.172729e-08 & 1.380911e-07 & 7.140448e-05 & 1.041157e-06 & 0.002694197 & 0.000122781 & 2.336069e-10 & 1.000000e+00 & ... & 6.984189e-07 & 0.0001916592 & 2.521861e-15 & 1.304229e-16 & 5.811910e-06 & 8.264866e-05 & 4.090860e-07 & 1.089949e-08 & 2.810378e-05 & 1.324426e-27\\\\\n",
       "\tAFFX-BioDn-3\\_at & 7.516318e-01 & 1.179275e-04 & 9.253768e-01 & 9.676273e-01 & 9.133420e-01 & 9.969386e-01 & 0.553212017 & 0.879126270 & 8.092112e-01 & 2.274845e-06 & ... & 9.932743e-01 & 0.8458843696 & 6.107672e-01 & 3.862265e-01 & 9.948189e-01 & 9.047693e-01 & 9.865143e-01 & 9.078824e-01 & 9.572388e-01 & 4.935131e-01\\\\\n",
       "\tAFFX-CreX-5\\_at & 8.845720e-01 & 1.866003e-05 & 9.909015e-01 & 9.999984e-01 & 7.904930e-01 & 9.839371e-01 & 0.399513629 & 0.744564251 & 9.264220e-01 & 1.350341e-07 & ... & 9.899571e-01 & 0.7029786262 & 7.656979e-01 & 5.385575e-01 & 9.370955e-01 & 7.786154e-01 & 9.956406e-01 & 9.837776e-01 & 8.573202e-01 & 6.524941e-01\\\\\n",
       "\tAFFX-CreX-3\\_at & 6.320865e-03 & 2.966397e-01 & 2.304297e-02 & 3.530305e-02 & 1.880222e-01 & 5.855607e-02 & 0.520685249 & 0.219665783 & 9.449321e-03 & 1.110234e-01 & ... & 5.281722e-02 & 0.2496153439 & 2.328743e-03 & 3.376555e-04 & 9.276726e-02 & 1.960743e-01 & 4.610953e-02 & 1.983716e-02 & 1.440959e-01 & 9.233380e-04\\\\\n",
       "\tAFFX-BioB-5\\_st & 6.391427e-01 & 3.703120e-04 & 8.439924e-01 & 9.058586e-01 & 9.721459e-01 & 9.652202e-01 & 0.669042109 & 0.950310301 & 7.024019e-01 & 1.204001e-05 & ... & 9.548422e-01 & 0.9267714474 & 4.952990e-01 & 2.888861e-01 & 9.963321e-01 & 9.669563e-01 & 9.396947e-01 & 8.208199e-01 & 9.942034e-01 & 3.844246e-01\\\\\n",
       "\tAFFX-BioB-M\\_st & 4.769028e-01 & 1.489708e-03 & 6.971358e-01 & 7.768210e-01 & 9.996481e-01 & 8.684503e-01 & 0.820436198 & 0.998493467 & 5.400593e-01 & 8.548812e-05 & ... & 8.504354e-01 & 0.9921602490 & 3.447051e-01 & 1.782646e-01 & 9.405370e-01 & 9.999874e-01 & 8.260759e-01 & 6.694920e-01 & 9.878533e-01 & 2.520524e-01\\\\\n",
       "\tAFFX-BioB-3\\_st & 8.156942e-01 & 5.371687e-05 & 9.622561e-01 & 9.902084e-01 & 8.631531e-01 & 9.992835e-01 & 0.482342009 & 0.822812327 & 8.672758e-01 & 6.984189e-07 & ... & 1.000000e+00 & 0.7850410401 & 6.821172e-01 & 4.527724e-01 & 9.764847e-01 & 8.528730e-01 & 9.988201e-01 & 9.491369e-01 & 9.185866e-01 & 5.646676e-01\\\\\n",
       "\tAFFX-BioC-5\\_st & 4.037651e-01 & 2.675943e-03 & 6.204135e-01 & 7.040545e-01 & 9.885135e-01 & 8.056097e-01 & 0.881231897 & 0.997515001 & 4.640452e-01 & 1.916592e-04 & ... & 7.850410e-01 & 1.0000000000 & 2.819303e-01 & 1.372580e-01 & 8.928695e-01 & 9.915233e-01 & 7.577506e-01 & 5.921533e-01 & 9.610399e-01 & 2.000940e-01\\\\\n",
       "\tAFFX-BioC-3\\_st & 9.730722e-01 & 5.137398e-09 & 8.381323e-01 & 7.646807e-01 & 3.588041e-01 & 6.590401e-01 & 0.103019606 & 0.316412362 & 9.445672e-01 & 2.521861e-15 & ... & 6.821172e-01 & 0.2819302798 & 1.000000e+00 & 9.319777e-01 & 5.476961e-01 & 3.473502e-01 & 7.113295e-01 & 8.604234e-01 & 4.313557e-01 & 9.819911e-01\\\\\n",
       "\tAFFX-BioDn-5\\_st & 8.301657e-01 & 6.808438e-13 & 6.221678e-01 & 5.374527e-01 & 1.878861e-01 & 4.306478e-01 & 0.038288002 & 0.159410681 & 7.744525e-01 & 1.304229e-16 & ... & 4.527724e-01 & 0.1372579694 & 9.319777e-01 & 1.000000e+00 & 3.316036e-01 & 1.800582e-01 & 4.816862e-01 & 6.503014e-01 & 2.397785e-01 & 9.831357e-01\\\\\n",
       "\tAFFX-BioDn-3\\_st & 6.914793e-01 & 2.235073e-04 & 8.841767e-01 & 9.377028e-01 & 9.490007e-01 & 9.838835e-01 & 0.616303198 & 0.921174626 & 7.527638e-01 & 5.811910e-06 & ... & 9.764847e-01 & 0.8928694517 & 5.476961e-01 & 3.316036e-01 & 1.000000e+00 & 9.421829e-01 & 9.650327e-01 & 8.633617e-01 & 9.814352e-01 & 4.330638e-01\\\\\n",
       "\tAFFX-CreX-5\\_st & 4.799091e-01 & 1.453855e-03 & 7.001490e-01 & 7.796149e-01 & 9.997686e-01 & 8.707699e-01 & 0.817818616 & 0.998205855 & 5.431469e-01 & 8.264866e-05 & ... & 8.528730e-01 & 0.9915232507 & 3.473502e-01 & 1.800582e-01 & 9.421829e-01 & 1.000000e+00 & 8.286516e-01 & 6.725497e-01 & 9.886163e-01 & 2.542841e-01\\\\\n",
       "\tAFFX-CreX-3\\_st & 8.405878e-01 & 3.789065e-05 & 9.741780e-01 & 9.958063e-01 & 8.395418e-01 & 9.962696e-01 & 0.453416126 & 0.797044736 & 8.891232e-01 & 4.090860e-07 & ... & 9.988201e-01 & 0.7577506037 & 7.113295e-01 & 4.816862e-01 & 9.650327e-01 & 8.286516e-01 & 1.000000e+00 & 9.630430e-01 & 8.992321e-01 & 5.947582e-01\\\\\n",
       "\tAFFX-hum\\_alu\\_at & 9.519479e-01 & 4.043552e-06 & 9.989593e-01 & 9.834561e-01 & 6.856132e-01 & 9.368935e-01 & 0.303779521 & 0.635796884 & 9.782344e-01 & 1.089949e-08 & ... & 9.491369e-01 & 0.5921532755 & 8.604234e-01 & 6.503014e-01 & 8.633617e-01 & 6.725497e-01 & 9.630430e-01 & 1.000000e+00 & 7.620073e-01 & 7.601477e-01\\\\\n",
       "\tAFFX-DapX-5\\_at & 5.724229e-01 & 6.722836e-04 & 7.875276e-01 & 8.581795e-01 & 9.916117e-01 & 9.324057e-01 & 0.733606541 & 0.977925574 & 6.367208e-01 & 2.810378e-05 & ... & 9.185866e-01 & 0.9610399151 & 4.313557e-01 & 2.397785e-01 & 9.814352e-01 & 9.886163e-01 & 8.992321e-01 & 7.620073e-01 & 1.000000e+00 & 3.268958e-01\\\\\n",
       "\tAFFX-DapX-M\\_at & 9.137639e-01 & 1.263022e-10 & 7.337988e-01 & 6.513910e-01 & 2.639864e-01 & 5.413067e-01 & 0.064047766 & 0.228394189 & 8.693896e-01 & 1.324426e-27 & ... & 5.646676e-01 & 0.2000939591 & 9.819911e-01 & 9.831357e-01 & 4.330638e-01 & 2.542841e-01 & 5.947582e-01 & 7.601477e-01 & 3.268958e-01 & 1.000000e+00\\\\\n",
       "\\end{tabular}\n"
      ],
      "text/markdown": [
       "\n",
       "A matrix: 25 × 25 of type dbl\n",
       "\n",
       "| <!--/--> | AFFX-MurIL2_at | AFFX-MurIL10_at | AFFX-MurIL4_at | AFFX-MurFAS_at | AFFX-BioB-5_at | AFFX-BioB-M_at | AFFX-BioB-3_at | AFFX-BioC-5_at | AFFX-BioC-3_at | AFFX-BioDn-5_at | ... | AFFX-BioB-3_st | AFFX-BioC-5_st | AFFX-BioC-3_st | AFFX-BioDn-5_st | AFFX-BioDn-3_st | AFFX-CreX-5_st | AFFX-CreX-3_st | AFFX-hum_alu_at | AFFX-DapX-5_at | AFFX-DapX-M_at |\n",
       "|---|---|---|---|---|---|---|---|---|---|---|---|---|---|---|---|---|---|---|---|---|---|\n",
       "| AFFX-MurIL2_at | 1.000000e+00 | 1.455403e-07 | 9.373990e-01 | 8.837797e-01 | 4.928595e-01 | 7.954628e-01 | 0.171623608 | 0.444372324 | 9.946171e-01 | 1.907480e-11 | ... | 8.156942e-01 | 0.4037651381 | 9.730722e-01 | 8.301657e-01 | 6.914793e-01 | 4.799091e-01 | 8.405878e-01 | 9.519479e-01 | 5.724229e-01 | 9.137639e-01 |\n",
       "| AFFX-MurIL10_at | 1.455403e-07 | 1.000000e+00 | 6.079850e-06 | 1.892503e-05 | 1.308513e-03 | 6.990998e-05 | 0.018894884 | 0.001935609 | 4.917313e-07 | 8.819052e-01 | ... | 5.371687e-05 | 0.0026759431 | 5.137398e-09 | 6.808438e-13 | 2.235073e-04 | 1.453855e-03 | 3.789065e-05 | 4.043552e-06 | 6.722836e-04 | 1.263022e-10 |\n",
       "| AFFX-MurIL4_at | 9.373990e-01 | 6.079850e-06 | 1.000000e+00 | 9.906591e-01 | 7.130040e-01 | 9.514999e-01 | 0.326727380 | 0.663826782 | 9.678930e-01 | 2.172729e-08 | ... | 9.622561e-01 | 0.6204134991 | 8.381323e-01 | 6.221678e-01 | 8.841767e-01 | 7.001490e-01 | 9.741780e-01 | 9.989593e-01 | 7.875276e-01 | 7.337988e-01 |\n",
       "| AFFX-MurFAS_at | 8.837797e-01 | 1.892503e-05 | 9.906591e-01 | 1.000000e+00 | 7.914758e-01 | 9.842539e-01 | 0.400524968 | 0.745604017 | 9.257679e-01 | 1.380911e-07 | ... | 9.902084e-01 | 0.7040544782 | 7.646807e-01 | 5.374527e-01 | 9.377028e-01 | 7.796149e-01 | 9.958063e-01 | 9.834561e-01 | 8.581795e-01 | 6.513910e-01 |\n",
       "| AFFX-BioB-5_at | 4.928595e-01 | 1.308513e-03 | 7.130040e-01 | 7.914758e-01 | 1.000000e+00 | 8.805309e-01 | 0.806449161 | 0.996688741 | 5.564141e-01 | 7.140448e-05 | ... | 8.631531e-01 | 0.9885134748 | 3.588041e-01 | 1.878861e-01 | 9.490007e-01 | 9.997686e-01 | 8.395418e-01 | 6.856132e-01 | 9.916117e-01 | 2.639864e-01 |\n",
       "| AFFX-BioB-M_at | 7.954628e-01 | 6.990998e-05 | 9.514999e-01 | 9.842539e-01 | 8.805309e-01 | 1.000000e+00 | 0.505217865 | 0.842040128 | 8.492020e-01 | 1.041157e-06 | ... | 9.992835e-01 | 0.8056096836 | 6.590401e-01 | 4.306478e-01 | 9.838835e-01 | 8.707699e-01 | 9.962696e-01 | 9.368935e-01 | 9.324057e-01 | 5.413067e-01 |\n",
       "| AFFX-BioB-3_at | 1.716236e-01 | 1.889488e-02 | 3.267274e-01 | 4.005250e-01 | 8.064492e-01 | 5.052179e-01 | 1.000000000 | 0.848199089 | 2.102798e-01 | 2.694197e-03 | ... | 4.823420e-01 | 0.8812318972 | 1.030196e-01 | 3.828800e-02 | 6.163032e-01 | 8.178186e-01 | 4.534161e-01 | 3.037795e-01 | 7.336065e-01 | 6.404777e-02 |\n",
       "| AFFX-BioC-5_at | 4.443723e-01 | 1.935609e-03 | 6.638268e-01 | 7.456040e-01 | 9.966887e-01 | 8.420401e-01 | 0.848199089 | 1.000000000 | 5.064631e-01 | 1.227810e-04 | ... | 8.228123e-01 | 0.9975150007 | 3.164124e-01 | 1.594107e-01 | 9.211746e-01 | 9.982059e-01 | 7.970447e-01 | 6.357969e-01 | 9.779256e-01 | 2.283942e-01 |\n",
       "| AFFX-BioC-3_at | 9.946171e-01 | 4.917313e-07 | 9.678930e-01 | 9.257679e-01 | 5.564141e-01 | 8.492020e-01 | 0.210279772 | 0.506463052 | 1.000000e+00 | 2.336069e-10 | ... | 8.672758e-01 | 0.4640452053 | 9.445672e-01 | 7.744525e-01 | 7.527638e-01 | 5.431469e-01 | 8.891232e-01 | 9.782344e-01 | 6.367208e-01 | 8.693896e-01 |\n",
       "| AFFX-BioDn-5_at | 1.907480e-11 | 8.819052e-01 | 2.172729e-08 | 1.380911e-07 | 7.140448e-05 | 1.041157e-06 | 0.002694197 | 0.000122781 | 2.336069e-10 | 1.000000e+00 | ... | 6.984189e-07 | 0.0001916592 | 2.521861e-15 | 1.304229e-16 | 5.811910e-06 | 8.264866e-05 | 4.090860e-07 | 1.089949e-08 | 2.810378e-05 | 1.324426e-27 |\n",
       "| AFFX-BioDn-3_at | 7.516318e-01 | 1.179275e-04 | 9.253768e-01 | 9.676273e-01 | 9.133420e-01 | 9.969386e-01 | 0.553212017 | 0.879126270 | 8.092112e-01 | 2.274845e-06 | ... | 9.932743e-01 | 0.8458843696 | 6.107672e-01 | 3.862265e-01 | 9.948189e-01 | 9.047693e-01 | 9.865143e-01 | 9.078824e-01 | 9.572388e-01 | 4.935131e-01 |\n",
       "| AFFX-CreX-5_at | 8.845720e-01 | 1.866003e-05 | 9.909015e-01 | 9.999984e-01 | 7.904930e-01 | 9.839371e-01 | 0.399513629 | 0.744564251 | 9.264220e-01 | 1.350341e-07 | ... | 9.899571e-01 | 0.7029786262 | 7.656979e-01 | 5.385575e-01 | 9.370955e-01 | 7.786154e-01 | 9.956406e-01 | 9.837776e-01 | 8.573202e-01 | 6.524941e-01 |\n",
       "| AFFX-CreX-3_at | 6.320865e-03 | 2.966397e-01 | 2.304297e-02 | 3.530305e-02 | 1.880222e-01 | 5.855607e-02 | 0.520685249 | 0.219665783 | 9.449321e-03 | 1.110234e-01 | ... | 5.281722e-02 | 0.2496153439 | 2.328743e-03 | 3.376555e-04 | 9.276726e-02 | 1.960743e-01 | 4.610953e-02 | 1.983716e-02 | 1.440959e-01 | 9.233380e-04 |\n",
       "| AFFX-BioB-5_st | 6.391427e-01 | 3.703120e-04 | 8.439924e-01 | 9.058586e-01 | 9.721459e-01 | 9.652202e-01 | 0.669042109 | 0.950310301 | 7.024019e-01 | 1.204001e-05 | ... | 9.548422e-01 | 0.9267714474 | 4.952990e-01 | 2.888861e-01 | 9.963321e-01 | 9.669563e-01 | 9.396947e-01 | 8.208199e-01 | 9.942034e-01 | 3.844246e-01 |\n",
       "| AFFX-BioB-M_st | 4.769028e-01 | 1.489708e-03 | 6.971358e-01 | 7.768210e-01 | 9.996481e-01 | 8.684503e-01 | 0.820436198 | 0.998493467 | 5.400593e-01 | 8.548812e-05 | ... | 8.504354e-01 | 0.9921602490 | 3.447051e-01 | 1.782646e-01 | 9.405370e-01 | 9.999874e-01 | 8.260759e-01 | 6.694920e-01 | 9.878533e-01 | 2.520524e-01 |\n",
       "| AFFX-BioB-3_st | 8.156942e-01 | 5.371687e-05 | 9.622561e-01 | 9.902084e-01 | 8.631531e-01 | 9.992835e-01 | 0.482342009 | 0.822812327 | 8.672758e-01 | 6.984189e-07 | ... | 1.000000e+00 | 0.7850410401 | 6.821172e-01 | 4.527724e-01 | 9.764847e-01 | 8.528730e-01 | 9.988201e-01 | 9.491369e-01 | 9.185866e-01 | 5.646676e-01 |\n",
       "| AFFX-BioC-5_st | 4.037651e-01 | 2.675943e-03 | 6.204135e-01 | 7.040545e-01 | 9.885135e-01 | 8.056097e-01 | 0.881231897 | 0.997515001 | 4.640452e-01 | 1.916592e-04 | ... | 7.850410e-01 | 1.0000000000 | 2.819303e-01 | 1.372580e-01 | 8.928695e-01 | 9.915233e-01 | 7.577506e-01 | 5.921533e-01 | 9.610399e-01 | 2.000940e-01 |\n",
       "| AFFX-BioC-3_st | 9.730722e-01 | 5.137398e-09 | 8.381323e-01 | 7.646807e-01 | 3.588041e-01 | 6.590401e-01 | 0.103019606 | 0.316412362 | 9.445672e-01 | 2.521861e-15 | ... | 6.821172e-01 | 0.2819302798 | 1.000000e+00 | 9.319777e-01 | 5.476961e-01 | 3.473502e-01 | 7.113295e-01 | 8.604234e-01 | 4.313557e-01 | 9.819911e-01 |\n",
       "| AFFX-BioDn-5_st | 8.301657e-01 | 6.808438e-13 | 6.221678e-01 | 5.374527e-01 | 1.878861e-01 | 4.306478e-01 | 0.038288002 | 0.159410681 | 7.744525e-01 | 1.304229e-16 | ... | 4.527724e-01 | 0.1372579694 | 9.319777e-01 | 1.000000e+00 | 3.316036e-01 | 1.800582e-01 | 4.816862e-01 | 6.503014e-01 | 2.397785e-01 | 9.831357e-01 |\n",
       "| AFFX-BioDn-3_st | 6.914793e-01 | 2.235073e-04 | 8.841767e-01 | 9.377028e-01 | 9.490007e-01 | 9.838835e-01 | 0.616303198 | 0.921174626 | 7.527638e-01 | 5.811910e-06 | ... | 9.764847e-01 | 0.8928694517 | 5.476961e-01 | 3.316036e-01 | 1.000000e+00 | 9.421829e-01 | 9.650327e-01 | 8.633617e-01 | 9.814352e-01 | 4.330638e-01 |\n",
       "| AFFX-CreX-5_st | 4.799091e-01 | 1.453855e-03 | 7.001490e-01 | 7.796149e-01 | 9.997686e-01 | 8.707699e-01 | 0.817818616 | 0.998205855 | 5.431469e-01 | 8.264866e-05 | ... | 8.528730e-01 | 0.9915232507 | 3.473502e-01 | 1.800582e-01 | 9.421829e-01 | 1.000000e+00 | 8.286516e-01 | 6.725497e-01 | 9.886163e-01 | 2.542841e-01 |\n",
       "| AFFX-CreX-3_st | 8.405878e-01 | 3.789065e-05 | 9.741780e-01 | 9.958063e-01 | 8.395418e-01 | 9.962696e-01 | 0.453416126 | 0.797044736 | 8.891232e-01 | 4.090860e-07 | ... | 9.988201e-01 | 0.7577506037 | 7.113295e-01 | 4.816862e-01 | 9.650327e-01 | 8.286516e-01 | 1.000000e+00 | 9.630430e-01 | 8.992321e-01 | 5.947582e-01 |\n",
       "| AFFX-hum_alu_at | 9.519479e-01 | 4.043552e-06 | 9.989593e-01 | 9.834561e-01 | 6.856132e-01 | 9.368935e-01 | 0.303779521 | 0.635796884 | 9.782344e-01 | 1.089949e-08 | ... | 9.491369e-01 | 0.5921532755 | 8.604234e-01 | 6.503014e-01 | 8.633617e-01 | 6.725497e-01 | 9.630430e-01 | 1.000000e+00 | 7.620073e-01 | 7.601477e-01 |\n",
       "| AFFX-DapX-5_at | 5.724229e-01 | 6.722836e-04 | 7.875276e-01 | 8.581795e-01 | 9.916117e-01 | 9.324057e-01 | 0.733606541 | 0.977925574 | 6.367208e-01 | 2.810378e-05 | ... | 9.185866e-01 | 0.9610399151 | 4.313557e-01 | 2.397785e-01 | 9.814352e-01 | 9.886163e-01 | 8.992321e-01 | 7.620073e-01 | 1.000000e+00 | 3.268958e-01 |\n",
       "| AFFX-DapX-M_at | 9.137639e-01 | 1.263022e-10 | 7.337988e-01 | 6.513910e-01 | 2.639864e-01 | 5.413067e-01 | 0.064047766 | 0.228394189 | 8.693896e-01 | 1.324426e-27 | ... | 5.646676e-01 | 0.2000939591 | 9.819911e-01 | 9.831357e-01 | 4.330638e-01 | 2.542841e-01 | 5.947582e-01 | 7.601477e-01 | 3.268958e-01 | 1.000000e+00 |\n",
       "\n"
      ],
      "text/plain": [
       "                AFFX-MurIL2_at AFFX-MurIL10_at AFFX-MurIL4_at AFFX-MurFAS_at\n",
       "AFFX-MurIL2_at  1.000000e+00   1.455403e-07    9.373990e-01   8.837797e-01  \n",
       "AFFX-MurIL10_at 1.455403e-07   1.000000e+00    6.079850e-06   1.892503e-05  \n",
       "AFFX-MurIL4_at  9.373990e-01   6.079850e-06    1.000000e+00   9.906591e-01  \n",
       "AFFX-MurFAS_at  8.837797e-01   1.892503e-05    9.906591e-01   1.000000e+00  \n",
       "AFFX-BioB-5_at  4.928595e-01   1.308513e-03    7.130040e-01   7.914758e-01  \n",
       "AFFX-BioB-M_at  7.954628e-01   6.990998e-05    9.514999e-01   9.842539e-01  \n",
       "AFFX-BioB-3_at  1.716236e-01   1.889488e-02    3.267274e-01   4.005250e-01  \n",
       "AFFX-BioC-5_at  4.443723e-01   1.935609e-03    6.638268e-01   7.456040e-01  \n",
       "AFFX-BioC-3_at  9.946171e-01   4.917313e-07    9.678930e-01   9.257679e-01  \n",
       "AFFX-BioDn-5_at 1.907480e-11   8.819052e-01    2.172729e-08   1.380911e-07  \n",
       "AFFX-BioDn-3_at 7.516318e-01   1.179275e-04    9.253768e-01   9.676273e-01  \n",
       "AFFX-CreX-5_at  8.845720e-01   1.866003e-05    9.909015e-01   9.999984e-01  \n",
       "AFFX-CreX-3_at  6.320865e-03   2.966397e-01    2.304297e-02   3.530305e-02  \n",
       "AFFX-BioB-5_st  6.391427e-01   3.703120e-04    8.439924e-01   9.058586e-01  \n",
       "AFFX-BioB-M_st  4.769028e-01   1.489708e-03    6.971358e-01   7.768210e-01  \n",
       "AFFX-BioB-3_st  8.156942e-01   5.371687e-05    9.622561e-01   9.902084e-01  \n",
       "AFFX-BioC-5_st  4.037651e-01   2.675943e-03    6.204135e-01   7.040545e-01  \n",
       "AFFX-BioC-3_st  9.730722e-01   5.137398e-09    8.381323e-01   7.646807e-01  \n",
       "AFFX-BioDn-5_st 8.301657e-01   6.808438e-13    6.221678e-01   5.374527e-01  \n",
       "AFFX-BioDn-3_st 6.914793e-01   2.235073e-04    8.841767e-01   9.377028e-01  \n",
       "AFFX-CreX-5_st  4.799091e-01   1.453855e-03    7.001490e-01   7.796149e-01  \n",
       "AFFX-CreX-3_st  8.405878e-01   3.789065e-05    9.741780e-01   9.958063e-01  \n",
       "AFFX-hum_alu_at 9.519479e-01   4.043552e-06    9.989593e-01   9.834561e-01  \n",
       "AFFX-DapX-5_at  5.724229e-01   6.722836e-04    7.875276e-01   8.581795e-01  \n",
       "AFFX-DapX-M_at  9.137639e-01   1.263022e-10    7.337988e-01   6.513910e-01  \n",
       "                AFFX-BioB-5_at AFFX-BioB-M_at AFFX-BioB-3_at AFFX-BioC-5_at\n",
       "AFFX-MurIL2_at  4.928595e-01   7.954628e-01   0.171623608    0.444372324   \n",
       "AFFX-MurIL10_at 1.308513e-03   6.990998e-05   0.018894884    0.001935609   \n",
       "AFFX-MurIL4_at  7.130040e-01   9.514999e-01   0.326727380    0.663826782   \n",
       "AFFX-MurFAS_at  7.914758e-01   9.842539e-01   0.400524968    0.745604017   \n",
       "AFFX-BioB-5_at  1.000000e+00   8.805309e-01   0.806449161    0.996688741   \n",
       "AFFX-BioB-M_at  8.805309e-01   1.000000e+00   0.505217865    0.842040128   \n",
       "AFFX-BioB-3_at  8.064492e-01   5.052179e-01   1.000000000    0.848199089   \n",
       "AFFX-BioC-5_at  9.966887e-01   8.420401e-01   0.848199089    1.000000000   \n",
       "AFFX-BioC-3_at  5.564141e-01   8.492020e-01   0.210279772    0.506463052   \n",
       "AFFX-BioDn-5_at 7.140448e-05   1.041157e-06   0.002694197    0.000122781   \n",
       "AFFX-BioDn-3_at 9.133420e-01   9.969386e-01   0.553212017    0.879126270   \n",
       "AFFX-CreX-5_at  7.904930e-01   9.839371e-01   0.399513629    0.744564251   \n",
       "AFFX-CreX-3_at  1.880222e-01   5.855607e-02   0.520685249    0.219665783   \n",
       "AFFX-BioB-5_st  9.721459e-01   9.652202e-01   0.669042109    0.950310301   \n",
       "AFFX-BioB-M_st  9.996481e-01   8.684503e-01   0.820436198    0.998493467   \n",
       "AFFX-BioB-3_st  8.631531e-01   9.992835e-01   0.482342009    0.822812327   \n",
       "AFFX-BioC-5_st  9.885135e-01   8.056097e-01   0.881231897    0.997515001   \n",
       "AFFX-BioC-3_st  3.588041e-01   6.590401e-01   0.103019606    0.316412362   \n",
       "AFFX-BioDn-5_st 1.878861e-01   4.306478e-01   0.038288002    0.159410681   \n",
       "AFFX-BioDn-3_st 9.490007e-01   9.838835e-01   0.616303198    0.921174626   \n",
       "AFFX-CreX-5_st  9.997686e-01   8.707699e-01   0.817818616    0.998205855   \n",
       "AFFX-CreX-3_st  8.395418e-01   9.962696e-01   0.453416126    0.797044736   \n",
       "AFFX-hum_alu_at 6.856132e-01   9.368935e-01   0.303779521    0.635796884   \n",
       "AFFX-DapX-5_at  9.916117e-01   9.324057e-01   0.733606541    0.977925574   \n",
       "AFFX-DapX-M_at  2.639864e-01   5.413067e-01   0.064047766    0.228394189   \n",
       "                AFFX-BioC-3_at AFFX-BioDn-5_at ... AFFX-BioB-3_st\n",
       "AFFX-MurIL2_at  9.946171e-01   1.907480e-11    ... 8.156942e-01  \n",
       "AFFX-MurIL10_at 4.917313e-07   8.819052e-01    ... 5.371687e-05  \n",
       "AFFX-MurIL4_at  9.678930e-01   2.172729e-08    ... 9.622561e-01  \n",
       "AFFX-MurFAS_at  9.257679e-01   1.380911e-07    ... 9.902084e-01  \n",
       "AFFX-BioB-5_at  5.564141e-01   7.140448e-05    ... 8.631531e-01  \n",
       "AFFX-BioB-M_at  8.492020e-01   1.041157e-06    ... 9.992835e-01  \n",
       "AFFX-BioB-3_at  2.102798e-01   2.694197e-03    ... 4.823420e-01  \n",
       "AFFX-BioC-5_at  5.064631e-01   1.227810e-04    ... 8.228123e-01  \n",
       "AFFX-BioC-3_at  1.000000e+00   2.336069e-10    ... 8.672758e-01  \n",
       "AFFX-BioDn-5_at 2.336069e-10   1.000000e+00    ... 6.984189e-07  \n",
       "AFFX-BioDn-3_at 8.092112e-01   2.274845e-06    ... 9.932743e-01  \n",
       "AFFX-CreX-5_at  9.264220e-01   1.350341e-07    ... 9.899571e-01  \n",
       "AFFX-CreX-3_at  9.449321e-03   1.110234e-01    ... 5.281722e-02  \n",
       "AFFX-BioB-5_st  7.024019e-01   1.204001e-05    ... 9.548422e-01  \n",
       "AFFX-BioB-M_st  5.400593e-01   8.548812e-05    ... 8.504354e-01  \n",
       "AFFX-BioB-3_st  8.672758e-01   6.984189e-07    ... 1.000000e+00  \n",
       "AFFX-BioC-5_st  4.640452e-01   1.916592e-04    ... 7.850410e-01  \n",
       "AFFX-BioC-3_st  9.445672e-01   2.521861e-15    ... 6.821172e-01  \n",
       "AFFX-BioDn-5_st 7.744525e-01   1.304229e-16    ... 4.527724e-01  \n",
       "AFFX-BioDn-3_st 7.527638e-01   5.811910e-06    ... 9.764847e-01  \n",
       "AFFX-CreX-5_st  5.431469e-01   8.264866e-05    ... 8.528730e-01  \n",
       "AFFX-CreX-3_st  8.891232e-01   4.090860e-07    ... 9.988201e-01  \n",
       "AFFX-hum_alu_at 9.782344e-01   1.089949e-08    ... 9.491369e-01  \n",
       "AFFX-DapX-5_at  6.367208e-01   2.810378e-05    ... 9.185866e-01  \n",
       "AFFX-DapX-M_at  8.693896e-01   1.324426e-27    ... 5.646676e-01  \n",
       "                AFFX-BioC-5_st AFFX-BioC-3_st AFFX-BioDn-5_st AFFX-BioDn-3_st\n",
       "AFFX-MurIL2_at  0.4037651381   9.730722e-01   8.301657e-01    6.914793e-01   \n",
       "AFFX-MurIL10_at 0.0026759431   5.137398e-09   6.808438e-13    2.235073e-04   \n",
       "AFFX-MurIL4_at  0.6204134991   8.381323e-01   6.221678e-01    8.841767e-01   \n",
       "AFFX-MurFAS_at  0.7040544782   7.646807e-01   5.374527e-01    9.377028e-01   \n",
       "AFFX-BioB-5_at  0.9885134748   3.588041e-01   1.878861e-01    9.490007e-01   \n",
       "AFFX-BioB-M_at  0.8056096836   6.590401e-01   4.306478e-01    9.838835e-01   \n",
       "AFFX-BioB-3_at  0.8812318972   1.030196e-01   3.828800e-02    6.163032e-01   \n",
       "AFFX-BioC-5_at  0.9975150007   3.164124e-01   1.594107e-01    9.211746e-01   \n",
       "AFFX-BioC-3_at  0.4640452053   9.445672e-01   7.744525e-01    7.527638e-01   \n",
       "AFFX-BioDn-5_at 0.0001916592   2.521861e-15   1.304229e-16    5.811910e-06   \n",
       "AFFX-BioDn-3_at 0.8458843696   6.107672e-01   3.862265e-01    9.948189e-01   \n",
       "AFFX-CreX-5_at  0.7029786262   7.656979e-01   5.385575e-01    9.370955e-01   \n",
       "AFFX-CreX-3_at  0.2496153439   2.328743e-03   3.376555e-04    9.276726e-02   \n",
       "AFFX-BioB-5_st  0.9267714474   4.952990e-01   2.888861e-01    9.963321e-01   \n",
       "AFFX-BioB-M_st  0.9921602490   3.447051e-01   1.782646e-01    9.405370e-01   \n",
       "AFFX-BioB-3_st  0.7850410401   6.821172e-01   4.527724e-01    9.764847e-01   \n",
       "AFFX-BioC-5_st  1.0000000000   2.819303e-01   1.372580e-01    8.928695e-01   \n",
       "AFFX-BioC-3_st  0.2819302798   1.000000e+00   9.319777e-01    5.476961e-01   \n",
       "AFFX-BioDn-5_st 0.1372579694   9.319777e-01   1.000000e+00    3.316036e-01   \n",
       "AFFX-BioDn-3_st 0.8928694517   5.476961e-01   3.316036e-01    1.000000e+00   \n",
       "AFFX-CreX-5_st  0.9915232507   3.473502e-01   1.800582e-01    9.421829e-01   \n",
       "AFFX-CreX-3_st  0.7577506037   7.113295e-01   4.816862e-01    9.650327e-01   \n",
       "AFFX-hum_alu_at 0.5921532755   8.604234e-01   6.503014e-01    8.633617e-01   \n",
       "AFFX-DapX-5_at  0.9610399151   4.313557e-01   2.397785e-01    9.814352e-01   \n",
       "AFFX-DapX-M_at  0.2000939591   9.819911e-01   9.831357e-01    4.330638e-01   \n",
       "                AFFX-CreX-5_st AFFX-CreX-3_st AFFX-hum_alu_at AFFX-DapX-5_at\n",
       "AFFX-MurIL2_at  4.799091e-01   8.405878e-01   9.519479e-01    5.724229e-01  \n",
       "AFFX-MurIL10_at 1.453855e-03   3.789065e-05   4.043552e-06    6.722836e-04  \n",
       "AFFX-MurIL4_at  7.001490e-01   9.741780e-01   9.989593e-01    7.875276e-01  \n",
       "AFFX-MurFAS_at  7.796149e-01   9.958063e-01   9.834561e-01    8.581795e-01  \n",
       "AFFX-BioB-5_at  9.997686e-01   8.395418e-01   6.856132e-01    9.916117e-01  \n",
       "AFFX-BioB-M_at  8.707699e-01   9.962696e-01   9.368935e-01    9.324057e-01  \n",
       "AFFX-BioB-3_at  8.178186e-01   4.534161e-01   3.037795e-01    7.336065e-01  \n",
       "AFFX-BioC-5_at  9.982059e-01   7.970447e-01   6.357969e-01    9.779256e-01  \n",
       "AFFX-BioC-3_at  5.431469e-01   8.891232e-01   9.782344e-01    6.367208e-01  \n",
       "AFFX-BioDn-5_at 8.264866e-05   4.090860e-07   1.089949e-08    2.810378e-05  \n",
       "AFFX-BioDn-3_at 9.047693e-01   9.865143e-01   9.078824e-01    9.572388e-01  \n",
       "AFFX-CreX-5_at  7.786154e-01   9.956406e-01   9.837776e-01    8.573202e-01  \n",
       "AFFX-CreX-3_at  1.960743e-01   4.610953e-02   1.983716e-02    1.440959e-01  \n",
       "AFFX-BioB-5_st  9.669563e-01   9.396947e-01   8.208199e-01    9.942034e-01  \n",
       "AFFX-BioB-M_st  9.999874e-01   8.260759e-01   6.694920e-01    9.878533e-01  \n",
       "AFFX-BioB-3_st  8.528730e-01   9.988201e-01   9.491369e-01    9.185866e-01  \n",
       "AFFX-BioC-5_st  9.915233e-01   7.577506e-01   5.921533e-01    9.610399e-01  \n",
       "AFFX-BioC-3_st  3.473502e-01   7.113295e-01   8.604234e-01    4.313557e-01  \n",
       "AFFX-BioDn-5_st 1.800582e-01   4.816862e-01   6.503014e-01    2.397785e-01  \n",
       "AFFX-BioDn-3_st 9.421829e-01   9.650327e-01   8.633617e-01    9.814352e-01  \n",
       "AFFX-CreX-5_st  1.000000e+00   8.286516e-01   6.725497e-01    9.886163e-01  \n",
       "AFFX-CreX-3_st  8.286516e-01   1.000000e+00   9.630430e-01    8.992321e-01  \n",
       "AFFX-hum_alu_at 6.725497e-01   9.630430e-01   1.000000e+00    7.620073e-01  \n",
       "AFFX-DapX-5_at  9.886163e-01   8.992321e-01   7.620073e-01    1.000000e+00  \n",
       "AFFX-DapX-M_at  2.542841e-01   5.947582e-01   7.601477e-01    3.268958e-01  \n",
       "                AFFX-DapX-M_at\n",
       "AFFX-MurIL2_at  9.137639e-01  \n",
       "AFFX-MurIL10_at 1.263022e-10  \n",
       "AFFX-MurIL4_at  7.337988e-01  \n",
       "AFFX-MurFAS_at  6.513910e-01  \n",
       "AFFX-BioB-5_at  2.639864e-01  \n",
       "AFFX-BioB-M_at  5.413067e-01  \n",
       "AFFX-BioB-3_at  6.404777e-02  \n",
       "AFFX-BioC-5_at  2.283942e-01  \n",
       "AFFX-BioC-3_at  8.693896e-01  \n",
       "AFFX-BioDn-5_at 1.324426e-27  \n",
       "AFFX-BioDn-3_at 4.935131e-01  \n",
       "AFFX-CreX-5_at  6.524941e-01  \n",
       "AFFX-CreX-3_at  9.233380e-04  \n",
       "AFFX-BioB-5_st  3.844246e-01  \n",
       "AFFX-BioB-M_st  2.520524e-01  \n",
       "AFFX-BioB-3_st  5.646676e-01  \n",
       "AFFX-BioC-5_st  2.000940e-01  \n",
       "AFFX-BioC-3_st  9.819911e-01  \n",
       "AFFX-BioDn-5_st 9.831357e-01  \n",
       "AFFX-BioDn-3_st 4.330638e-01  \n",
       "AFFX-CreX-5_st  2.542841e-01  \n",
       "AFFX-CreX-3_st  5.947582e-01  \n",
       "AFFX-hum_alu_at 7.601477e-01  \n",
       "AFFX-DapX-5_at  3.268958e-01  \n",
       "AFFX-DapX-M_at  1.000000e+00  "
      ]
     },
     "metadata": {},
     "output_type": "display_data"
    }
   ],
   "source": [
    "## Either run the correlation computation (it takes a lot of time) \n",
    "## or use the adjacency function from `WGCNA` to compute the adjacency matrix\n",
    "\n",
    "myMat <- adjacency(myData_Sel, type=\"signed\")\n",
    "myMat\n",
    "# The results give a square matrix of size equal to the number of genes. \n",
    "# Each entry in the matrix is the connectivity between the genes."
   ]
  },
  {
   "cell_type": "code",
   "execution_count": 81,
   "metadata": {},
   "outputs": [],
   "source": [
    "## The values in the resulting adjacency matrix can be set to either 0 (edge absent) \n",
    "## or 1 (edge present) via dichotomization in different ways to get the final adjacency matrix. \n",
    "## Simply use a threshold of 0.90 (a high value to get the most correlated vertices), \n",
    "## as one of the simplest methods, but not the optimal one\n",
    "adjMat <- myMat\n",
    "adjMat[abs(adjMat)>0.90] <- 1\n",
    "adjMat[abs(adjMat)<=0.90] <- 0\n",
    "diag(adjMat) <- 0"
   ]
  },
  {
   "cell_type": "code",
   "execution_count": 82,
   "metadata": {},
   "outputs": [
    {
     "data": {
      "text/plain": [
       "A graphNEL graph with undirected edges\n",
       "Number of Nodes = 25 \n",
       "Number of Edges = 86 "
      ]
     },
     "metadata": {},
     "output_type": "display_data"
    },
    {
     "data": {
      "image/png": "[encoded data removed]",
      "text/plain": [
       "plot without title"
      ]
     },
     "metadata": {
      "image/png": {
       "height": 420,
       "width": 420
      }
     },
     "output_type": "display_data"
    }
   ],
   "source": [
    "## The final adjacency matrix can be converted into a `graphNEL` object to be rendered as a graph with nodes and edges\n",
    "## (note that plotting the graph might take some time depending on the network size)\n",
    "myGraph <- as(adjMat, \"graphNEL\")\n",
    "myGraph\n",
    "plot(myGraph, nodeAttrs=makeNodeAttrs(myGraph,fontsize=28, fillcolor=\"grey\"))"
   ]
  },
  {
   "cell_type": "markdown",
   "metadata": {},
   "source": [
    "The method in this part is based on the computation of the relationship between the genes in terms of correlation or similarity measures. The function computes the pairwise similarity or correlation among the genes based on the expression data and returns this as a matrix. The threshold set defines only highly correlated or similar genes connected by an edge in the network otherwise no connection between the genes. This adjacency matrix is then\n",
    "used to get the graph object."
   ]
  },
  {
   "cell_type": "markdown",
   "metadata": {},
   "source": [
    "## 16. More visualizations for gene expression data\n",
    "\n",
    "   In this part, there will be some interesting and useful visualizations for expression data. The visualizations or plots shown are heatmaps, Venn diagrams, and volcano plots.<br>\n",
    "   Followed by the `Clustering microarray data` section."
   ]
  },
  {
   "cell_type": "code",
   "execution_count": 85,
   "metadata": {},
   "outputs": [
    {
     "data": {
      "text/html": [
       "'D:/R-3.6.2/library/Biobase/extdata'"
      ],
      "text/latex": [
       "'D:/R-3.6.2/library/Biobase/extdata'"
      ],
      "text/markdown": [
       "'D:/R-3.6.2/library/Biobase/extdata'"
      ],
      "text/plain": [
       "[1] \"D:/R-3.6.2/library/Biobase/extdata\""
      ]
     },
     "metadata": {},
     "output_type": "display_data"
    },
    {
     "data": {
      "text/html": [
       "'D:/R-3.6.2/library/Biobase/extdata/exprsData.txt'"
      ],
      "text/latex": [
       "'D:/R-3.6.2/library/Biobase/extdata/exprsData.txt'"
      ],
      "text/markdown": [
       "'D:/R-3.6.2/library/Biobase/extdata/exprsData.txt'"
      ],
      "text/plain": [
       "[1] \"D:/R-3.6.2/library/Biobase/extdata/exprsData.txt\""
      ]
     },
     "metadata": {},
     "output_type": "display_data"
    },
    {
     "data": {
      "text/html": [
       "'D:/R-3.6.2/library/Biobase/extdata/pData.txt'"
      ],
      "text/latex": [
       "'D:/R-3.6.2/library/Biobase/extdata/pData.txt'"
      ],
      "text/markdown": [
       "'D:/R-3.6.2/library/Biobase/extdata/pData.txt'"
      ],
      "text/plain": [
       "[1] \"D:/R-3.6.2/library/Biobase/extdata/pData.txt\""
      ]
     },
     "metadata": {},
     "output_type": "display_data"
    },
    {
     "data": {
      "text/html": [
       "<table>\n",
       "<caption>A matrix: 6 × 26 of type dbl</caption>\n",
       "<thead>\n",
       "\t<tr><th></th><th scope=col>A</th><th scope=col>B</th><th scope=col>C</th><th scope=col>D</th><th scope=col>E</th><th scope=col>F</th><th scope=col>G</th><th scope=col>H</th><th scope=col>I</th><th scope=col>J</th><th scope=col>...</th><th scope=col>Q</th><th scope=col>R</th><th scope=col>S</th><th scope=col>T</th><th scope=col>U</th><th scope=col>V</th><th scope=col>W</th><th scope=col>X</th><th scope=col>Y</th><th scope=col>Z</th></tr>\n",
       "</thead>\n",
       "<tbody>\n",
       "\t<tr><th scope=row>AFFX-MurIL2_at</th><td>192.7420</td><td> 85.75330</td><td>176.7570</td><td>135.5750</td><td>64.49390</td><td>76.3569</td><td>160.5050</td><td>65.9631</td><td>56.9039</td><td>135.60800</td><td>...</td><td>179.8450</td><td>152.4670</td><td>180.83400</td><td>85.4146</td><td>157.98900</td><td>146.8000</td><td>93.8829</td><td>103.85500</td><td>64.4340</td><td>175.61500</td></tr>\n",
       "\t<tr><th scope=row>AFFX-MurIL10_at</th><td> 97.1370</td><td>126.19600</td><td> 77.9216</td><td> 93.3713</td><td>24.39860</td><td>85.5088</td><td> 98.9086</td><td>81.6932</td><td>97.8015</td><td> 90.48380</td><td>...</td><td> 87.6806</td><td>108.0320</td><td>134.26300</td><td>91.4031</td><td> -8.68811</td><td> 85.0212</td><td>79.2998</td><td> 71.65520</td><td>64.2369</td><td> 78.70680</td></tr>\n",
       "\t<tr><th scope=row>AFFX-MurIL4_at</th><td> 45.8192</td><td>  8.83135</td><td> 33.0632</td><td> 28.7072</td><td> 5.94492</td><td>28.2925</td><td> 30.9694</td><td>14.7923</td><td>14.2399</td><td> 34.48740</td><td>...</td><td> 32.7911</td><td> 33.5292</td><td> 19.81720</td><td>20.4190</td><td> 26.87200</td><td> 31.1488</td><td>22.3420</td><td> 19.01350</td><td>12.1686</td><td> 17.37800</td></tr>\n",
       "\t<tr><th scope=row>AFFX-MurFAS_at</th><td> 22.5445</td><td>  3.60093</td><td> 14.6883</td><td> 12.3397</td><td>36.86630</td><td>11.2568</td><td> 23.0034</td><td>16.2134</td><td>12.0375</td><td>  4.54978</td><td>...</td><td> 15.9488</td><td> 14.6753</td><td> -7.91911</td><td>12.8875</td><td> 11.91860</td><td> 12.8324</td><td>11.1390</td><td>  7.55564</td><td>19.9849</td><td>  8.96849</td></tr>\n",
       "\t<tr><th scope=row>AFFX-BioB-5_at</th><td> 96.7875</td><td> 30.43800</td><td> 46.1271</td><td> 70.9319</td><td>56.17440</td><td>42.6756</td><td> 86.5156</td><td>30.7927</td><td>19.7183</td><td> 46.35200</td><td>...</td><td> 58.6239</td><td>114.0620</td><td> 93.44020</td><td>22.5168</td><td> 48.64620</td><td> 90.2215</td><td>42.0053</td><td> 57.57380</td><td>44.8216</td><td> 61.70440</td></tr>\n",
       "\t<tr><th scope=row>AFFX-BioB-M_at</th><td> 89.0730</td><td> 25.84610</td><td> 57.2033</td><td> 69.9766</td><td>49.58220</td><td>26.1262</td><td> 75.0083</td><td>42.3352</td><td>41.1207</td><td> 91.53070</td><td>...</td><td> 58.1331</td><td>104.1220</td><td>115.83100</td><td>58.1224</td><td> 73.42210</td><td> 64.6066</td><td>40.3068</td><td> 41.82090</td><td>46.1087</td><td> 49.41220</td></tr>\n",
       "</tbody>\n",
       "</table>\n"
      ],
      "text/latex": [
       "A matrix: 6 × 26 of type dbl\n",
       "\\begin{tabular}{r|lllllllllllllllllllll}\n",
       "  & A & B & C & D & E & F & G & H & I & J & ... & Q & R & S & T & U & V & W & X & Y & Z\\\\\n",
       "\\hline\n",
       "\tAFFX-MurIL2\\_at & 192.7420 &  85.75330 & 176.7570 & 135.5750 & 64.49390 & 76.3569 & 160.5050 & 65.9631 & 56.9039 & 135.60800 & ... & 179.8450 & 152.4670 & 180.83400 & 85.4146 & 157.98900 & 146.8000 & 93.8829 & 103.85500 & 64.4340 & 175.61500\\\\\n",
       "\tAFFX-MurIL10\\_at &  97.1370 & 126.19600 &  77.9216 &  93.3713 & 24.39860 & 85.5088 &  98.9086 & 81.6932 & 97.8015 &  90.48380 & ... &  87.6806 & 108.0320 & 134.26300 & 91.4031 &  -8.68811 &  85.0212 & 79.2998 &  71.65520 & 64.2369 &  78.70680\\\\\n",
       "\tAFFX-MurIL4\\_at &  45.8192 &   8.83135 &  33.0632 &  28.7072 &  5.94492 & 28.2925 &  30.9694 & 14.7923 & 14.2399 &  34.48740 & ... &  32.7911 &  33.5292 &  19.81720 & 20.4190 &  26.87200 &  31.1488 & 22.3420 &  19.01350 & 12.1686 &  17.37800\\\\\n",
       "\tAFFX-MurFAS\\_at &  22.5445 &   3.60093 &  14.6883 &  12.3397 & 36.86630 & 11.2568 &  23.0034 & 16.2134 & 12.0375 &   4.54978 & ... &  15.9488 &  14.6753 &  -7.91911 & 12.8875 &  11.91860 &  12.8324 & 11.1390 &   7.55564 & 19.9849 &   8.96849\\\\\n",
       "\tAFFX-BioB-5\\_at &  96.7875 &  30.43800 &  46.1271 &  70.9319 & 56.17440 & 42.6756 &  86.5156 & 30.7927 & 19.7183 &  46.35200 & ... &  58.6239 & 114.0620 &  93.44020 & 22.5168 &  48.64620 &  90.2215 & 42.0053 &  57.57380 & 44.8216 &  61.70440\\\\\n",
       "\tAFFX-BioB-M\\_at &  89.0730 &  25.84610 &  57.2033 &  69.9766 & 49.58220 & 26.1262 &  75.0083 & 42.3352 & 41.1207 &  91.53070 & ... &  58.1331 & 104.1220 & 115.83100 & 58.1224 &  73.42210 &  64.6066 & 40.3068 &  41.82090 & 46.1087 &  49.41220\\\\\n",
       "\\end{tabular}\n"
      ],
      "text/markdown": [
       "\n",
       "A matrix: 6 × 26 of type dbl\n",
       "\n",
       "| <!--/--> | A | B | C | D | E | F | G | H | I | J | ... | Q | R | S | T | U | V | W | X | Y | Z |\n",
       "|---|---|---|---|---|---|---|---|---|---|---|---|---|---|---|---|---|---|---|---|---|---|\n",
       "| AFFX-MurIL2_at | 192.7420 |  85.75330 | 176.7570 | 135.5750 | 64.49390 | 76.3569 | 160.5050 | 65.9631 | 56.9039 | 135.60800 | ... | 179.8450 | 152.4670 | 180.83400 | 85.4146 | 157.98900 | 146.8000 | 93.8829 | 103.85500 | 64.4340 | 175.61500 |\n",
       "| AFFX-MurIL10_at |  97.1370 | 126.19600 |  77.9216 |  93.3713 | 24.39860 | 85.5088 |  98.9086 | 81.6932 | 97.8015 |  90.48380 | ... |  87.6806 | 108.0320 | 134.26300 | 91.4031 |  -8.68811 |  85.0212 | 79.2998 |  71.65520 | 64.2369 |  78.70680 |\n",
       "| AFFX-MurIL4_at |  45.8192 |   8.83135 |  33.0632 |  28.7072 |  5.94492 | 28.2925 |  30.9694 | 14.7923 | 14.2399 |  34.48740 | ... |  32.7911 |  33.5292 |  19.81720 | 20.4190 |  26.87200 |  31.1488 | 22.3420 |  19.01350 | 12.1686 |  17.37800 |\n",
       "| AFFX-MurFAS_at |  22.5445 |   3.60093 |  14.6883 |  12.3397 | 36.86630 | 11.2568 |  23.0034 | 16.2134 | 12.0375 |   4.54978 | ... |  15.9488 |  14.6753 |  -7.91911 | 12.8875 |  11.91860 |  12.8324 | 11.1390 |   7.55564 | 19.9849 |   8.96849 |\n",
       "| AFFX-BioB-5_at |  96.7875 |  30.43800 |  46.1271 |  70.9319 | 56.17440 | 42.6756 |  86.5156 | 30.7927 | 19.7183 |  46.35200 | ... |  58.6239 | 114.0620 |  93.44020 | 22.5168 |  48.64620 |  90.2215 | 42.0053 |  57.57380 | 44.8216 |  61.70440 |\n",
       "| AFFX-BioB-M_at |  89.0730 |  25.84610 |  57.2033 |  69.9766 | 49.58220 | 26.1262 |  75.0083 | 42.3352 | 41.1207 |  91.53070 | ... |  58.1331 | 104.1220 | 115.83100 | 58.1224 |  73.42210 |  64.6066 | 40.3068 |  41.82090 | 46.1087 |  49.41220 |\n",
       "\n"
      ],
      "text/plain": [
       "                A        B         C        D        E        F       G       \n",
       "AFFX-MurIL2_at  192.7420  85.75330 176.7570 135.5750 64.49390 76.3569 160.5050\n",
       "AFFX-MurIL10_at  97.1370 126.19600  77.9216  93.3713 24.39860 85.5088  98.9086\n",
       "AFFX-MurIL4_at   45.8192   8.83135  33.0632  28.7072  5.94492 28.2925  30.9694\n",
       "AFFX-MurFAS_at   22.5445   3.60093  14.6883  12.3397 36.86630 11.2568  23.0034\n",
       "AFFX-BioB-5_at   96.7875  30.43800  46.1271  70.9319 56.17440 42.6756  86.5156\n",
       "AFFX-BioB-M_at   89.0730  25.84610  57.2033  69.9766 49.58220 26.1262  75.0083\n",
       "                H       I       J         ... Q        R        S        \n",
       "AFFX-MurIL2_at  65.9631 56.9039 135.60800 ... 179.8450 152.4670 180.83400\n",
       "AFFX-MurIL10_at 81.6932 97.8015  90.48380 ...  87.6806 108.0320 134.26300\n",
       "AFFX-MurIL4_at  14.7923 14.2399  34.48740 ...  32.7911  33.5292  19.81720\n",
       "AFFX-MurFAS_at  16.2134 12.0375   4.54978 ...  15.9488  14.6753  -7.91911\n",
       "AFFX-BioB-5_at  30.7927 19.7183  46.35200 ...  58.6239 114.0620  93.44020\n",
       "AFFX-BioB-M_at  42.3352 41.1207  91.53070 ...  58.1331 104.1220 115.83100\n",
       "                T       U         V        W       X         Y       Z        \n",
       "AFFX-MurIL2_at  85.4146 157.98900 146.8000 93.8829 103.85500 64.4340 175.61500\n",
       "AFFX-MurIL10_at 91.4031  -8.68811  85.0212 79.2998  71.65520 64.2369  78.70680\n",
       "AFFX-MurIL4_at  20.4190  26.87200  31.1488 22.3420  19.01350 12.1686  17.37800\n",
       "AFFX-MurFAS_at  12.8875  11.91860  12.8324 11.1390   7.55564 19.9849   8.96849\n",
       "AFFX-BioB-5_at  22.5168  48.64620  90.2215 42.0053  57.57380 44.8216  61.70440\n",
       "AFFX-BioB-M_at  58.1224  73.42210  64.6066 40.3068  41.82090 46.1087  49.41220"
      ]
     },
     "metadata": {},
     "output_type": "display_data"
    },
    {
     "data": {
      "text/plain": [
       "Call:\t agnes(x = DIS, diss = TRUE, method = method, keep.diss = TRUE) \n",
       "Agglomerative coefficient:  0.9367669 \n",
       "Order of objects:\n",
       " [1] A C U M E T G O V R D J S X Q B P Y F K W I H L N Z\n",
       "Height (summary):\n",
       "     Min.   1st Qu.    Median      Mean   3rd Qu.      Max. \n",
       "0.0004355 0.0016153 0.0047194 0.0204141 0.0160734 0.1565105 \n",
       "\n",
       "Available components:\n",
       "[1] \"order\"     \"height\"    \"ac\"        \"merge\"     \"diss\"      \"call\"     \n",
       "[7] \"method\"    \"order.lab\""
      ]
     },
     "metadata": {},
     "output_type": "display_data"
    },
    {
     "data": {
      "text/plain": [
       "Call:\t agnes(x = DIS, diss = TRUE, method = method, keep.diss = TRUE) \n",
       "Agglomerative coefficient:  0.8619217 \n",
       "Order of objects:\n",
       " [1] AFFX-MurIL2_at              AFFX-CreX-5_at             \n",
       " [3] AFFX-PheX-M_at              AFFX-MurIL4_at             \n",
       " [5] AFFX-BioDn-3_at             AFFX-CreX-3_st             \n",
       " [7] AFFX-LysX-5_at              AFFX-LysX-M_at             \n",
       " [9] AFFX-BioB-M_st              AFFX-BioB-5_at             \n",
       "[11] AFFX-DapX-3_at              AFFX-ThrX-M_at             \n",
       "[13] AFFX-BioC-5_at              AFFX-BioB-3_st             \n",
       "[15] AFFX-CreX-5_st              AFFX-LysX-3_at             \n",
       "[17] AFFX-BioB-M_at              AFFX-BioDn-3_st            \n",
       "[19] AFFX-DapX-5_at              AFFX-DapX-M_at             \n",
       "[21] AFFX-TrpnX-5_at             AFFX-BioB-3_at             \n",
       "[23] AFFX-PheX-5_at              AFFX-ThrX-5_at             \n",
       "[25] AFFX-TrpnX-M_at             AFFX-TrpnX-3_at            \n",
       "[27] AFFX-BioB-5_st              AFFX-BioC-5_st             \n",
       "[29] AFFX-ThrX-3_at              AFFX-HUMRGE/M10098_3_at    \n",
       "[31] AFFX-hum_alu_at             AFFX-PheX-3_at             \n",
       "[33] AFFX-HUMGAPDH/M33197_5_at   AFFX-HUMGAPDH/M33197_M_at  \n",
       "[35] AFFX-HUMGAPDH/M33197_3_at   AFFX-MurIL10_at            \n",
       "[37] AFFX-BioDn-5_st             AFFX-CreX-3_at             \n",
       "[39] AFFX-HUMRGE/M10098_5_at     AFFX-HUMISGF3A/M97935_5_at \n",
       "[41] AFFX-HUMISGF3A/M97935_MA_at AFFX-HUMISGF3A/M97935_MB_at\n",
       "[43] AFFX-HUMISGF3A/M97935_3_at  AFFX-MurFAS_at             \n",
       "[45] AFFX-BioC-3_at              AFFX-BioC-3_st             \n",
       "[47] AFFX-HSAC07/X00351_5_at     AFFX-HSAC07/X00351_M_at    \n",
       "[49] AFFX-BioDn-5_at             AFFX-HUMRGE/M10098_M_at    \n",
       "Height (summary):\n",
       "   Min. 1st Qu.  Median    Mean 3rd Qu.    Max. \n",
       "0.03771 0.21669 0.41126 0.52716 0.60976 2.17552 \n",
       "\n",
       "Available components:\n",
       "[1] \"order\"     \"height\"    \"ac\"        \"merge\"     \"diss\"      \"call\"     \n",
       "[7] \"method\"    \"order.lab\""
      ]
     },
     "metadata": {},
     "output_type": "display_data"
    }
   ],
   "source": [
    "library(affy)\n",
    "library(affydata)\n",
    "library(hgu133a2cdf)\n",
    "library(EMA)\n",
    "# mydata <- ReadAffy(celfile.path= \"D:/Try-practice/Chapter 5/GSE24460_RAW/\")\n",
    "mydata <- ReadAffy(filenames=\"F:/GSE24460_RAW/GSM602658_MCF71.CEL\")\n",
    "library(Biobase)\n",
    "DIR <- system.file(\"extdata\", package=\"Biobase\")\n",
    "exprsLoc <- file.path(DIR, \"exprsData.txt\") \n",
    "pDataLoc <- file.path(DIR, \"pData.txt\")\n",
    "DIR\n",
    "exprsLoc\n",
    "pDataLoc\n",
    "exprs <- as.matrix(read.csv(exprsLoc, header = TRUE, sep = \"\\t\", row.names = 1, as.is = TRUE))\n",
    "pData <- read.table(pDataLoc, row.names = 1, header = TRUE, sep = \"\\t\")\n",
    "pData <- new(\"AnnotatedDataFrame\", data = pData)\n",
    "exData <- new(\"MIAME\", name=\"ABCabc\", lab=\"XYZ Lab\", contact=\"abc@xyz\", title=\"\", abstract=\"\", url=\"www.xyz\")\n",
    "eset <- new(\"ExpressionSet\", exprs = exprs, phenoData = pData, experimentData = exData, annotation = \"hgu133a2\")\n",
    "c.data <- exprs(eset[1:50,])\n",
    "head(c.data)\n",
    "c.array <- clustering(data=c.data, metric=\"pearson\", method=\"ward\")\n",
    "c.array\n",
    "c.gene <- clustering(data=t(c.data), metric=\"pearsonabs\", method=\"ward\")\n",
    "c.gene"
   ]
  },
  {
   "cell_type": "code",
   "execution_count": 86,
   "metadata": {},
   "outputs": [
    {
     "data": {
      "image/png": "[encoded data removed]",
      "text/plain": [
       "Plot with title \"\""
      ]
     },
     "metadata": {
      "image/png": {
       "height": 420,
       "width": 420
      }
     },
     "output_type": "display_data"
    },
    {
     "data": {
      "image/png": "[encoded data removed]",
      "text/plain": [
       "plot without title"
      ]
     },
     "metadata": {
      "image/png": {
       "height": 420,
       "width": 420
      }
     },
     "output_type": "display_data"
    }
   ],
   "source": [
    "## To do a heatmap, use the `clustering.plot` function of the `EMA` library and \n",
    "## pass the previously mentioned clusters as an argument.\n",
    "clustering.plot(tree=c.array, tree.sup=c.gene, data=c.data)\n",
    "# This generates the required heatmap.\n",
    "# But `heatmap` can do the same\n",
    "heatmap(c.data)\n",
    "# The following figure shows a heatmap for selected genes from the leukemiaexpression data, \n",
    "# which features normal cells and the different types of leukemia."
   ]
  },
  {
   "cell_type": "code",
   "execution_count": 87,
   "metadata": {},
   "outputs": [
    {
     "name": "stderr",
     "output_type": "stream",
     "text": [
      "Bioconductor version 3.9 (BiocManager 1.30.10), R 3.6.2 (2019-12-12)\n",
      "\n",
      "Installing package(s) 'VennDiagram'\n",
      "\n"
     ]
    },
    {
     "name": "stdout",
     "output_type": "stream",
     "text": [
      "package 'VennDiagram' successfully unpacked and MD5 sums checked\n",
      "\n",
      "The downloaded binary packages are in\n",
      "\tC:\\Users\\Master\\AppData\\Local\\Temp\\RtmpMnMXFB\\downloaded_packages\n"
     ]
    },
    {
     "name": "stderr",
     "output_type": "stream",
     "text": [
      "Old packages: 'BH', 'bit', 'caTools', 'cli', 'FactoMineR', 'fansi', 'farver',\n",
      "  'GetoptLong', 'ggridges', 'gplots', 'hms', 'knitr', 'leaps', 'multcomp',\n",
      "  'mvtnorm', 'PMA', 'precrec', 'prettyunits', 'pROC', 'RCurl', 'RSQLite',\n",
      "  'Rttf2pt1', 'shinyjs', 'stringi', 'tinytex', 'xfun', 'XML', 'xts', 'zoo'\n",
      "\n",
      "Loading required package: futile.logger\n",
      "\n",
      "\n",
      "Attaching package: 'futile.logger'\n",
      "\n",
      "\n",
      "The following object is masked from 'package:gtools':\n",
      "\n",
      "    scat\n",
      "\n",
      "\n"
     ]
    }
   ],
   "source": [
    "## The followning is a Venn diagram.\n",
    "## It can be used to show the common and unique contents of two variables. \n",
    "## This will require the following VennDiagram library.\n",
    "BiocManager::install(\"VennDiagram\")\n",
    "library(VennDiagram)"
   ]
  },
  {
   "cell_type": "code",
   "execution_count": 90,
   "metadata": {},
   "outputs": [
    {
     "data": {
      "text/html": [
       "<dl>\n",
       "\t<dt>$S1</dt>\n",
       "\t\t<dd><ol class=list-inline>\n",
       "\t<li>'I'</li>\n",
       "\t<li>'T'</li>\n",
       "\t<li>'L'</li>\n",
       "\t<li>'K'</li>\n",
       "\t<li>'R'</li>\n",
       "\t<li>'O'</li>\n",
       "\t<li>'C'</li>\n",
       "\t<li>'N'</li>\n",
       "\t<li>'K'</li>\n",
       "\t<li>'N'</li>\n",
       "\t<li>'G'</li>\n",
       "\t<li>'A'</li>\n",
       "\t<li>'Q'</li>\n",
       "\t<li>'R'</li>\n",
       "\t<li>'H'</li>\n",
       "\t<li>'Q'</li>\n",
       "\t<li>'I'</li>\n",
       "\t<li>'I'</li>\n",
       "\t<li>'T'</li>\n",
       "\t<li>'C'</li>\n",
       "</ol>\n",
       "</dd>\n",
       "\t<dt>$S2</dt>\n",
       "\t\t<dd><ol class=list-inline>\n",
       "\t<li>'M'</li>\n",
       "\t<li>'D'</li>\n",
       "\t<li>'B'</li>\n",
       "\t<li>'R'</li>\n",
       "\t<li>'P'</li>\n",
       "\t<li>'F'</li>\n",
       "\t<li>'R'</li>\n",
       "\t<li>'I'</li>\n",
       "\t<li>'L'</li>\n",
       "\t<li>'O'</li>\n",
       "\t<li>'J'</li>\n",
       "\t<li>'I'</li>\n",
       "\t<li>'Q'</li>\n",
       "\t<li>'R'</li>\n",
       "\t<li>'E'</li>\n",
       "\t<li>'F'</li>\n",
       "\t<li>'T'</li>\n",
       "\t<li>'G'</li>\n",
       "\t<li>'D'</li>\n",
       "\t<li>'K'</li>\n",
       "</ol>\n",
       "</dd>\n",
       "\t<dt>$S3</dt>\n",
       "\t\t<dd><ol class=list-inline>\n",
       "\t<li>'P'</li>\n",
       "\t<li>'G'</li>\n",
       "\t<li>'O'</li>\n",
       "\t<li>'P'</li>\n",
       "\t<li>'Q'</li>\n",
       "\t<li>'O'</li>\n",
       "\t<li>'C'</li>\n",
       "\t<li>'E'</li>\n",
       "\t<li>'O'</li>\n",
       "\t<li>'M'</li>\n",
       "\t<li>'L'</li>\n",
       "\t<li>'G'</li>\n",
       "\t<li>'K'</li>\n",
       "\t<li>'A'</li>\n",
       "\t<li>'R'</li>\n",
       "\t<li>'G'</li>\n",
       "\t<li>'M'</li>\n",
       "\t<li>'C'</li>\n",
       "\t<li>'L'</li>\n",
       "\t<li>'T'</li>\n",
       "</ol>\n",
       "</dd>\n",
       "\t<dt>$S4</dt>\n",
       "\t\t<dd><ol class=list-inline>\n",
       "\t<li>'D'</li>\n",
       "\t<li>'F'</li>\n",
       "\t<li>'I'</li>\n",
       "\t<li>'N'</li>\n",
       "\t<li>'T'</li>\n",
       "\t<li>'R'</li>\n",
       "\t<li>'N'</li>\n",
       "\t<li>'S'</li>\n",
       "\t<li>'D'</li>\n",
       "\t<li>'A'</li>\n",
       "\t<li>'M'</li>\n",
       "\t<li>'Q'</li>\n",
       "\t<li>'A'</li>\n",
       "\t<li>'B'</li>\n",
       "\t<li>'R'</li>\n",
       "\t<li>'A'</li>\n",
       "\t<li>'R'</li>\n",
       "\t<li>'K'</li>\n",
       "\t<li>'A'</li>\n",
       "\t<li>'D'</li>\n",
       "</ol>\n",
       "</dd>\n",
       "\t<dt>$S5</dt>\n",
       "\t\t<dd><ol class=list-inline>\n",
       "\t<li>'M'</li>\n",
       "\t<li>'P'</li>\n",
       "\t<li>'O'</li>\n",
       "\t<li>'P'</li>\n",
       "\t<li>'B'</li>\n",
       "\t<li>'H'</li>\n",
       "\t<li>'J'</li>\n",
       "\t<li>'O'</li>\n",
       "\t<li>'K'</li>\n",
       "\t<li>'I'</li>\n",
       "\t<li>'A'</li>\n",
       "\t<li>'S'</li>\n",
       "\t<li>'I'</li>\n",
       "\t<li>'C'</li>\n",
       "\t<li>'T'</li>\n",
       "\t<li>'I'</li>\n",
       "\t<li>'L'</li>\n",
       "\t<li>'P'</li>\n",
       "\t<li>'J'</li>\n",
       "\t<li>'N'</li>\n",
       "</ol>\n",
       "</dd>\n",
       "</dl>\n"
      ],
      "text/latex": [
       "\\begin{description}\n",
       "\\item[\\$S1] \\begin{enumerate*}\n",
       "\\item 'I'\n",
       "\\item 'T'\n",
       "\\item 'L'\n",
       "\\item 'K'\n",
       "\\item 'R'\n",
       "\\item 'O'\n",
       "\\item 'C'\n",
       "\\item 'N'\n",
       "\\item 'K'\n",
       "\\item 'N'\n",
       "\\item 'G'\n",
       "\\item 'A'\n",
       "\\item 'Q'\n",
       "\\item 'R'\n",
       "\\item 'H'\n",
       "\\item 'Q'\n",
       "\\item 'I'\n",
       "\\item 'I'\n",
       "\\item 'T'\n",
       "\\item 'C'\n",
       "\\end{enumerate*}\n",
       "\n",
       "\\item[\\$S2] \\begin{enumerate*}\n",
       "\\item 'M'\n",
       "\\item 'D'\n",
       "\\item 'B'\n",
       "\\item 'R'\n",
       "\\item 'P'\n",
       "\\item 'F'\n",
       "\\item 'R'\n",
       "\\item 'I'\n",
       "\\item 'L'\n",
       "\\item 'O'\n",
       "\\item 'J'\n",
       "\\item 'I'\n",
       "\\item 'Q'\n",
       "\\item 'R'\n",
       "\\item 'E'\n",
       "\\item 'F'\n",
       "\\item 'T'\n",
       "\\item 'G'\n",
       "\\item 'D'\n",
       "\\item 'K'\n",
       "\\end{enumerate*}\n",
       "\n",
       "\\item[\\$S3] \\begin{enumerate*}\n",
       "\\item 'P'\n",
       "\\item 'G'\n",
       "\\item 'O'\n",
       "\\item 'P'\n",
       "\\item 'Q'\n",
       "\\item 'O'\n",
       "\\item 'C'\n",
       "\\item 'E'\n",
       "\\item 'O'\n",
       "\\item 'M'\n",
       "\\item 'L'\n",
       "\\item 'G'\n",
       "\\item 'K'\n",
       "\\item 'A'\n",
       "\\item 'R'\n",
       "\\item 'G'\n",
       "\\item 'M'\n",
       "\\item 'C'\n",
       "\\item 'L'\n",
       "\\item 'T'\n",
       "\\end{enumerate*}\n",
       "\n",
       "\\item[\\$S4] \\begin{enumerate*}\n",
       "\\item 'D'\n",
       "\\item 'F'\n",
       "\\item 'I'\n",
       "\\item 'N'\n",
       "\\item 'T'\n",
       "\\item 'R'\n",
       "\\item 'N'\n",
       "\\item 'S'\n",
       "\\item 'D'\n",
       "\\item 'A'\n",
       "\\item 'M'\n",
       "\\item 'Q'\n",
       "\\item 'A'\n",
       "\\item 'B'\n",
       "\\item 'R'\n",
       "\\item 'A'\n",
       "\\item 'R'\n",
       "\\item 'K'\n",
       "\\item 'A'\n",
       "\\item 'D'\n",
       "\\end{enumerate*}\n",
       "\n",
       "\\item[\\$S5] \\begin{enumerate*}\n",
       "\\item 'M'\n",
       "\\item 'P'\n",
       "\\item 'O'\n",
       "\\item 'P'\n",
       "\\item 'B'\n",
       "\\item 'H'\n",
       "\\item 'J'\n",
       "\\item 'O'\n",
       "\\item 'K'\n",
       "\\item 'I'\n",
       "\\item 'A'\n",
       "\\item 'S'\n",
       "\\item 'I'\n",
       "\\item 'C'\n",
       "\\item 'T'\n",
       "\\item 'I'\n",
       "\\item 'L'\n",
       "\\item 'P'\n",
       "\\item 'J'\n",
       "\\item 'N'\n",
       "\\end{enumerate*}\n",
       "\n",
       "\\end{description}\n"
      ],
      "text/markdown": [
       "$S1\n",
       ":   1. 'I'\n",
       "2. 'T'\n",
       "3. 'L'\n",
       "4. 'K'\n",
       "5. 'R'\n",
       "6. 'O'\n",
       "7. 'C'\n",
       "8. 'N'\n",
       "9. 'K'\n",
       "10. 'N'\n",
       "11. 'G'\n",
       "12. 'A'\n",
       "13. 'Q'\n",
       "14. 'R'\n",
       "15. 'H'\n",
       "16. 'Q'\n",
       "17. 'I'\n",
       "18. 'I'\n",
       "19. 'T'\n",
       "20. 'C'\n",
       "\n",
       "\n",
       "\n",
       "$S2\n",
       ":   1. 'M'\n",
       "2. 'D'\n",
       "3. 'B'\n",
       "4. 'R'\n",
       "5. 'P'\n",
       "6. 'F'\n",
       "7. 'R'\n",
       "8. 'I'\n",
       "9. 'L'\n",
       "10. 'O'\n",
       "11. 'J'\n",
       "12. 'I'\n",
       "13. 'Q'\n",
       "14. 'R'\n",
       "15. 'E'\n",
       "16. 'F'\n",
       "17. 'T'\n",
       "18. 'G'\n",
       "19. 'D'\n",
       "20. 'K'\n",
       "\n",
       "\n",
       "\n",
       "$S3\n",
       ":   1. 'P'\n",
       "2. 'G'\n",
       "3. 'O'\n",
       "4. 'P'\n",
       "5. 'Q'\n",
       "6. 'O'\n",
       "7. 'C'\n",
       "8. 'E'\n",
       "9. 'O'\n",
       "10. 'M'\n",
       "11. 'L'\n",
       "12. 'G'\n",
       "13. 'K'\n",
       "14. 'A'\n",
       "15. 'R'\n",
       "16. 'G'\n",
       "17. 'M'\n",
       "18. 'C'\n",
       "19. 'L'\n",
       "20. 'T'\n",
       "\n",
       "\n",
       "\n",
       "$S4\n",
       ":   1. 'D'\n",
       "2. 'F'\n",
       "3. 'I'\n",
       "4. 'N'\n",
       "5. 'T'\n",
       "6. 'R'\n",
       "7. 'N'\n",
       "8. 'S'\n",
       "9. 'D'\n",
       "10. 'A'\n",
       "11. 'M'\n",
       "12. 'Q'\n",
       "13. 'A'\n",
       "14. 'B'\n",
       "15. 'R'\n",
       "16. 'A'\n",
       "17. 'R'\n",
       "18. 'K'\n",
       "19. 'A'\n",
       "20. 'D'\n",
       "\n",
       "\n",
       "\n",
       "$S5\n",
       ":   1. 'M'\n",
       "2. 'P'\n",
       "3. 'O'\n",
       "4. 'P'\n",
       "5. 'B'\n",
       "6. 'H'\n",
       "7. 'J'\n",
       "8. 'O'\n",
       "9. 'K'\n",
       "10. 'I'\n",
       "11. 'A'\n",
       "12. 'S'\n",
       "13. 'I'\n",
       "14. 'C'\n",
       "15. 'T'\n",
       "16. 'I'\n",
       "17. 'L'\n",
       "18. 'P'\n",
       "19. 'J'\n",
       "20. 'N'\n",
       "\n",
       "\n",
       "\n",
       "\n",
       "\n"
      ],
      "text/plain": [
       "$S1\n",
       " [1] \"I\" \"T\" \"L\" \"K\" \"R\" \"O\" \"C\" \"N\" \"K\" \"N\" \"G\" \"A\" \"Q\" \"R\" \"H\" \"Q\" \"I\" \"I\" \"T\"\n",
       "[20] \"C\"\n",
       "\n",
       "$S2\n",
       " [1] \"M\" \"D\" \"B\" \"R\" \"P\" \"F\" \"R\" \"I\" \"L\" \"O\" \"J\" \"I\" \"Q\" \"R\" \"E\" \"F\" \"T\" \"G\" \"D\"\n",
       "[20] \"K\"\n",
       "\n",
       "$S3\n",
       " [1] \"P\" \"G\" \"O\" \"P\" \"Q\" \"O\" \"C\" \"E\" \"O\" \"M\" \"L\" \"G\" \"K\" \"A\" \"R\" \"G\" \"M\" \"C\" \"L\"\n",
       "[20] \"T\"\n",
       "\n",
       "$S4\n",
       " [1] \"D\" \"F\" \"I\" \"N\" \"T\" \"R\" \"N\" \"S\" \"D\" \"A\" \"M\" \"Q\" \"A\" \"B\" \"R\" \"A\" \"R\" \"K\" \"A\"\n",
       "[20] \"D\"\n",
       "\n",
       "$S5\n",
       " [1] \"M\" \"P\" \"O\" \"P\" \"B\" \"H\" \"J\" \"O\" \"K\" \"I\" \"A\" \"S\" \"I\" \"C\" \"T\" \"I\" \"L\" \"P\" \"J\"\n",
       "[20] \"N\"\n"
      ]
     },
     "metadata": {},
     "output_type": "display_data"
    }
   ],
   "source": [
    "## Create artificial data that consists of five variables (as sets) as a named list object.\n",
    "set <- list()\n",
    "for(i in 1:5){\n",
    "    set[[i]]=sample(LETTERS[1:20], replace=TRUE, prob=rep(0.05,20))\n",
    "}\n",
    "names(set)=c(paste(\"S\", 1:5, sep=\"\"))\n",
    "set"
   ]
  },
  {
   "cell_type": "code",
   "execution_count": 91,
   "metadata": {},
   "outputs": [],
   "source": [
    "## To plot the Venn diagram, use the five sets created in the list set and create the `gList` object.\n",
    "venn.plot <- venn.diagram(x = set, filename = NULL, cat.cex = 1.5, alpha = 0.50, col = \"black\",\n",
    "                          fill = c(\"dodgerblue\",\"goldenrod1\", \"darkorange1\", \"seagreen3\", \"orchid3\"),\n",
    "                          cex= c(1.5, 1.5, 1.5, 1.5, 1.5, 1, 0.8, 1, 0.8, 1, 0.8, 1, 0.8, 1, 0.8,\n",
    "                                 1, 0.55, 1, 0.55, 1, 0.55, 1, 0.55, 1, 0.55, 1, 1, 1, 1, 1, 1.5),\n",
    "                          cat.col = c(\"dodgerblue\", \"goldenrod1\", \"darkorange1\",\"seagreen3\", \"orchid3\"),\n",
    "                          cat.fontface = \"bold\", margin = 0.05)"
   ]
  },
  {
   "cell_type": "code",
   "execution_count": 92,
   "metadata": {},
   "outputs": [
    {
     "data": {
      "text/html": [
       "<strong>png:</strong> 2"
      ],
      "text/latex": [
       "\\textbf{png:} 2"
      ],
      "text/markdown": [
       "**png:** 2"
      ],
      "text/plain": [
       "png \n",
       "  2 "
      ]
     },
     "metadata": {},
     "output_type": "display_data"
    }
   ],
   "source": [
    "## Create the plot onto a PDF file using the `grid.draw` function. \n",
    "pdf(\"F:/venn.pdf\")\n",
    "grid.draw(venn.plot)\n",
    "dev.off()"
   ]
  },
  {
   "cell_type": "code",
   "execution_count": 93,
   "metadata": {},
   "outputs": [],
   "source": [
    "## The volcano plots are used to plot the fold changes and p-values against each other. \n",
    "## Here to deal with a more intuitive representation of the volcano plot using the `ggplot2` library.\n",
    "## Then select the top-ranked genes from the `limma` analysis as a data frame.\n",
    "library(ggplot2)\n",
    "library(leukemiasEset)\n",
    "data(leukemiasEset)\n",
    "pheno <- pData(leukemiasEset)\n",
    "mydata <- leukemiasEset[, sampleNames(leukemiasEset)[c(1:3, 13:15, 25:27, 49:51)]]\n",
    "design <- model.matrix(~0 + factor(pData(mydata)$LeukemiaType))\n",
    "colnames(design) <- unique(as.character(pData(mydata)$LeukemiaType))\n",
    "library(limma)\n",
    "fit <- lmFit(mydata, design)\n",
    "contrast.matrix <- makeContrasts(NoL- ALL, NoL- AML, NoL- CLL, levels = design)\n",
    "fit2 <- contrasts.fit(fit, contrast.matrix)\n",
    "fit2 <- eBayes(fit2)\n",
    "tested2 <- topTable(fit2,adjust=\"fdr\",sort.by=\"B\",number=Inf, coef=1)\n",
    "DE2 <- tested2[tested2$adj.P.Val < 0.01,]"
   ]
  },
  {
   "cell_type": "code",
   "execution_count": 94,
   "metadata": {},
   "outputs": [
    {
     "data": {
      "text/html": [
       "<table>\n",
       "<caption>A data.frame: 6 × 6</caption>\n",
       "<thead>\n",
       "\t<tr><th></th><th scope=col>logFC</th><th scope=col>AveExpr</th><th scope=col>t</th><th scope=col>P.Value</th><th scope=col>adj.P.Val</th><th scope=col>B</th></tr>\n",
       "\t<tr><th></th><th scope=col>&lt;dbl&gt;</th><th scope=col>&lt;dbl&gt;</th><th scope=col>&lt;dbl&gt;</th><th scope=col>&lt;dbl&gt;</th><th scope=col>&lt;dbl&gt;</th><th scope=col>&lt;dbl&gt;</th></tr>\n",
       "</thead>\n",
       "<tbody>\n",
       "\t<tr><th scope=row>ENSG00000152078</th><td> 4.510507</td><td>4.856523</td><td> 28.13988</td><td>4.463747e-11</td><td>9.004270e-07</td><td>14.01472</td></tr>\n",
       "\t<tr><th scope=row>ENSG00000117519</th><td>-4.185175</td><td>4.791585</td><td>-22.73888</td><td>3.878292e-10</td><td>3.911645e-06</td><td>12.69738</td></tr>\n",
       "\t<tr><th scope=row>ENSG00000145850</th><td> 4.142236</td><td>4.507655</td><td> 17.38636</td><td>5.759942e-09</td><td>2.925048e-05</td><td>10.72782</td></tr>\n",
       "\t<tr><th scope=row>ENSG00000170180</th><td> 5.681327</td><td>5.734169</td><td> 17.37423</td><td>5.800214e-09</td><td>2.925048e-05</td><td>10.72231</td></tr>\n",
       "\t<tr><th scope=row>ENSG00000087586</th><td> 3.952183</td><td>5.720789</td><td> 16.45393</td><td>9.977396e-09</td><td>3.111188e-05</td><td>10.28705</td></tr>\n",
       "\t<tr><th scope=row>ENSG00000047597</th><td> 5.362419</td><td>5.108415</td><td> 16.32474</td><td>1.079114e-08</td><td>3.111188e-05</td><td>10.22315</td></tr>\n",
       "</tbody>\n",
       "</table>\n"
      ],
      "text/latex": [
       "A data.frame: 6 × 6\n",
       "\\begin{tabular}{r|llllll}\n",
       "  & logFC & AveExpr & t & P.Value & adj.P.Val & B\\\\\n",
       "  & <dbl> & <dbl> & <dbl> & <dbl> & <dbl> & <dbl>\\\\\n",
       "\\hline\n",
       "\tENSG00000152078 &  4.510507 & 4.856523 &  28.13988 & 4.463747e-11 & 9.004270e-07 & 14.01472\\\\\n",
       "\tENSG00000117519 & -4.185175 & 4.791585 & -22.73888 & 3.878292e-10 & 3.911645e-06 & 12.69738\\\\\n",
       "\tENSG00000145850 &  4.142236 & 4.507655 &  17.38636 & 5.759942e-09 & 2.925048e-05 & 10.72782\\\\\n",
       "\tENSG00000170180 &  5.681327 & 5.734169 &  17.37423 & 5.800214e-09 & 2.925048e-05 & 10.72231\\\\\n",
       "\tENSG00000087586 &  3.952183 & 5.720789 &  16.45393 & 9.977396e-09 & 3.111188e-05 & 10.28705\\\\\n",
       "\tENSG00000047597 &  5.362419 & 5.108415 &  16.32474 & 1.079114e-08 & 3.111188e-05 & 10.22315\\\\\n",
       "\\end{tabular}\n"
      ],
      "text/markdown": [
       "\n",
       "A data.frame: 6 × 6\n",
       "\n",
       "| <!--/--> | logFC &lt;dbl&gt; | AveExpr &lt;dbl&gt; | t &lt;dbl&gt; | P.Value &lt;dbl&gt; | adj.P.Val &lt;dbl&gt; | B &lt;dbl&gt; |\n",
       "|---|---|---|---|---|---|---|\n",
       "| ENSG00000152078 |  4.510507 | 4.856523 |  28.13988 | 4.463747e-11 | 9.004270e-07 | 14.01472 |\n",
       "| ENSG00000117519 | -4.185175 | 4.791585 | -22.73888 | 3.878292e-10 | 3.911645e-06 | 12.69738 |\n",
       "| ENSG00000145850 |  4.142236 | 4.507655 |  17.38636 | 5.759942e-09 | 2.925048e-05 | 10.72782 |\n",
       "| ENSG00000170180 |  5.681327 | 5.734169 |  17.37423 | 5.800214e-09 | 2.925048e-05 | 10.72231 |\n",
       "| ENSG00000087586 |  3.952183 | 5.720789 |  16.45393 | 9.977396e-09 | 3.111188e-05 | 10.28705 |\n",
       "| ENSG00000047597 |  5.362419 | 5.108415 |  16.32474 | 1.079114e-08 | 3.111188e-05 | 10.22315 |\n",
       "\n"
      ],
      "text/plain": [
       "                logFC     AveExpr  t         P.Value      adj.P.Val    B       \n",
       "ENSG00000152078  4.510507 4.856523  28.13988 4.463747e-11 9.004270e-07 14.01472\n",
       "ENSG00000117519 -4.185175 4.791585 -22.73888 3.878292e-10 3.911645e-06 12.69738\n",
       "ENSG00000145850  4.142236 4.507655  17.38636 5.759942e-09 2.925048e-05 10.72782\n",
       "ENSG00000170180  5.681327 5.734169  17.37423 5.800214e-09 2.925048e-05 10.72231\n",
       "ENSG00000087586  3.952183 5.720789  16.45393 9.977396e-09 3.111188e-05 10.28705\n",
       "ENSG00000047597  5.362419 5.108415  16.32474 1.079114e-08 3.111188e-05 10.22315"
      ]
     },
     "metadata": {},
     "output_type": "display_data"
    }
   ],
   "source": [
    "\n",
    "head(tested2)"
   ]
  },
  {
   "cell_type": "code",
   "execution_count": null,
   "metadata": {},
   "outputs": [],
   "source": []
  }
 ],
 "metadata": {
  "kernelspec": {
   "display_name": "R 3.6.2",
   "language": "R",
   "name": "ir362"
  },
  "language_info": {
   "codemirror_mode": "r",
   "file_extension": ".r",
   "mimetype": "text/x-r-source",
   "name": "R",
   "pygments_lexer": "r",
   "version": "3.6.2"
  }
 },
 "nbformat": 4,
 "nbformat_minor": 2
}
